{
  "cells": [
    {
      "cell_type": "markdown",
      "id": "fe053e67-1d6f-471d-bada-9f001562f623",
      "metadata": {
        "id": "fe053e67-1d6f-471d-bada-9f001562f623"
      },
      "source": [
        "\n",
        "<p style=\"text-align: center; font-weight: bold; font-size: 26px; line-height: 1.5;\">\n",
        "    SOLVING FOOD INSECURITY IN AFRICA (Uganda): HARNESSING ARTIFICIAL INTELLIGENCE AND EDGE COMPUTING FOR PRECISION AGRICULTURE\n",
        "</p>"
      ]
    },
    {
      "cell_type": "markdown",
      "id": "a9fa2065-ecc6-4687-9736-b1f463dfc3b3",
      "metadata": {
        "id": "a9fa2065-ecc6-4687-9736-b1f463dfc3b3"
      },
      "source": [
        "<p style=\"text-align: center; font-weight: bold; font-size: 26px; line-height: 1.5;\">\n",
        "    By\n",
        "</p>"
      ]
    },
    {
      "cell_type": "markdown",
      "id": "2d274782-b38a-458c-bd4b-63ce30a1b99d",
      "metadata": {
        "id": "2d274782-b38a-458c-bd4b-63ce30a1b99d"
      },
      "source": [
        "<p style=\"text-align: center; font-weight: bold; font-size: 22px; line-height: 1.5;\">\n",
        "    Tobit BUSHENYULA (A98591)<sup>a</sup>\n",
        "    </p>\n",
        "</p>"
      ]
    },
    {
      "cell_type": "markdown",
      "id": "1834fb56-4346-41ce-a6c4-67020f5bcb77",
      "metadata": {
        "id": "1834fb56-4346-41ce-a6c4-67020f5bcb77"
      },
      "source": [
        "<p style=\"text-align: center; font-weight: bold; font-size: 17px; line-height: 1.5;\">\n",
        "    A PROJECT REPORT SUBMITTED TO THE DEPARTMENT OF COMPUTING AND TECHNOLOGY IN FULFILMENT OF THE REQUIREMENTS FOR FINAL YEAR PROJECT, UGANDA CHRISTIAN UNIVERSITY, MUKONO MAIN CAMPUS\n",
        "    </p>\n",
        "</p>"
      ]
    },
    {
      "cell_type": "markdown",
      "id": "5c2d3537-41da-4119-8126-ed18b84a72ec",
      "metadata": {
        "id": "5c2d3537-41da-4119-8126-ed18b84a72ec"
      },
      "source": [
        "# Abstract\n",
        "\n",
        "In Africa, an estimated 20% of the population is undernourished, with 57 million more people facing hunger since the start of the COVID-19 pandemic.\n",
        "An estimated 868 million people experienced moderate to severe food insecurity in Africa in 2022, with over one-third of those facing severe food\n",
        "insecurity. Hunger trends in Africa show that progress over the decades has\n",
        "abruptly reversed. After a prolonged improvement period since 2000, hunger\n",
        "significantly worsened between 2019 and 2022.\n",
        "\n",
        "This project report details the development of SmartAg, a precision agriculture system that leverages machine learning to enhance farming efficiency. By integrating artificial intelligence with agricultural data—such as soil composition, weather patterns, and crop characteristics—SmartAg aims to provide farmers with real-time insights for data-driven decision-making.\n",
        "\n",
        "The project encompasses various stages, including data collection, preprocessing, transformation, analysis, and predictive modeling. Specifically, SmartAg predicts the best crop to plant based on soil composition, the optimal irrigation schedule based on weather patterns, the ideal timing for fertilizer application, the real-time quality of soil to ensure continuous monitoring.\n",
        "\n",
        "By employing classification models to categorize crops, soil types, and agricultural inputs, SmartAg enables farmers to optimize resource use, improve crop yields, and reduce production costs. In the long run, the system is designed to support the entire farming cycle—from crop selection and planting to growth monitoring and yield prediction—ensuring a more efficient and sustainable agricultural process.\n"
      ]
    },
    {
      "cell_type": "markdown",
      "id": "66477b10-7d6d-4ebb-8c21-ea22d397263f",
      "metadata": {
        "id": "66477b10-7d6d-4ebb-8c21-ea22d397263f"
      },
      "source": [
        "# Table of content\n",
        "\n",
        "\n",
        "\n",
        "."
      ]
    },
    {
      "cell_type": "markdown",
      "id": "c9e69b00-a760-4e17-8eb4-3218aca8cf1d",
      "metadata": {
        "id": "c9e69b00-a760-4e17-8eb4-3218aca8cf1d"
      },
      "source": [
        "<div id = \"1\">\n",
        "\n",
        "# 1. Introduction</div>\n",
        "Precision agriculture is transforming the farming industry by integrating advanced technologies to enhance productivity and sustainability. In Uganda, farmers face challenges such as unpredictable weather patterns, inefficient resource utilization, and declining soil quality. Traditional farming methods often rely on experience and intuition, which may not always lead to optimal outcomes. Machine learning presents a powerful solution by analyzing large datasets to provide accurate and actionable insights.\n",
        "\n",
        "This project focuses on developing SmartAg, a machine learning-based precision agriculture system designed to assist farmers in making data-driven decisions. SmartAg utilizes artificial intelligence to collect, preprocess, analyze, and interpret agricultural data, including soil composition, weather conditions, and crop characteristics. The system is designed to provide real-time predictions on the most suitable crops for planting based on soil composition, the best irrigation schedules considering weather patterns, the optimal timing for fertilizer application, but also\n",
        "Continuous soil quality assessment for improved farm management.\n",
        "\n",
        "To accelerate the initial development and testing of machine learning models, we used open-source datasets, from kaggle, containing agricultural and environmental data. these datasets allow for the early training and validation of classification models, which will later be fine-tuned using real-time Ugandan soil and climate data. By leveraging machine learning, SmartAg aims to empower farmers with data-driven insights, improving efficiency, reducing costs, and increasing crop yields."
      ]
    },
    {
      "cell_type": "markdown",
      "id": "b893c2de-4100-4718-bd48-0c29f5e03649",
      "metadata": {
        "id": "b893c2de-4100-4718-bd48-0c29f5e03649"
      },
      "source": [
        "<div id = \"1.1\">\n",
        "\n",
        "## 1.1. Problem Statement</div>\n",
        "Despite the growing adoption of technology in agriculture, farmers in Uganda still face significant challenges in making informed decisions about crop selection, irrigation, and soil management. Traditional farming practices often rely on experience and general guidelines, which may not account for variations in soil composition, weather patterns, and resource availability. This lack of precise, data-driven insights leads to inefficient resource use, lower yields, and increased production costs.\n",
        "\n",
        "The need for a more intelligent and adaptive farming system is evident. By leveraging machine learning, SmartAg aims to address these challenges by providing real-time, data-driven recommendations to farmers. Through accurate classification of soil properties, weather conditions, and crop suitability, SmartAg seeks to optimize decision-making, enhance productivity, and promote sustainable agricultural practices in Uganda."
      ]
    },
    {
      "cell_type": "markdown",
      "id": "720e5958-61ec-43dd-a92a-8aa127ac634d",
      "metadata": {
        "id": "720e5958-61ec-43dd-a92a-8aa127ac634d"
      },
      "source": [
        "<div id=\"1.2\">\n",
        "    \n",
        "## 1.2. Purpose of the Project</div>\n",
        "The purpose of this project is to develop SmartAg, a machine learning-based precision agriculture system designed to enhance farming efficiency in Uganda. By leveraging artificial intelligence and real-time agricultural data, SmartAg aims to provide accurate predictions and recommendations for crop selection, irrigation scheduling, and soil management.\n",
        "\n",
        "This system will enable farmers to make data-driven decisions, optimize resource utilization, and improve overall productivity. By integrating machine learning models to analyze soil composition, weather patterns, and crop health, SmartAg seeks to enhance agricultural sustainability, reduce costs, and maximize yields, ultimately contributing to food security and economic growth in Uganda."
      ]
    },
    {
      "cell_type": "markdown",
      "id": "319b7b43-909a-4abe-a4b7-07822e0c62b5",
      "metadata": {
        "id": "319b7b43-909a-4abe-a4b7-07822e0c62b5"
      },
      "source": [
        "<div id=\"1.3\">\n",
        "    \n",
        "## 1.3. Objectives of the Project</div>\n",
        "The main objectives of this study are as follows:\n",
        "\n",
        "1. Data Collection and Preprocessing: To gather and preprocess soil data, including soil composition, weather patterns, and crop characteristics, ensuring quality and consistency.\n",
        "2. Exploratory Data Analysis (EDA): To analyze the collected data, identify trends, and extract meaningful insights for better decision-making. (this will be done on a trimestrial basis, after each 3 months.)\n",
        "3. Model Development: To develop and train machine learning classification models that can accurately predict crop suitability, input usage optimization, and soil quality.\n",
        "4. Model Evaluation: To assess the performance of the developed models using appropriate metrics, ensuring reliability and accuracy in agricultural predictions.\n",
        "5. Implementation: To integrate the best-performing model into the SmartAg system, providing farmers with a user-friendly, real-time decision support tool."
      ]
    },
    {
      "cell_type": "markdown",
      "id": "7070df22-a567-4e8f-bf55-b07c82341c12",
      "metadata": {
        "id": "7070df22-a567-4e8f-bf55-b07c82341c12"
      },
      "source": [
        "<div id=\"1.4\">\n",
        "    \n",
        "## 1.4. Hypothesis of the Project</div>\n",
        "Based on the project's objectives, we propose the following hypotheses:\n",
        "\n",
        "1. Primary Hypothesis:\n",
        "\n",
        "H1: The application of machine learning techniques to precision agriculture will significantly enhance decision-making for farmers by providing accurate predictions for crop selection, irrigation scheduling, input usage optimization, and soil quality assessment.\n",
        "\n",
        "3. Secondary Hypotheses:\n",
        "\n",
        "H2: The use of classification models for analyzing soil composition and crop suitability will outperform traditional farming practices by enabling more precise and data-driven decision-making.\n",
        "\n",
        "H3: Real-time agricultural data processing and predictive modeling will lead to improved resource utilization and increased crop yields compared to conventional farming methods."
      ]
    },
    {
      "cell_type": "markdown",
      "id": "8169ab5b-6090-4d4d-a88d-b29d37ac1cf0",
      "metadata": {
        "id": "8169ab5b-6090-4d4d-a88d-b29d37ac1cf0"
      },
      "source": [
        "<div id=\"2\">\n",
        "    \n",
        "# 2. Methodology</div>\n",
        "The methodology section outlines the structured approach used in developing SmartAg, a machine learning-based precision agriculture system. This process involves several key stages: data collection, preprocessing, exploratory data analysis, feature engineering, model selection and training, evaluation, deployment, monitoring, and continuous improvement.\n",
        "\n",
        "Each stage is crucial to ensuring that the SmartAg system is accurate, reliable, and effective in providing real-time agricultural insights. By integrating machine learning techniques, the system aims to assist farmers in making informed decisions regarding crop selection, irrigation scheduling, and soil quality management, ultimately leading to increased productivity and sustainability in Uganda’s agricultural sector."
      ]
    },
    {
      "cell_type": "markdown",
      "id": "fa733103-d2aa-440d-8a34-794f11ff2b82",
      "metadata": {
        "id": "fa733103-d2aa-440d-8a34-794f11ff2b82"
      },
      "source": [
        "<div id=\"2.1\">\n",
        "    \n",
        "## 2.1. Data Collection</div>\n",
        "Data collection is fundamental to the success of this project. To ensure the accuracy and applicability of the SmartAg system, a diverse set of agricultural and environmental data sources were utilized. Below are the steps taken for data collection:"
      ]
    },
    {
      "cell_type": "markdown",
      "id": "9bc6147a-208b-48e0-a246-39d09ff72945",
      "metadata": {
        "id": "9bc6147a-208b-48e0-a246-39d09ff72945"
      },
      "source": [
        "<div id=\"2.1.1\">\n",
        "    \n",
        "## 2.1.1 Identification of the Suitable Datasets\n",
        "\n",
        "To develop a reliable SmartAg system, suitable datasets were identified that cover a wide range of agricultural and environmental data. The search focused on datasets related to soil composition, input optimizaation, and crop growth, the data was collected from kagle and, for better precision and the aim to properly train the models, was augmented using Generative AI. As said earlier, most of these datasets were sourced from reputable platforms like Kaggle, ensuring they provide sufficient historical data to capture seasonal variations and long-term agricultural trends. However, there was a bit of challenge getting the right dataset since there is data collection scarcity in most of africans countries.\n",
        "    \n",
        "This dataset selection was crucial for training and testing machine learning models that would offer accurate predictions for crop selection, irrigation scheduling, and soil quality assessment."
      ]
    },
    {
      "cell_type": "markdown",
      "id": "21e89d1d-290d-4336-b837-5739575bd5e7",
      "metadata": {
        "id": "21e89d1d-290d-4336-b837-5739575bd5e7"
      },
      "source": [
        "# **MODEL TRAINING PHASE**"
      ]
    },
    {
      "cell_type": "code",
      "execution_count": null,
      "id": "b6a68046-f57a-4d33-a7df-b09e74a6439c",
      "metadata": {
        "id": "b6a68046-f57a-4d33-a7df-b09e74a6439c"
      },
      "outputs": [],
      "source": [
        "from sklearn.ensemble import RandomForestClassifier\n",
        "from sklearn.model_selection import train_test_split, cross_val_score\n",
        "import pandas as pd\n",
        "from sklearn.metrics import classification_report, accuracy_score, confusion_matrix\n",
        "import numpy as np\n",
        "import matplotlib.pyplot as plt\n",
        "import seaborn as sns"
      ]
    },
    {
      "cell_type": "markdown",
      "id": "ba33c590-e93d-4e73-85f5-45880a6218e1",
      "metadata": {
        "id": "ba33c590-e93d-4e73-85f5-45880a6218e1"
      },
      "source": [
        "### **1. Crop Reccomandation Model v.1.0**:\n",
        "\n",
        "Here I am starting by creating a crop recommendation model that will predict what is the right crop to plant based on the nutrients in the soil.\n",
        "Here I will first not use any scalling and I will use either one hot encoding or label encoding for the target values (check how to do predictions when labels have been encoded)."
      ]
    },
    {
      "cell_type": "markdown",
      "id": "022ddde5-5608-44c4-b608-12f74fea6c70",
      "metadata": {
        "id": "022ddde5-5608-44c4-b608-12f74fea6c70"
      },
      "source": [
        "Here is the link to the dataset used for crop reccomandation work : https://www.kaggle.com/datasets/atharvaingle/crop-recommendation-dataset"
      ]
    },
    {
      "cell_type": "markdown",
      "id": "e88b9832-6a62-4cc1-8f00-25445b83d36a",
      "metadata": {
        "id": "e88b9832-6a62-4cc1-8f00-25445b83d36a"
      },
      "source": [
        "Importing and Previewing the Crop reccomandation dataset"
      ]
    },
    {
      "cell_type": "code",
      "execution_count": null,
      "id": "c8fcf39c-9f8c-494a-b84b-fa1fb87e1276",
      "metadata": {
        "id": "c8fcf39c-9f8c-494a-b84b-fa1fb87e1276",
        "outputId": "666122d3-a425-4ccf-aedc-842223d337d1"
      },
      "outputs": [
        {
          "data": {
            "text/html": [
              "<div>\n",
              "<style scoped>\n",
              "    .dataframe tbody tr th:only-of-type {\n",
              "        vertical-align: middle;\n",
              "    }\n",
              "\n",
              "    .dataframe tbody tr th {\n",
              "        vertical-align: top;\n",
              "    }\n",
              "\n",
              "    .dataframe thead th {\n",
              "        text-align: right;\n",
              "    }\n",
              "</style>\n",
              "<table border=\"1\" class=\"dataframe\">\n",
              "  <thead>\n",
              "    <tr style=\"text-align: right;\">\n",
              "      <th></th>\n",
              "      <th>Nitrogen</th>\n",
              "      <th>Phosphorus</th>\n",
              "      <th>Potassium</th>\n",
              "      <th>Soil_Temperature</th>\n",
              "      <th>Soil_Moisture</th>\n",
              "      <th>Crop</th>\n",
              "    </tr>\n",
              "  </thead>\n",
              "  <tbody>\n",
              "    <tr>\n",
              "      <th>0</th>\n",
              "      <td>154.95</td>\n",
              "      <td>28.44</td>\n",
              "      <td>88.43</td>\n",
              "      <td>31.21</td>\n",
              "      <td>66.49</td>\n",
              "      <td>Rice</td>\n",
              "    </tr>\n",
              "    <tr>\n",
              "      <th>1</th>\n",
              "      <td>95.47</td>\n",
              "      <td>28.66</td>\n",
              "      <td>79.71</td>\n",
              "      <td>22.32</td>\n",
              "      <td>19.49</td>\n",
              "      <td>Sweet Potatoes</td>\n",
              "    </tr>\n",
              "    <tr>\n",
              "      <th>2</th>\n",
              "      <td>118.23</td>\n",
              "      <td>34.29</td>\n",
              "      <td>75.85</td>\n",
              "      <td>10.23</td>\n",
              "      <td>40.64</td>\n",
              "      <td>Millet</td>\n",
              "    </tr>\n",
              "    <tr>\n",
              "      <th>3</th>\n",
              "      <td>135.79</td>\n",
              "      <td>59.26</td>\n",
              "      <td>179.35</td>\n",
              "      <td>26.95</td>\n",
              "      <td>61.37</td>\n",
              "      <td>Tea</td>\n",
              "    </tr>\n",
              "    <tr>\n",
              "      <th>4</th>\n",
              "      <td>51.28</td>\n",
              "      <td>24.77</td>\n",
              "      <td>63.03</td>\n",
              "      <td>13.02</td>\n",
              "      <td>28.98</td>\n",
              "      <td>Cassava</td>\n",
              "    </tr>\n",
              "  </tbody>\n",
              "</table>\n",
              "</div>"
            ],
            "text/plain": [
              "   Nitrogen  Phosphorus  Potassium  Soil_Temperature  Soil_Moisture  \\\n",
              "0    154.95       28.44      88.43             31.21          66.49   \n",
              "1     95.47       28.66      79.71             22.32          19.49   \n",
              "2    118.23       34.29      75.85             10.23          40.64   \n",
              "3    135.79       59.26     179.35             26.95          61.37   \n",
              "4     51.28       24.77      63.03             13.02          28.98   \n",
              "\n",
              "             Crop  \n",
              "0            Rice  \n",
              "1  Sweet Potatoes  \n",
              "2          Millet  \n",
              "3             Tea  \n",
              "4         Cassava  "
            ]
          },
          "execution_count": 6,
          "metadata": {},
          "output_type": "execute_result"
        }
      ],
      "source": [
        "croprec = pd.read_csv('crop_recommendation_dataset.csv')\n",
        "croprec.head()"
      ]
    },
    {
      "cell_type": "code",
      "execution_count": null,
      "id": "71a9857c-5b6a-4c7e-b210-3653c266fd7d",
      "metadata": {
        "id": "71a9857c-5b6a-4c7e-b210-3653c266fd7d"
      },
      "outputs": [],
      "source": [
        "# At this point my dataset is clean,without any missing value or impurity,\n",
        "# So, I proceed to one-hot encoding of the target column (Crop) before splitting the data - this is because my target column is nominal not ordinal."
      ]
    },
    {
      "cell_type": "markdown",
      "id": "7c1ce46b-e87e-44d6-ba6b-845034354a2b",
      "metadata": {
        "id": "7c1ce46b-e87e-44d6-ba6b-845034354a2b"
      },
      "source": [
        "<div id = \"2.1.4\">\n",
        "\n",
        "### 2.1.4 General Overview of the Soil Prediction Dataset at a High Level</div>\n",
        "\n",
        "This dataset was build by augmenting datasets of rainfall, climate and fertilizer data available for India. This dataset is also taillored to central africna countries becaause, climate-wise, India and Central African countries share some similarities, especially in their tropical regions, but there are notable differences due to their distinct geographical locations."
      ]
    },
    {
      "cell_type": "markdown",
      "id": "080c1896-1a12-4699-b734-3aca26d7cf61",
      "metadata": {
        "id": "080c1896-1a12-4699-b734-3aca26d7cf61"
      },
      "source": [
        "### Basic Information about the Dataset:"
      ]
    },
    {
      "cell_type": "code",
      "execution_count": null,
      "id": "33d67982-5528-494a-9a84-5f6cea9da1ba",
      "metadata": {
        "id": "33d67982-5528-494a-9a84-5f6cea9da1ba",
        "outputId": "1744504a-843f-4d01-b82d-0f5cc1be5eff"
      },
      "outputs": [
        {
          "name": "stdout",
          "output_type": "stream",
          "text": [
            "<class 'pandas.core.frame.DataFrame'>\n",
            "RangeIndex: 100000 entries, 0 to 99999\n",
            "Data columns (total 6 columns):\n",
            " #   Column            Non-Null Count   Dtype  \n",
            "---  ------            --------------   -----  \n",
            " 0   Nitrogen          100000 non-null  float64\n",
            " 1   Phosphorus        100000 non-null  float64\n",
            " 2   Potassium         100000 non-null  float64\n",
            " 3   Soil_Temperature  100000 non-null  float64\n",
            " 4   Soil_Moisture     100000 non-null  float64\n",
            " 5   Crop              100000 non-null  object \n",
            "dtypes: float64(5), object(1)\n",
            "memory usage: 4.6+ MB\n"
          ]
        }
      ],
      "source": [
        "croprec.info()"
      ]
    },
    {
      "cell_type": "code",
      "execution_count": null,
      "id": "bf97c111-b448-4d33-8a0b-6d890dbb7eef",
      "metadata": {
        "id": "bf97c111-b448-4d33-8a0b-6d890dbb7eef",
        "outputId": "2d5f281d-5f9c-4e54-d732-03d8390a9924"
      },
      "outputs": [
        {
          "data": {
            "text/plain": [
              "(100000, 6)"
            ]
          },
          "execution_count": 8,
          "metadata": {},
          "output_type": "execute_result"
        }
      ],
      "source": [
        "# Let us get info about the shape ofo the Dataframe created\n",
        "croprec.shape"
      ]
    },
    {
      "cell_type": "code",
      "execution_count": null,
      "id": "8792c971-f0f8-4b79-9975-236082b6990c",
      "metadata": {
        "id": "8792c971-f0f8-4b79-9975-236082b6990c",
        "outputId": "5088edca-c6b9-4d57-fd8e-e8903b441158"
      },
      "outputs": [
        {
          "data": {
            "text/plain": [
              "Index(['Nitrogen', 'Phosphorus', 'Potassium', 'Soil_Temperature',\n",
              "       'Soil_Moisture', 'Crop'],\n",
              "      dtype='object')"
            ]
          },
          "execution_count": 10,
          "metadata": {},
          "output_type": "execute_result"
        }
      ],
      "source": [
        "croprec.columns"
      ]
    },
    {
      "cell_type": "markdown",
      "id": "945eaa9b-9e8f-4f25-8156-7ee4ab278a29",
      "metadata": {
        "id": "945eaa9b-9e8f-4f25-8156-7ee4ab278a29"
      },
      "source": [
        "### VARIABLE DESCRIPTIONS:"
      ]
    },
    {
      "cell_type": "markdown",
      "id": "c1b799d7-3608-4209-b632-deb5fd898c3c",
      "metadata": {
        "id": "c1b799d7-3608-4209-b632-deb5fd898c3c"
      },
      "source": [
        "| Variable | Description |\n",
        "| --- | -- |\n",
        "| Nitrogen\t| Nitrogen is an essential nutrient for plants, promoting healthy growth, green foliage, and the overall development of crops. |\n",
        "| Phosphorus | Phosphorus is crucial for root development, flower and fruit production, and overall energy transfer within plants. |\n",
        "| Potassium\t| Potassium helps regulate various plant functions, including water uptake, enzyme activation, and overall stress resistance.|\n",
        "| Soil Temperature | Soil temperature affects seed germination, root growth, and the overall health of plants, influencing nutrient uptake and biological activity in the soil.|\n",
        "| Soil Moisture\t| Soil moisture refers to the amount of water present in the soil, which is vital for plant hydration, nutrient absorption, and overall crop yield.|\n",
        "| Crop | A crop refers to any plant cultivated for food, fiber, or other economic purposes, typically grown in large quantities for commercial or subsistence use.|"
      ]
    },
    {
      "cell_type": "markdown",
      "id": "c8c1f9e2-c2ec-4698-bbfe-19c74db3453f",
      "metadata": {
        "id": "c8c1f9e2-c2ec-4698-bbfe-19c74db3453f"
      },
      "source": [
        "#### Calculating the Mean, Median, Mode & Standard Deviation of Numerical Variables"
      ]
    },
    {
      "cell_type": "code",
      "execution_count": null,
      "id": "3ac8ceb1-2d6a-44f8-ab2b-274cdd3cfe45",
      "metadata": {
        "id": "3ac8ceb1-2d6a-44f8-ab2b-274cdd3cfe45",
        "outputId": "be7007fb-7e56-4639-87f0-31b990e5ceac"
      },
      "outputs": [
        {
          "name": "stdout",
          "output_type": "stream",
          "text": [
            "                        Mean  Median    Mode  Standard Deviation\n",
            "Nitrogen          117.926502  114.91  115.84           38.450144\n",
            "Phosphorus         34.578266   32.94   26.38           11.698346\n",
            "Potassium         105.218722   96.95   68.90           39.129027\n",
            "Soil_Temperature   22.522152   22.54   16.45            7.223565\n",
            "Soil_Moisture      44.867395   44.83   13.28           20.213382\n"
          ]
        }
      ],
      "source": [
        "# Selecting numerical columns from the dataframe\n",
        "numeric_vars = croprec.select_dtypes(include = [float, int])\n",
        "\n",
        "# Calculating mean, median, mode, and standard deviation for each numerical column\n",
        "summary_stats = pd.DataFrame({\n",
        "    \"Mean\": numeric_vars.mean(),\n",
        "    \"Median\": numeric_vars.median(),\n",
        "    \"Mode\": numeric_vars.mode().iloc[0],\n",
        "    \"Standard Deviation\": numeric_vars.std()\n",
        "    })\n",
        "\n",
        "# Printing summary statistics\n",
        "print(summary_stats)"
      ]
    },
    {
      "cell_type": "code",
      "execution_count": null,
      "id": "836bc341-4a60-46e1-aa32-690342276bb0",
      "metadata": {
        "id": "836bc341-4a60-46e1-aa32-690342276bb0",
        "outputId": "5c8031d5-0e23-4791-e2e4-0080cfdd3607"
      },
      "outputs": [
        {
          "name": "stdout",
          "output_type": "stream",
          "text": [
            "Crop: 12 unique values\n"
          ]
        }
      ],
      "source": [
        "# Identification of categorical variables\n",
        "categorical_vars = croprec.select_dtypes(include = ['object']).columns.tolist()\n",
        "\n",
        "# Determining the number of unique values in each categorical column\n",
        "for col in categorical_vars:\n",
        "    print(f\"{col}: {croprec[col].nunique()} unique values\")"
      ]
    },
    {
      "cell_type": "code",
      "execution_count": null,
      "id": "2e1d3174-0ff1-4afc-bd1d-81d954339fda",
      "metadata": {
        "id": "2e1d3174-0ff1-4afc-bd1d-81d954339fda"
      },
      "outputs": [],
      "source": [
        "# Data Splitting for further work\n",
        "X=croprec.drop('Crop', axis = 1)\n",
        "y=croprec['Crop']"
      ]
    },
    {
      "cell_type": "markdown",
      "id": "f65b40a9-7e25-46f6-bc40-985cf5c47679",
      "metadata": {
        "id": "f65b40a9-7e25-46f6-bc40-985cf5c47679"
      },
      "source": [
        "<div id = \"2.2.2\">\n",
        "\n",
        "### 2.2.2 Data Transformation</div>\n"
      ]
    },
    {
      "cell_type": "markdown",
      "id": "c14f33a2-11b1-4d1e-9613-d93e55664f29",
      "metadata": {
        "id": "c14f33a2-11b1-4d1e-9613-d93e55664f29"
      },
      "source": [
        "#### 1. Converting Categorical Data to Numerical format\n",
        "We converted categorical variables to numerical format using techniques like one-hot encoding or label encoding. Here I used the get_dummies because it does the label encoding part, by giving each value in the selected column, a specific compatible format."
      ]
    },
    {
      "cell_type": "code",
      "execution_count": null,
      "id": "685006b3-2b28-465a-bdcd-74d7b2b2c9a0",
      "metadata": {
        "id": "685006b3-2b28-465a-bdcd-74d7b2b2c9a0"
      },
      "outputs": [],
      "source": [
        "# Now I use the pd.get_dummies to encode my data into TRUE and FALSE values, then convert those into 1s and 0s.\n",
        "y_encoded_df = pd.get_dummies(y, columns=['Crop'], prefix='Crop')\n",
        "y_encoded_df"
      ]
    },
    {
      "cell_type": "code",
      "execution_count": null,
      "id": "6e4ff30c-af2b-4f0b-b287-e0334ee969dc",
      "metadata": {
        "id": "6e4ff30c-af2b-4f0b-b287-e0334ee969dc"
      },
      "outputs": [],
      "source": [
        "y = y_encoded_df.astype(int)\n",
        "y"
      ]
    },
    {
      "cell_type": "code",
      "execution_count": null,
      "id": "1c22eb96-b477-459c-92b6-90d20f827047",
      "metadata": {
        "id": "1c22eb96-b477-459c-92b6-90d20f827047"
      },
      "outputs": [],
      "source": [
        "# first we set the seed to keep the splitting constant:\n",
        "np.random.seed(42)\n",
        "\n",
        "# let us now split the data before the training :\n",
        "X_train, X_test, y_train, y_test = train_test_split(X, y, test_size=0.3)"
      ]
    },
    {
      "cell_type": "code",
      "execution_count": null,
      "id": "00dfeb96-339a-4b99-a25a-f11a4e979258",
      "metadata": {
        "id": "00dfeb96-339a-4b99-a25a-f11a4e979258",
        "outputId": "ac809a97-cf06-4c1b-c3f4-d41bbec4c2f2"
      },
      "outputs": [
        {
          "data": {
            "text/html": [
              "<style>#sk-container-id-5 {\n",
              "  /* Definition of color scheme common for light and dark mode */\n",
              "  --sklearn-color-text: black;\n",
              "  --sklearn-color-line: gray;\n",
              "  /* Definition of color scheme for unfitted estimators */\n",
              "  --sklearn-color-unfitted-level-0: #fff5e6;\n",
              "  --sklearn-color-unfitted-level-1: #f6e4d2;\n",
              "  --sklearn-color-unfitted-level-2: #ffe0b3;\n",
              "  --sklearn-color-unfitted-level-3: chocolate;\n",
              "  /* Definition of color scheme for fitted estimators */\n",
              "  --sklearn-color-fitted-level-0: #f0f8ff;\n",
              "  --sklearn-color-fitted-level-1: #d4ebff;\n",
              "  --sklearn-color-fitted-level-2: #b3dbfd;\n",
              "  --sklearn-color-fitted-level-3: cornflowerblue;\n",
              "\n",
              "  /* Specific color for light theme */\n",
              "  --sklearn-color-text-on-default-background: var(--sg-text-color, var(--theme-code-foreground, var(--jp-content-font-color1, black)));\n",
              "  --sklearn-color-background: var(--sg-background-color, var(--theme-background, var(--jp-layout-color0, white)));\n",
              "  --sklearn-color-border-box: var(--sg-text-color, var(--theme-code-foreground, var(--jp-content-font-color1, black)));\n",
              "  --sklearn-color-icon: #696969;\n",
              "\n",
              "  @media (prefers-color-scheme: dark) {\n",
              "    /* Redefinition of color scheme for dark theme */\n",
              "    --sklearn-color-text-on-default-background: var(--sg-text-color, var(--theme-code-foreground, var(--jp-content-font-color1, white)));\n",
              "    --sklearn-color-background: var(--sg-background-color, var(--theme-background, var(--jp-layout-color0, #111)));\n",
              "    --sklearn-color-border-box: var(--sg-text-color, var(--theme-code-foreground, var(--jp-content-font-color1, white)));\n",
              "    --sklearn-color-icon: #878787;\n",
              "  }\n",
              "}\n",
              "\n",
              "#sk-container-id-5 {\n",
              "  color: var(--sklearn-color-text);\n",
              "}\n",
              "\n",
              "#sk-container-id-5 pre {\n",
              "  padding: 0;\n",
              "}\n",
              "\n",
              "#sk-container-id-5 input.sk-hidden--visually {\n",
              "  border: 0;\n",
              "  clip: rect(1px 1px 1px 1px);\n",
              "  clip: rect(1px, 1px, 1px, 1px);\n",
              "  height: 1px;\n",
              "  margin: -1px;\n",
              "  overflow: hidden;\n",
              "  padding: 0;\n",
              "  position: absolute;\n",
              "  width: 1px;\n",
              "}\n",
              "\n",
              "#sk-container-id-5 div.sk-dashed-wrapped {\n",
              "  border: 1px dashed var(--sklearn-color-line);\n",
              "  margin: 0 0.4em 0.5em 0.4em;\n",
              "  box-sizing: border-box;\n",
              "  padding-bottom: 0.4em;\n",
              "  background-color: var(--sklearn-color-background);\n",
              "}\n",
              "\n",
              "#sk-container-id-5 div.sk-container {\n",
              "  /* jupyter's `normalize.less` sets `[hidden] { display: none; }`\n",
              "     but bootstrap.min.css set `[hidden] { display: none !important; }`\n",
              "     so we also need the `!important` here to be able to override the\n",
              "     default hidden behavior on the sphinx rendered scikit-learn.org.\n",
              "     See: https://github.com/scikit-learn/scikit-learn/issues/21755 */\n",
              "  display: inline-block !important;\n",
              "  position: relative;\n",
              "}\n",
              "\n",
              "#sk-container-id-5 div.sk-text-repr-fallback {\n",
              "  display: none;\n",
              "}\n",
              "\n",
              "div.sk-parallel-item,\n",
              "div.sk-serial,\n",
              "div.sk-item {\n",
              "  /* draw centered vertical line to link estimators */\n",
              "  background-image: linear-gradient(var(--sklearn-color-text-on-default-background), var(--sklearn-color-text-on-default-background));\n",
              "  background-size: 2px 100%;\n",
              "  background-repeat: no-repeat;\n",
              "  background-position: center center;\n",
              "}\n",
              "\n",
              "/* Parallel-specific style estimator block */\n",
              "\n",
              "#sk-container-id-5 div.sk-parallel-item::after {\n",
              "  content: \"\";\n",
              "  width: 100%;\n",
              "  border-bottom: 2px solid var(--sklearn-color-text-on-default-background);\n",
              "  flex-grow: 1;\n",
              "}\n",
              "\n",
              "#sk-container-id-5 div.sk-parallel {\n",
              "  display: flex;\n",
              "  align-items: stretch;\n",
              "  justify-content: center;\n",
              "  background-color: var(--sklearn-color-background);\n",
              "  position: relative;\n",
              "}\n",
              "\n",
              "#sk-container-id-5 div.sk-parallel-item {\n",
              "  display: flex;\n",
              "  flex-direction: column;\n",
              "}\n",
              "\n",
              "#sk-container-id-5 div.sk-parallel-item:first-child::after {\n",
              "  align-self: flex-end;\n",
              "  width: 50%;\n",
              "}\n",
              "\n",
              "#sk-container-id-5 div.sk-parallel-item:last-child::after {\n",
              "  align-self: flex-start;\n",
              "  width: 50%;\n",
              "}\n",
              "\n",
              "#sk-container-id-5 div.sk-parallel-item:only-child::after {\n",
              "  width: 0;\n",
              "}\n",
              "\n",
              "/* Serial-specific style estimator block */\n",
              "\n",
              "#sk-container-id-5 div.sk-serial {\n",
              "  display: flex;\n",
              "  flex-direction: column;\n",
              "  align-items: center;\n",
              "  background-color: var(--sklearn-color-background);\n",
              "  padding-right: 1em;\n",
              "  padding-left: 1em;\n",
              "}\n",
              "\n",
              "\n",
              "/* Toggleable style: style used for estimator/Pipeline/ColumnTransformer box that is\n",
              "clickable and can be expanded/collapsed.\n",
              "- Pipeline and ColumnTransformer use this feature and define the default style\n",
              "- Estimators will overwrite some part of the style using the `sk-estimator` class\n",
              "*/\n",
              "\n",
              "/* Pipeline and ColumnTransformer style (default) */\n",
              "\n",
              "#sk-container-id-5 div.sk-toggleable {\n",
              "  /* Default theme specific background. It is overwritten whether we have a\n",
              "  specific estimator or a Pipeline/ColumnTransformer */\n",
              "  background-color: var(--sklearn-color-background);\n",
              "}\n",
              "\n",
              "/* Toggleable label */\n",
              "#sk-container-id-5 label.sk-toggleable__label {\n",
              "  cursor: pointer;\n",
              "  display: block;\n",
              "  width: 100%;\n",
              "  margin-bottom: 0;\n",
              "  padding: 0.5em;\n",
              "  box-sizing: border-box;\n",
              "  text-align: center;\n",
              "}\n",
              "\n",
              "#sk-container-id-5 label.sk-toggleable__label-arrow:before {\n",
              "  /* Arrow on the left of the label */\n",
              "  content: \"▸\";\n",
              "  float: left;\n",
              "  margin-right: 0.25em;\n",
              "  color: var(--sklearn-color-icon);\n",
              "}\n",
              "\n",
              "#sk-container-id-5 label.sk-toggleable__label-arrow:hover:before {\n",
              "  color: var(--sklearn-color-text);\n",
              "}\n",
              "\n",
              "/* Toggleable content - dropdown */\n",
              "\n",
              "#sk-container-id-5 div.sk-toggleable__content {\n",
              "  max-height: 0;\n",
              "  max-width: 0;\n",
              "  overflow: hidden;\n",
              "  text-align: left;\n",
              "  /* unfitted */\n",
              "  background-color: var(--sklearn-color-unfitted-level-0);\n",
              "}\n",
              "\n",
              "#sk-container-id-5 div.sk-toggleable__content.fitted {\n",
              "  /* fitted */\n",
              "  background-color: var(--sklearn-color-fitted-level-0);\n",
              "}\n",
              "\n",
              "#sk-container-id-5 div.sk-toggleable__content pre {\n",
              "  margin: 0.2em;\n",
              "  border-radius: 0.25em;\n",
              "  color: var(--sklearn-color-text);\n",
              "  /* unfitted */\n",
              "  background-color: var(--sklearn-color-unfitted-level-0);\n",
              "}\n",
              "\n",
              "#sk-container-id-5 div.sk-toggleable__content.fitted pre {\n",
              "  /* unfitted */\n",
              "  background-color: var(--sklearn-color-fitted-level-0);\n",
              "}\n",
              "\n",
              "#sk-container-id-5 input.sk-toggleable__control:checked~div.sk-toggleable__content {\n",
              "  /* Expand drop-down */\n",
              "  max-height: 200px;\n",
              "  max-width: 100%;\n",
              "  overflow: auto;\n",
              "}\n",
              "\n",
              "#sk-container-id-5 input.sk-toggleable__control:checked~label.sk-toggleable__label-arrow:before {\n",
              "  content: \"▾\";\n",
              "}\n",
              "\n",
              "/* Pipeline/ColumnTransformer-specific style */\n",
              "\n",
              "#sk-container-id-5 div.sk-label input.sk-toggleable__control:checked~label.sk-toggleable__label {\n",
              "  color: var(--sklearn-color-text);\n",
              "  background-color: var(--sklearn-color-unfitted-level-2);\n",
              "}\n",
              "\n",
              "#sk-container-id-5 div.sk-label.fitted input.sk-toggleable__control:checked~label.sk-toggleable__label {\n",
              "  background-color: var(--sklearn-color-fitted-level-2);\n",
              "}\n",
              "\n",
              "/* Estimator-specific style */\n",
              "\n",
              "/* Colorize estimator box */\n",
              "#sk-container-id-5 div.sk-estimator input.sk-toggleable__control:checked~label.sk-toggleable__label {\n",
              "  /* unfitted */\n",
              "  background-color: var(--sklearn-color-unfitted-level-2);\n",
              "}\n",
              "\n",
              "#sk-container-id-5 div.sk-estimator.fitted input.sk-toggleable__control:checked~label.sk-toggleable__label {\n",
              "  /* fitted */\n",
              "  background-color: var(--sklearn-color-fitted-level-2);\n",
              "}\n",
              "\n",
              "#sk-container-id-5 div.sk-label label.sk-toggleable__label,\n",
              "#sk-container-id-5 div.sk-label label {\n",
              "  /* The background is the default theme color */\n",
              "  color: var(--sklearn-color-text-on-default-background);\n",
              "}\n",
              "\n",
              "/* On hover, darken the color of the background */\n",
              "#sk-container-id-5 div.sk-label:hover label.sk-toggleable__label {\n",
              "  color: var(--sklearn-color-text);\n",
              "  background-color: var(--sklearn-color-unfitted-level-2);\n",
              "}\n",
              "\n",
              "/* Label box, darken color on hover, fitted */\n",
              "#sk-container-id-5 div.sk-label.fitted:hover label.sk-toggleable__label.fitted {\n",
              "  color: var(--sklearn-color-text);\n",
              "  background-color: var(--sklearn-color-fitted-level-2);\n",
              "}\n",
              "\n",
              "/* Estimator label */\n",
              "\n",
              "#sk-container-id-5 div.sk-label label {\n",
              "  font-family: monospace;\n",
              "  font-weight: bold;\n",
              "  display: inline-block;\n",
              "  line-height: 1.2em;\n",
              "}\n",
              "\n",
              "#sk-container-id-5 div.sk-label-container {\n",
              "  text-align: center;\n",
              "}\n",
              "\n",
              "/* Estimator-specific */\n",
              "#sk-container-id-5 div.sk-estimator {\n",
              "  font-family: monospace;\n",
              "  border: 1px dotted var(--sklearn-color-border-box);\n",
              "  border-radius: 0.25em;\n",
              "  box-sizing: border-box;\n",
              "  margin-bottom: 0.5em;\n",
              "  /* unfitted */\n",
              "  background-color: var(--sklearn-color-unfitted-level-0);\n",
              "}\n",
              "\n",
              "#sk-container-id-5 div.sk-estimator.fitted {\n",
              "  /* fitted */\n",
              "  background-color: var(--sklearn-color-fitted-level-0);\n",
              "}\n",
              "\n",
              "/* on hover */\n",
              "#sk-container-id-5 div.sk-estimator:hover {\n",
              "  /* unfitted */\n",
              "  background-color: var(--sklearn-color-unfitted-level-2);\n",
              "}\n",
              "\n",
              "#sk-container-id-5 div.sk-estimator.fitted:hover {\n",
              "  /* fitted */\n",
              "  background-color: var(--sklearn-color-fitted-level-2);\n",
              "}\n",
              "\n",
              "/* Specification for estimator info (e.g. \"i\" and \"?\") */\n",
              "\n",
              "/* Common style for \"i\" and \"?\" */\n",
              "\n",
              ".sk-estimator-doc-link,\n",
              "a:link.sk-estimator-doc-link,\n",
              "a:visited.sk-estimator-doc-link {\n",
              "  float: right;\n",
              "  font-size: smaller;\n",
              "  line-height: 1em;\n",
              "  font-family: monospace;\n",
              "  background-color: var(--sklearn-color-background);\n",
              "  border-radius: 1em;\n",
              "  height: 1em;\n",
              "  width: 1em;\n",
              "  text-decoration: none !important;\n",
              "  margin-left: 1ex;\n",
              "  /* unfitted */\n",
              "  border: var(--sklearn-color-unfitted-level-1) 1pt solid;\n",
              "  color: var(--sklearn-color-unfitted-level-1);\n",
              "}\n",
              "\n",
              ".sk-estimator-doc-link.fitted,\n",
              "a:link.sk-estimator-doc-link.fitted,\n",
              "a:visited.sk-estimator-doc-link.fitted {\n",
              "  /* fitted */\n",
              "  border: var(--sklearn-color-fitted-level-1) 1pt solid;\n",
              "  color: var(--sklearn-color-fitted-level-1);\n",
              "}\n",
              "\n",
              "/* On hover */\n",
              "div.sk-estimator:hover .sk-estimator-doc-link:hover,\n",
              ".sk-estimator-doc-link:hover,\n",
              "div.sk-label-container:hover .sk-estimator-doc-link:hover,\n",
              ".sk-estimator-doc-link:hover {\n",
              "  /* unfitted */\n",
              "  background-color: var(--sklearn-color-unfitted-level-3);\n",
              "  color: var(--sklearn-color-background);\n",
              "  text-decoration: none;\n",
              "}\n",
              "\n",
              "div.sk-estimator.fitted:hover .sk-estimator-doc-link.fitted:hover,\n",
              ".sk-estimator-doc-link.fitted:hover,\n",
              "div.sk-label-container:hover .sk-estimator-doc-link.fitted:hover,\n",
              ".sk-estimator-doc-link.fitted:hover {\n",
              "  /* fitted */\n",
              "  background-color: var(--sklearn-color-fitted-level-3);\n",
              "  color: var(--sklearn-color-background);\n",
              "  text-decoration: none;\n",
              "}\n",
              "\n",
              "/* Span, style for the box shown on hovering the info icon */\n",
              ".sk-estimator-doc-link span {\n",
              "  display: none;\n",
              "  z-index: 9999;\n",
              "  position: relative;\n",
              "  font-weight: normal;\n",
              "  right: .2ex;\n",
              "  padding: .5ex;\n",
              "  margin: .5ex;\n",
              "  width: min-content;\n",
              "  min-width: 20ex;\n",
              "  max-width: 50ex;\n",
              "  color: var(--sklearn-color-text);\n",
              "  box-shadow: 2pt 2pt 4pt #999;\n",
              "  /* unfitted */\n",
              "  background: var(--sklearn-color-unfitted-level-0);\n",
              "  border: .5pt solid var(--sklearn-color-unfitted-level-3);\n",
              "}\n",
              "\n",
              ".sk-estimator-doc-link.fitted span {\n",
              "  /* fitted */\n",
              "  background: var(--sklearn-color-fitted-level-0);\n",
              "  border: var(--sklearn-color-fitted-level-3);\n",
              "}\n",
              "\n",
              ".sk-estimator-doc-link:hover span {\n",
              "  display: block;\n",
              "}\n",
              "\n",
              "/* \"?\"-specific style due to the `<a>` HTML tag */\n",
              "\n",
              "#sk-container-id-5 a.estimator_doc_link {\n",
              "  float: right;\n",
              "  font-size: 1rem;\n",
              "  line-height: 1em;\n",
              "  font-family: monospace;\n",
              "  background-color: var(--sklearn-color-background);\n",
              "  border-radius: 1rem;\n",
              "  height: 1rem;\n",
              "  width: 1rem;\n",
              "  text-decoration: none;\n",
              "  /* unfitted */\n",
              "  color: var(--sklearn-color-unfitted-level-1);\n",
              "  border: var(--sklearn-color-unfitted-level-1) 1pt solid;\n",
              "}\n",
              "\n",
              "#sk-container-id-5 a.estimator_doc_link.fitted {\n",
              "  /* fitted */\n",
              "  border: var(--sklearn-color-fitted-level-1) 1pt solid;\n",
              "  color: var(--sklearn-color-fitted-level-1);\n",
              "}\n",
              "\n",
              "/* On hover */\n",
              "#sk-container-id-5 a.estimator_doc_link:hover {\n",
              "  /* unfitted */\n",
              "  background-color: var(--sklearn-color-unfitted-level-3);\n",
              "  color: var(--sklearn-color-background);\n",
              "  text-decoration: none;\n",
              "}\n",
              "\n",
              "#sk-container-id-5 a.estimator_doc_link.fitted:hover {\n",
              "  /* fitted */\n",
              "  background-color: var(--sklearn-color-fitted-level-3);\n",
              "}\n",
              "</style><div id=\"sk-container-id-5\" class=\"sk-top-container\"><div class=\"sk-text-repr-fallback\"><pre>RandomForestClassifier()</pre><b>In a Jupyter environment, please rerun this cell to show the HTML representation or trust the notebook. <br />On GitHub, the HTML representation is unable to render, please try loading this page with nbviewer.org.</b></div><div class=\"sk-container\" hidden><div class=\"sk-item\"><div class=\"sk-estimator fitted sk-toggleable\"><input class=\"sk-toggleable__control sk-hidden--visually\" id=\"sk-estimator-id-5\" type=\"checkbox\" checked><label for=\"sk-estimator-id-5\" class=\"sk-toggleable__label fitted sk-toggleable__label-arrow fitted\">&nbsp;&nbsp;RandomForestClassifier<a class=\"sk-estimator-doc-link fitted\" rel=\"noreferrer\" target=\"_blank\" href=\"https://scikit-learn.org/1.5/modules/generated/sklearn.ensemble.RandomForestClassifier.html\">?<span>Documentation for RandomForestClassifier</span></a><span class=\"sk-estimator-doc-link fitted\">i<span>Fitted</span></span></label><div class=\"sk-toggleable__content fitted\"><pre>RandomForestClassifier()</pre></div> </div></div></div></div>"
            ],
            "text/plain": [
              "RandomForestClassifier()"
            ]
          },
          "execution_count": 84,
          "metadata": {},
          "output_type": "execute_result"
        }
      ],
      "source": [
        "# Now, based on the dataset we have and its size, we will use an ensemble classifier which is the RandomForest classifier:\n",
        "\n",
        "forest = RandomForestClassifier()\n",
        "forest.fit(X_train, y_train)\n"
      ]
    },
    {
      "cell_type": "markdown",
      "id": "0739b403-597b-4716-b0ee-70500f356922",
      "metadata": {
        "id": "0739b403-597b-4716-b0ee-70500f356922"
      },
      "source": [
        "### **NOTE:**\n",
        "\n",
        "**Random forest classifier** is a classification model that has the reputation of being very accurate and precise at doing predictions and classifications. That is the prior reason why I personally started by using it over others.\n",
        "\n",
        "The first training was done without any model finetunnimg, this to see how the model performs without finetuning it."
      ]
    },
    {
      "cell_type": "code",
      "execution_count": null,
      "id": "0df376a9-2973-4464-adbc-3ef467d3626d",
      "metadata": {
        "id": "0df376a9-2973-4464-adbc-3ef467d3626d"
      },
      "outputs": [],
      "source": [
        "\n",
        "cros_val = cross_val_score(forest, X, y, cv = 10)\n",
        "cros_val"
      ]
    },
    {
      "cell_type": "code",
      "execution_count": null,
      "id": "f90c144c-348c-40ed-a203-ae0b0bcde832",
      "metadata": {
        "id": "f90c144c-348c-40ed-a203-ae0b0bcde832",
        "outputId": "61a13f67-0c09-48c0-b1cf-a9b765d019b9"
      },
      "outputs": [
        {
          "data": {
            "text/plain": [
              "0.3737666666666667"
            ]
          },
          "execution_count": 85,
          "metadata": {},
          "output_type": "execute_result"
        }
      ],
      "source": [
        "forest.score(X_test, y_test)"
      ]
    },
    {
      "cell_type": "markdown",
      "id": "5dd2b7f0-a40d-49da-b085-1911dc9f50cc",
      "metadata": {
        "id": "5dd2b7f0-a40d-49da-b085-1911dc9f50cc"
      },
      "source": [
        "### **NOTE:**\n",
        "\n",
        "As you can see, while using the data as it is without any scalling, any encoding and any finetuning, the model is performing poorly, so we nee\"d to look for a better solution. And here the logic step is to try other ML algorythm, but before that, since the random forestclassifier is onen of the most effective models, we need to check its performance in different scenarions."
      ]
    },
    {
      "cell_type": "code",
      "execution_count": null,
      "id": "36d598d1-77af-4e24-a0eb-2ac9021f7893",
      "metadata": {
        "id": "36d598d1-77af-4e24-a0eb-2ac9021f7893"
      },
      "outputs": [],
      "source": [
        "# Prepare the dataset\n",
        "\n",
        "X = crop_data.drop('Crop', axis = 1)\n",
        "y = crop_data['Crop']\n",
        "\n",
        "# Split the dataset\n",
        "X_train, X_test, y_train, y_test = train_test_split(X, y, test_size=0.2, random_state=42)"
      ]
    },
    {
      "cell_type": "markdown",
      "id": "5cb0e3cf-5309-4a0a-ab0c-e423bd03b038",
      "metadata": {
        "id": "5cb0e3cf-5309-4a0a-ab0c-e423bd03b038"
      },
      "source": [
        "### CORRELATION ANALYSIS:"
      ]
    },
    {
      "cell_type": "code",
      "execution_count": null,
      "id": "f37c1bd6-bac1-4bff-a832-e5e57e394a4c",
      "metadata": {
        "id": "f37c1bd6-bac1-4bff-a832-e5e57e394a4c",
        "outputId": "7620dc6b-d582-4a01-cd12-f56ee687c98a"
      },
      "outputs": [
        {
          "data": {
            "text/html": [
              "<div>\n",
              "<style scoped>\n",
              "    .dataframe tbody tr th:only-of-type {\n",
              "        vertical-align: middle;\n",
              "    }\n",
              "\n",
              "    .dataframe tbody tr th {\n",
              "        vertical-align: top;\n",
              "    }\n",
              "\n",
              "    .dataframe thead th {\n",
              "        text-align: right;\n",
              "    }\n",
              "</style>\n",
              "<table border=\"1\" class=\"dataframe\">\n",
              "  <thead>\n",
              "    <tr style=\"text-align: right;\">\n",
              "      <th></th>\n",
              "      <th>Nitrogen</th>\n",
              "      <th>Phosphorus</th>\n",
              "      <th>Potassium</th>\n",
              "      <th>Soil_Temperature</th>\n",
              "      <th>Soil_Moisture</th>\n",
              "      <th>Crop</th>\n",
              "    </tr>\n",
              "  </thead>\n",
              "  <tbody>\n",
              "    <tr>\n",
              "      <th>Nitrogen</th>\n",
              "      <td>1.000000</td>\n",
              "      <td>0.391061</td>\n",
              "      <td>0.600158</td>\n",
              "      <td>0.003096</td>\n",
              "      <td>-0.005050</td>\n",
              "      <td>0.102314</td>\n",
              "    </tr>\n",
              "    <tr>\n",
              "      <th>Phosphorus</th>\n",
              "      <td>0.391061</td>\n",
              "      <td>1.000000</td>\n",
              "      <td>0.463729</td>\n",
              "      <td>0.000060</td>\n",
              "      <td>-0.002881</td>\n",
              "      <td>0.025114</td>\n",
              "    </tr>\n",
              "    <tr>\n",
              "      <th>Potassium</th>\n",
              "      <td>0.600158</td>\n",
              "      <td>0.463729</td>\n",
              "      <td>1.000000</td>\n",
              "      <td>0.002205</td>\n",
              "      <td>-0.001865</td>\n",
              "      <td>0.098280</td>\n",
              "    </tr>\n",
              "    <tr>\n",
              "      <th>Soil_Temperature</th>\n",
              "      <td>0.003096</td>\n",
              "      <td>0.000060</td>\n",
              "      <td>0.002205</td>\n",
              "      <td>1.000000</td>\n",
              "      <td>0.004132</td>\n",
              "      <td>0.008402</td>\n",
              "    </tr>\n",
              "    <tr>\n",
              "      <th>Soil_Moisture</th>\n",
              "      <td>-0.005050</td>\n",
              "      <td>-0.002881</td>\n",
              "      <td>-0.001865</td>\n",
              "      <td>0.004132</td>\n",
              "      <td>1.000000</td>\n",
              "      <td>-0.000489</td>\n",
              "    </tr>\n",
              "    <tr>\n",
              "      <th>Crop</th>\n",
              "      <td>0.102314</td>\n",
              "      <td>0.025114</td>\n",
              "      <td>0.098280</td>\n",
              "      <td>0.008402</td>\n",
              "      <td>-0.000489</td>\n",
              "      <td>1.000000</td>\n",
              "    </tr>\n",
              "  </tbody>\n",
              "</table>\n",
              "</div>"
            ],
            "text/plain": [
              "                  Nitrogen  Phosphorus  Potassium  Soil_Temperature  \\\n",
              "Nitrogen          1.000000    0.391061   0.600158          0.003096   \n",
              "Phosphorus        0.391061    1.000000   0.463729          0.000060   \n",
              "Potassium         0.600158    0.463729   1.000000          0.002205   \n",
              "Soil_Temperature  0.003096    0.000060   0.002205          1.000000   \n",
              "Soil_Moisture    -0.005050   -0.002881  -0.001865          0.004132   \n",
              "Crop              0.102314    0.025114   0.098280          0.008402   \n",
              "\n",
              "                  Soil_Moisture      Crop  \n",
              "Nitrogen              -0.005050  0.102314  \n",
              "Phosphorus            -0.002881  0.025114  \n",
              "Potassium             -0.001865  0.098280  \n",
              "Soil_Temperature       0.004132  0.008402  \n",
              "Soil_Moisture          1.000000 -0.000489  \n",
              "Crop                  -0.000489  1.000000  "
            ]
          },
          "execution_count": 34,
          "metadata": {},
          "output_type": "execute_result"
        }
      ],
      "source": [
        "\n",
        "crop_data.corr()"
      ]
    },
    {
      "cell_type": "markdown",
      "id": "d5134554-db60-44dc-a1ab-b00f6d053c06",
      "metadata": {
        "id": "d5134554-db60-44dc-a1ab-b00f6d053c06"
      },
      "source": [
        "### **Now, Trying the training with the additional procedures:** :"
      ]
    },
    {
      "cell_type": "markdown",
      "id": "126d3202-f0c9-4cf7-b381-030b87dcd8fe",
      "metadata": {
        "id": "126d3202-f0c9-4cf7-b381-030b87dcd8fe"
      },
      "source": [
        "### Data-Preprocessing(Cleaning):\n",
        "\n",
        "the data that we had was fortunatelly pre-cleaned, allowing us to go straight to the pre-training step, with already cleaned data."
      ]
    },
    {
      "cell_type": "code",
      "execution_count": null,
      "id": "d808471e-9243-4f23-9c6b-622e98c3f76a",
      "metadata": {
        "id": "d808471e-9243-4f23-9c6b-622e98c3f76a",
        "outputId": "e1858955-e72d-4dba-eb91-3a7e8067ca1b"
      },
      "outputs": [
        {
          "name": "stdout",
          "output_type": "stream",
          "text": [
            "Missing values in each column:\n",
            "Nitrogen            0\n",
            "Phosphorus          0\n",
            "Potassium           0\n",
            "Soil_Temperature    0\n",
            "Soil_Moisture       0\n",
            "Crop                0\n",
            "dtype: int64\n"
          ]
        }
      ],
      "source": [
        "# Check for any missing values in the weather dataset.\n",
        "missing_values = crop_data.isnull().sum()\n",
        "print(\"Missing values in each column:\")\n",
        "print(missing_values)"
      ]
    },
    {
      "cell_type": "code",
      "execution_count": null,
      "id": "12fa50c0-9567-4996-9f3f-273d49618a4f",
      "metadata": {
        "id": "12fa50c0-9567-4996-9f3f-273d49618a4f",
        "outputId": "719befbf-bb49-4717-c2fb-5fe0f0865a45"
      },
      "outputs": [
        {
          "data": {
            "image/png": "[encoded data removed]",
            "text/plain": [
              "<Figure size 1500x1000 with 6 Axes>"
            ]
          },
          "metadata": {},
          "output_type": "display_data"
        }
      ],
      "source": [
        "# Identifying Outliers in Numerical Variables using Histograms\n",
        "import seaborn as sns\n",
        "import matplotlib.pyplot as plt\n",
        "\n",
        "# Selecting the variables to plot\n",
        "numeric_vars = ['Nitrogen', 'Phosphorus', 'Potassium','Soil_Temperature', 'Soil_Moisture', 'Crop']\n",
        "\n",
        "# Determining the number of rows and columns for subplots\n",
        "num_plots = len(numeric_vars)\n",
        "num_rows = (num_plots + 2) // 3\n",
        "num_cols = min(num_plots, 3)\n",
        "\n",
        "# Creating subplots with specified dimensions\n",
        "fig, axes = plt.subplots(num_rows, num_cols, figsize=(15, 10))\n",
        "axes = axes.ravel()\n",
        "\n",
        "# Iterating through selected variables and creating individual histograms with colors\n",
        "for i, var in enumerate(numeric_vars):\n",
        "    ax = axes[i]\n",
        "    sns.histplot(croprec[var], kde=True, color=f'C{i}', ax=ax)\n",
        "    ax.set_title(var)\n",
        "    ax.set_xlabel('')\n",
        "    ax.set_ylabel('')\n",
        "\n",
        "# Removing any empty subplots\n",
        "for i in range(num_plots, num_rows * num_cols):\n",
        "    fig.delaxes(axes[i])\n",
        "\n",
        "# Setting the overall title for the entire plot\n",
        "plt.suptitle('Histograms Exhibiting the Distribution of Numerical Variables', fontsize=16)\n",
        "\n",
        "plt.tight_layout()"
      ]
    },
    {
      "cell_type": "code",
      "execution_count": null,
      "id": "abebbf0a-9856-4d4c-8316-966b0c7aaa5a",
      "metadata": {
        "id": "abebbf0a-9856-4d4c-8316-966b0c7aaa5a",
        "outputId": "6af4f813-c56f-439a-af06-d864f91ff429"
      },
      "outputs": [
        {
          "data": {
            "image/png": "[encoded data removed]",
            "text/plain": [
              "<Figure size 1500x400 with 6 Axes>"
            ]
          },
          "metadata": {},
          "output_type": "display_data"
        }
      ],
      "source": [
        "# Identifying Outliers in Numerical Variables using Boxplots\n",
        "import seaborn as sns\n",
        "import matplotlib.pyplot as plt\n",
        "\n",
        "# Selecting the variables to plot\n",
        "numeric_vars = ['Nitrogen', 'Phosphorus', 'Potassium','Soil_Temperature', 'Soil_Moisture', 'Crop']\n",
        "# Creating a list of colors for boxplots\n",
        "colors = ['b', 'g', 'r', 'c', 'm', 'k', 'y']\n",
        "\n",
        "# Creating subplots\n",
        "fig, axs = plt.subplots(1, len(numeric_vars), figsize=(15, 4))\n",
        "\n",
        "# Iterating through selected variables and creating individual boxplots with colors\n",
        "for i, col in enumerate(numeric_vars):\n",
        "    sns.boxplot(y=croprec[col], ax=axs[i], orient='v', color=colors[i])\n",
        "    axs[i].set_title(col)\n",
        "    axs[i].set_xlabel('')\n",
        "\n",
        "# Setting the overall title for the entire plot\n",
        "fig.suptitle('Boxplots of Numerical Variables', fontsize=16)\n",
        "\n",
        "plt.tight_layout()"
      ]
    },
    {
      "cell_type": "markdown",
      "id": "83cf0845-1801-416c-94c6-1bec4c2bb71d",
      "metadata": {
        "id": "83cf0845-1801-416c-94c6-1bec4c2bb71d"
      },
      "source": [
        "## OBSERVATION:\n",
        "As it is seen here, there is not any outlier in any of the columns as shown here. this also avoids us to do the outlier treatment."
      ]
    },
    {
      "cell_type": "code",
      "execution_count": null,
      "id": "8e5ecd5c-6f8c-4cea-95c8-950718373583",
      "metadata": {
        "id": "8e5ecd5c-6f8c-4cea-95c8-950718373583",
        "outputId": "929e63a4-644a-4895-e0da-3faed770022b"
      },
      "outputs": [
        {
          "data": {
            "text/plain": [
              "Index(['Nitrogen', 'Phosphorus', 'Potassium', 'Soil_Temperature',\n",
              "       'Soil_Moisture', 'Crop'],\n",
              "      dtype='object')"
            ]
          },
          "execution_count": 32,
          "metadata": {},
          "output_type": "execute_result"
        }
      ],
      "source": [
        "croprec.columns"
      ]
    },
    {
      "cell_type": "markdown",
      "id": "0d394327-597e-4e69-9ba9-c55c79ec12fd",
      "metadata": {
        "id": "0d394327-597e-4e69-9ba9-c55c79ec12fd"
      },
      "source": [
        "### **NOTE:**\n",
        "\n",
        "We need to note that there is a procedure that is followed when there is the presence of missing data in the dataset. When the missing data is a very small portion of the data (5% as an example), then we can successfully complete the missing data without integrating false/biased data."
      ]
    },
    {
      "cell_type": "code",
      "execution_count": null,
      "id": "b2318d7f-49b2-45c9-80aa-7f0844135fa1",
      "metadata": {
        "id": "b2318d7f-49b2-45c9-80aa-7f0844135fa1"
      },
      "outputs": [],
      "source": [
        "# Prepare the dataset\n",
        "deep_crop = pd.read_csv('crop_recommendation_dataset.csv.csv')\n",
        "deep_crop.head()\n"
      ]
    },
    {
      "cell_type": "code",
      "execution_count": null,
      "id": "97ad8652-2c03-453b-91c5-3ec549226ad6",
      "metadata": {
        "id": "97ad8652-2c03-453b-91c5-3ec549226ad6",
        "outputId": "a1773e66-da72-4799-a335-a8e192d2bb46"
      },
      "outputs": [
        {
          "data": {
            "text/html": [
              "<div>\n",
              "<style scoped>\n",
              "    .dataframe tbody tr th:only-of-type {\n",
              "        vertical-align: middle;\n",
              "    }\n",
              "\n",
              "    .dataframe tbody tr th {\n",
              "        vertical-align: top;\n",
              "    }\n",
              "\n",
              "    .dataframe thead th {\n",
              "        text-align: right;\n",
              "    }\n",
              "</style>\n",
              "<table border=\"1\" class=\"dataframe\">\n",
              "  <thead>\n",
              "    <tr style=\"text-align: right;\">\n",
              "      <th></th>\n",
              "      <th>Nitrogen</th>\n",
              "      <th>Phosphorus</th>\n",
              "      <th>Potassium</th>\n",
              "      <th>Temperature</th>\n",
              "      <th>Humidity</th>\n",
              "      <th>pH_Value</th>\n",
              "      <th>Rainfall</th>\n",
              "      <th>Crop</th>\n",
              "    </tr>\n",
              "  </thead>\n",
              "  <tbody>\n",
              "    <tr>\n",
              "      <th>2195</th>\n",
              "      <td>107</td>\n",
              "      <td>34</td>\n",
              "      <td>32</td>\n",
              "      <td>26.774637</td>\n",
              "      <td>66.413269</td>\n",
              "      <td>6.780064</td>\n",
              "      <td>177.774507</td>\n",
              "      <td>Coffee</td>\n",
              "    </tr>\n",
              "    <tr>\n",
              "      <th>2196</th>\n",
              "      <td>99</td>\n",
              "      <td>15</td>\n",
              "      <td>27</td>\n",
              "      <td>27.417112</td>\n",
              "      <td>56.636362</td>\n",
              "      <td>6.086922</td>\n",
              "      <td>127.924610</td>\n",
              "      <td>Coffee</td>\n",
              "    </tr>\n",
              "    <tr>\n",
              "      <th>2197</th>\n",
              "      <td>118</td>\n",
              "      <td>33</td>\n",
              "      <td>30</td>\n",
              "      <td>24.131797</td>\n",
              "      <td>67.225123</td>\n",
              "      <td>6.362608</td>\n",
              "      <td>173.322839</td>\n",
              "      <td>Coffee</td>\n",
              "    </tr>\n",
              "    <tr>\n",
              "      <th>2198</th>\n",
              "      <td>117</td>\n",
              "      <td>32</td>\n",
              "      <td>34</td>\n",
              "      <td>26.272418</td>\n",
              "      <td>52.127394</td>\n",
              "      <td>6.758793</td>\n",
              "      <td>127.175293</td>\n",
              "      <td>Coffee</td>\n",
              "    </tr>\n",
              "    <tr>\n",
              "      <th>2199</th>\n",
              "      <td>104</td>\n",
              "      <td>18</td>\n",
              "      <td>30</td>\n",
              "      <td>23.603016</td>\n",
              "      <td>60.396475</td>\n",
              "      <td>6.779833</td>\n",
              "      <td>140.937041</td>\n",
              "      <td>Coffee</td>\n",
              "    </tr>\n",
              "  </tbody>\n",
              "</table>\n",
              "</div>"
            ],
            "text/plain": [
              "      Nitrogen  Phosphorus  Potassium  Temperature   Humidity  pH_Value  \\\n",
              "2195       107          34         32    26.774637  66.413269  6.780064   \n",
              "2196        99          15         27    27.417112  56.636362  6.086922   \n",
              "2197       118          33         30    24.131797  67.225123  6.362608   \n",
              "2198       117          32         34    26.272418  52.127394  6.758793   \n",
              "2199       104          18         30    23.603016  60.396475  6.779833   \n",
              "\n",
              "        Rainfall    Crop  \n",
              "2195  177.774507  Coffee  \n",
              "2196  127.924610  Coffee  \n",
              "2197  173.322839  Coffee  \n",
              "2198  127.175293  Coffee  \n",
              "2199  140.937041  Coffee  "
            ]
          },
          "execution_count": 71,
          "metadata": {},
          "output_type": "execute_result"
        }
      ],
      "source": [
        "deep_crop.tail()"
      ]
    },
    {
      "cell_type": "code",
      "execution_count": null,
      "id": "8e103955-d634-440e-92b6-20506d7677ea",
      "metadata": {
        "id": "8e103955-d634-440e-92b6-20506d7677ea",
        "outputId": "aa0ee8a2-2951-4f17-cca9-87225f342fbc"
      },
      "outputs": [
        {
          "data": {
            "text/plain": [
              "Crop\n",
              "Rice           100\n",
              "Maize          100\n",
              "Jute           100\n",
              "Cotton         100\n",
              "Coconut        100\n",
              "Papaya         100\n",
              "Orange         100\n",
              "Apple          100\n",
              "Muskmelon      100\n",
              "Watermelon     100\n",
              "Grapes         100\n",
              "Mango          100\n",
              "Banana         100\n",
              "Pomegranate    100\n",
              "Lentil         100\n",
              "Blackgram      100\n",
              "MungBean       100\n",
              "MothBeans      100\n",
              "PigeonPeas     100\n",
              "KidneyBeans    100\n",
              "ChickPea       100\n",
              "Coffee         100\n",
              "Name: count, dtype: int64"
            ]
          },
          "execution_count": 13,
          "metadata": {},
          "output_type": "execute_result"
        }
      ],
      "source": [
        "deep_crop['Crop'].value_counts()"
      ]
    },
    {
      "cell_type": "markdown",
      "id": "2ae67b4c-4fc7-49ce-a5c3-ce245532f2a2",
      "metadata": {
        "id": "2ae67b4c-4fc7-49ce-a5c3-ce245532f2a2"
      },
      "source": [
        "### **NOTE:**\n",
        "\n",
        "- with the lack of moisture data in most of the datasets, we can use humidity as the moisture (we will be collecting moisture and placing it where humidity is, but this will be done when adjusting one value to another).\n",
        "  \n",
        "- Challenges were met when trying to collect the weather data (rainfall).\n"
      ]
    },
    {
      "cell_type": "markdown",
      "id": "e27b22d1-c718-4074-bd12-3dbcd14e1541",
      "metadata": {
        "id": "e27b22d1-c718-4074-bd12-3dbcd14e1541"
      },
      "source": [
        "<div id = \"2.4.4\">\n",
        "\n",
        "### 2.2.3. Splitting Data into Training and Testing sets for Model Training</div>\n",
        "I chose to do feature selection by correlation test. I tried this and it seems to be effective in a way that I will be splitting and using only the most relevant data from the dataset, which strongly depend on how strong is the correlation between the different predictors and the target feature."
      ]
    },
    {
      "cell_type": "code",
      "execution_count": null,
      "id": "01843fd4-58b6-405d-be9d-981ab9d57dc1",
      "metadata": {
        "id": "01843fd4-58b6-405d-be9d-981ab9d57dc1"
      },
      "outputs": [],
      "source": [
        "# Data Preparation for ML model training\n",
        "X = deep_crop.drop('Crop', axis = 1)\n",
        "y = deep_crop['Crop']\n",
        "\n",
        "# Split the dataset\n",
        "X_train, X_test, y_train, y_test = train_test_split(X, y, test_size=0.2, random_state=42)"
      ]
    },
    {
      "cell_type": "code",
      "execution_count": null,
      "id": "0f24af44-6eba-4bdf-af21-d2407a35811f",
      "metadata": {
        "id": "0f24af44-6eba-4bdf-af21-d2407a35811f",
        "outputId": "4674bc8d-41ed-4b07-c9ba-b743bb95caae"
      },
      "outputs": [
        {
          "data": {
            "text/html": [
              "<div>\n",
              "<style scoped>\n",
              "    .dataframe tbody tr th:only-of-type {\n",
              "        vertical-align: middle;\n",
              "    }\n",
              "\n",
              "    .dataframe tbody tr th {\n",
              "        vertical-align: top;\n",
              "    }\n",
              "\n",
              "    .dataframe thead th {\n",
              "        text-align: right;\n",
              "    }\n",
              "</style>\n",
              "<table border=\"1\" class=\"dataframe\">\n",
              "  <thead>\n",
              "    <tr style=\"text-align: right;\">\n",
              "      <th></th>\n",
              "      <th>Nitrogen</th>\n",
              "      <th>Phosphorus</th>\n",
              "      <th>Potassium</th>\n",
              "      <th>Temperature</th>\n",
              "      <th>Humidity</th>\n",
              "      <th>pH_Value</th>\n",
              "      <th>Rainfall</th>\n",
              "    </tr>\n",
              "  </thead>\n",
              "  <tbody>\n",
              "    <tr>\n",
              "      <th>1451</th>\n",
              "      <td>101</td>\n",
              "      <td>17</td>\n",
              "      <td>47</td>\n",
              "      <td>29.494014</td>\n",
              "      <td>94.729813</td>\n",
              "      <td>6.185053</td>\n",
              "      <td>26.308209</td>\n",
              "    </tr>\n",
              "    <tr>\n",
              "      <th>1334</th>\n",
              "      <td>98</td>\n",
              "      <td>8</td>\n",
              "      <td>51</td>\n",
              "      <td>26.179346</td>\n",
              "      <td>86.522581</td>\n",
              "      <td>6.259336</td>\n",
              "      <td>49.430510</td>\n",
              "    </tr>\n",
              "    <tr>\n",
              "      <th>1761</th>\n",
              "      <td>59</td>\n",
              "      <td>62</td>\n",
              "      <td>49</td>\n",
              "      <td>43.360515</td>\n",
              "      <td>93.351916</td>\n",
              "      <td>6.941497</td>\n",
              "      <td>114.778071</td>\n",
              "    </tr>\n",
              "    <tr>\n",
              "      <th>1735</th>\n",
              "      <td>44</td>\n",
              "      <td>60</td>\n",
              "      <td>55</td>\n",
              "      <td>34.280461</td>\n",
              "      <td>90.555616</td>\n",
              "      <td>6.825371</td>\n",
              "      <td>98.540477</td>\n",
              "    </tr>\n",
              "    <tr>\n",
              "      <th>1576</th>\n",
              "      <td>30</td>\n",
              "      <td>137</td>\n",
              "      <td>200</td>\n",
              "      <td>22.914300</td>\n",
              "      <td>90.704756</td>\n",
              "      <td>5.603413</td>\n",
              "      <td>118.604465</td>\n",
              "    </tr>\n",
              "    <tr>\n",
              "      <th>...</th>\n",
              "      <td>...</td>\n",
              "      <td>...</td>\n",
              "      <td>...</td>\n",
              "      <td>...</td>\n",
              "      <td>...</td>\n",
              "      <td>...</td>\n",
              "      <td>...</td>\n",
              "    </tr>\n",
              "    <tr>\n",
              "      <th>59</th>\n",
              "      <td>99</td>\n",
              "      <td>55</td>\n",
              "      <td>35</td>\n",
              "      <td>21.723831</td>\n",
              "      <td>80.238990</td>\n",
              "      <td>6.501698</td>\n",
              "      <td>277.962619</td>\n",
              "    </tr>\n",
              "    <tr>\n",
              "      <th>71</th>\n",
              "      <td>67</td>\n",
              "      <td>45</td>\n",
              "      <td>38</td>\n",
              "      <td>22.727910</td>\n",
              "      <td>82.170688</td>\n",
              "      <td>7.300411</td>\n",
              "      <td>260.887506</td>\n",
              "    </tr>\n",
              "    <tr>\n",
              "      <th>1908</th>\n",
              "      <td>121</td>\n",
              "      <td>47</td>\n",
              "      <td>16</td>\n",
              "      <td>23.605640</td>\n",
              "      <td>79.295731</td>\n",
              "      <td>7.723240</td>\n",
              "      <td>72.498009</td>\n",
              "    </tr>\n",
              "    <tr>\n",
              "      <th>1958</th>\n",
              "      <td>116</td>\n",
              "      <td>52</td>\n",
              "      <td>19</td>\n",
              "      <td>22.942767</td>\n",
              "      <td>75.371706</td>\n",
              "      <td>6.114526</td>\n",
              "      <td>67.080226</td>\n",
              "    </tr>\n",
              "    <tr>\n",
              "      <th>482</th>\n",
              "      <td>5</td>\n",
              "      <td>68</td>\n",
              "      <td>20</td>\n",
              "      <td>19.043805</td>\n",
              "      <td>33.106951</td>\n",
              "      <td>6.121667</td>\n",
              "      <td>155.370562</td>\n",
              "    </tr>\n",
              "  </tbody>\n",
              "</table>\n",
              "<p>440 rows × 7 columns</p>\n",
              "</div>"
            ],
            "text/plain": [
              "      Nitrogen  Phosphorus  Potassium  Temperature   Humidity  pH_Value  \\\n",
              "1451       101          17         47    29.494014  94.729813  6.185053   \n",
              "1334        98           8         51    26.179346  86.522581  6.259336   \n",
              "1761        59          62         49    43.360515  93.351916  6.941497   \n",
              "1735        44          60         55    34.280461  90.555616  6.825371   \n",
              "1576        30         137        200    22.914300  90.704756  5.603413   \n",
              "...        ...         ...        ...          ...        ...       ...   \n",
              "59          99          55         35    21.723831  80.238990  6.501698   \n",
              "71          67          45         38    22.727910  82.170688  7.300411   \n",
              "1908       121          47         16    23.605640  79.295731  7.723240   \n",
              "1958       116          52         19    22.942767  75.371706  6.114526   \n",
              "482          5          68         20    19.043805  33.106951  6.121667   \n",
              "\n",
              "        Rainfall  \n",
              "1451   26.308209  \n",
              "1334   49.430510  \n",
              "1761  114.778071  \n",
              "1735   98.540477  \n",
              "1576  118.604465  \n",
              "...          ...  \n",
              "59    277.962619  \n",
              "71    260.887506  \n",
              "1908   72.498009  \n",
              "1958   67.080226  \n",
              "482   155.370562  \n",
              "\n",
              "[440 rows x 7 columns]"
            ]
          },
          "execution_count": 73,
          "metadata": {},
          "output_type": "execute_result"
        }
      ],
      "source": [
        "# let us visualize one of the data splits\n",
        "X_test"
      ]
    },
    {
      "cell_type": "markdown",
      "id": "83285692-d0a4-4f5a-8811-8a94fafc669b",
      "metadata": {
        "id": "83285692-d0a4-4f5a-8811-8a94fafc669b"
      },
      "source": [
        "### Minimum/ Maximum scaler:\n",
        "\n",
        "This is used to scale the data to  range of 0.0 and 1.0 and then people can check it."
      ]
    },
    {
      "cell_type": "code",
      "execution_count": null,
      "id": "90f80c94-23f0-4bd8-96b9-87d6ae9e4af1",
      "metadata": {
        "id": "90f80c94-23f0-4bd8-96b9-87d6ae9e4af1"
      },
      "outputs": [],
      "source": [
        "# SINCE OUR PREDICTORS ARE ALL CONTINOUS DATA, WE CANNOT HOT-ENCODE THEM,\n",
        "# THEREFORE WE WILL SCALE THEM using the MIN-MAX SCALLING system.\n",
        "\n",
        "from sklearn.preprocessing import MinMaxScaler\n",
        "\n",
        "predictors_data_to_scale = X.copy()\n",
        "pred_scaler = MinMaxScaler()\n",
        "soil_predictors_scaled = pd.DataFrame(pred_scaler.fit_transform(predictors_data_to_scale), columns=predictors_data_to_scale.columns)\n",
        "\n",
        "# here we bring back our scalled predictors in the X variable.\n",
        "X = soil_predictors_scaled.copy()\n",
        "\n",
        "# But, let us keep in mind that we can use one-hot encoding in different cases,\n",
        "# so let us keep it here : pd.get_dummies(df,  drop_first=True)\n"
      ]
    },
    {
      "cell_type": "code",
      "execution_count": null,
      "id": "f28bdb3e-9bcf-4b1a-891e-3b7bdc6f49e7",
      "metadata": {
        "id": "f28bdb3e-9bcf-4b1a-891e-3b7bdc6f49e7"
      },
      "outputs": [],
      "source": [
        "# here we will label encode our target (y) categorical column \"CROP\".\n",
        "# as you can see, we use the not-yet-splited dataframe to be able to\n",
        "# label encode the \"crop\" column, then store the labeled column in y.\n",
        "\n",
        "from sklearn.preprocessing import LabelEncoder\n",
        "pred_le = LabelEncoder()\n",
        "deep_crop[\"Crop\"] = pred_le.fit_transform(deep_crop[\"Crop\"])"
      ]
    },
    {
      "cell_type": "code",
      "execution_count": null,
      "id": "ef399036-c9d8-442e-abe3-33b1a0c5a488",
      "metadata": {
        "id": "ef399036-c9d8-442e-abe3-33b1a0c5a488"
      },
      "outputs": [],
      "source": [
        "# Here I am manually matching each crop with its encoded equivalent for (potential) later use:\n",
        "\n",
        "\"\"\"\n",
        "Rice = 20\n",
        "Maize = 11\n",
        "Jute = 8\n",
        "Cotton = 6\n",
        "Coconut = 4\n",
        "Papaya = 17\n",
        "Orange = 16\n",
        "Apple = 0\n",
        "Muskmelon = 15\n",
        "Watermelon = 21\n",
        "Grapes = 7\n",
        "Mango = 12\n",
        "Banana = 1\n",
        "Pomegranate = 19\n",
        "Lentil = 10\n",
        "Blackgram = 2\n",
        "MungBean = 14\n",
        "MothBeans = 13\n",
        "PigeonPeas = 18\n",
        "KidneyBeans = 9\n",
        "ChickPea = 3\n",
        "Cofee = 5\n",
        "\"\"\""
      ]
    },
    {
      "cell_type": "code",
      "execution_count": null,
      "id": "64460179-ac17-4d6b-a277-16b2cbad00f2",
      "metadata": {
        "id": "64460179-ac17-4d6b-a277-16b2cbad00f2",
        "outputId": "e7e044ac-1481-43dd-d19a-a0d40eed965d"
      },
      "outputs": [
        {
          "data": {
            "text/plain": [
              "0       20\n",
              "1       20\n",
              "2       20\n",
              "3       20\n",
              "4       20\n",
              "        ..\n",
              "2195     5\n",
              "2196     5\n",
              "2197     5\n",
              "2198     5\n",
              "2199     5\n",
              "Name: Crop, Length: 2200, dtype: int32"
            ]
          },
          "execution_count": 86,
          "metadata": {},
          "output_type": "execute_result"
        }
      ],
      "source": [
        "# here is where we store the labeled target column in the y target variable.\n",
        "y = deep_crop[\"Crop\"]\n",
        "y"
      ]
    },
    {
      "cell_type": "code",
      "execution_count": null,
      "id": "6bc9fe61-df5c-4e0b-90a9-10074dfd38f4",
      "metadata": {
        "id": "6bc9fe61-df5c-4e0b-90a9-10074dfd38f4"
      },
      "outputs": [],
      "source": [
        "# here we now split our data into the diferent sets\n",
        "# by default the test_size is set to 25 and the random_state is not a must\n",
        "\n",
        "X_train, X_test, y_train, y_test = train_test_split(X,y,test_size=0.3, random_state=42)"
      ]
    },
    {
      "cell_type": "code",
      "execution_count": null,
      "id": "d37d0cb6-3aa2-4b04-abba-47e43c47113b",
      "metadata": {
        "id": "d37d0cb6-3aa2-4b04-abba-47e43c47113b"
      },
      "outputs": [],
      "source": [
        "# here is where we do the finetunning by using the GridSearchCV\n",
        "\n",
        "from sklearn.ensemble import RandomForestClassifier\n",
        "from sklearn.model_selection import GridSearchCV\n"
      ]
    },
    {
      "cell_type": "code",
      "execution_count": null,
      "id": "99071148-bf7a-4ddf-928e-b0a2f2c81f0b",
      "metadata": {
        "id": "99071148-bf7a-4ddf-928e-b0a2f2c81f0b",
        "outputId": "67e5ebb3-5234-450f-ad57-28b6b3b8cfbe"
      },
      "outputs": [
        {
          "data": {
            "text/html": [
              "<style>#sk-container-id-3 {\n",
              "  /* Definition of color scheme common for light and dark mode */\n",
              "  --sklearn-color-text: black;\n",
              "  --sklearn-color-line: gray;\n",
              "  /* Definition of color scheme for unfitted estimators */\n",
              "  --sklearn-color-unfitted-level-0: #fff5e6;\n",
              "  --sklearn-color-unfitted-level-1: #f6e4d2;\n",
              "  --sklearn-color-unfitted-level-2: #ffe0b3;\n",
              "  --sklearn-color-unfitted-level-3: chocolate;\n",
              "  /* Definition of color scheme for fitted estimators */\n",
              "  --sklearn-color-fitted-level-0: #f0f8ff;\n",
              "  --sklearn-color-fitted-level-1: #d4ebff;\n",
              "  --sklearn-color-fitted-level-2: #b3dbfd;\n",
              "  --sklearn-color-fitted-level-3: cornflowerblue;\n",
              "\n",
              "  /* Specific color for light theme */\n",
              "  --sklearn-color-text-on-default-background: var(--sg-text-color, var(--theme-code-foreground, var(--jp-content-font-color1, black)));\n",
              "  --sklearn-color-background: var(--sg-background-color, var(--theme-background, var(--jp-layout-color0, white)));\n",
              "  --sklearn-color-border-box: var(--sg-text-color, var(--theme-code-foreground, var(--jp-content-font-color1, black)));\n",
              "  --sklearn-color-icon: #696969;\n",
              "\n",
              "  @media (prefers-color-scheme: dark) {\n",
              "    /* Redefinition of color scheme for dark theme */\n",
              "    --sklearn-color-text-on-default-background: var(--sg-text-color, var(--theme-code-foreground, var(--jp-content-font-color1, white)));\n",
              "    --sklearn-color-background: var(--sg-background-color, var(--theme-background, var(--jp-layout-color0, #111)));\n",
              "    --sklearn-color-border-box: var(--sg-text-color, var(--theme-code-foreground, var(--jp-content-font-color1, white)));\n",
              "    --sklearn-color-icon: #878787;\n",
              "  }\n",
              "}\n",
              "\n",
              "#sk-container-id-3 {\n",
              "  color: var(--sklearn-color-text);\n",
              "}\n",
              "\n",
              "#sk-container-id-3 pre {\n",
              "  padding: 0;\n",
              "}\n",
              "\n",
              "#sk-container-id-3 input.sk-hidden--visually {\n",
              "  border: 0;\n",
              "  clip: rect(1px 1px 1px 1px);\n",
              "  clip: rect(1px, 1px, 1px, 1px);\n",
              "  height: 1px;\n",
              "  margin: -1px;\n",
              "  overflow: hidden;\n",
              "  padding: 0;\n",
              "  position: absolute;\n",
              "  width: 1px;\n",
              "}\n",
              "\n",
              "#sk-container-id-3 div.sk-dashed-wrapped {\n",
              "  border: 1px dashed var(--sklearn-color-line);\n",
              "  margin: 0 0.4em 0.5em 0.4em;\n",
              "  box-sizing: border-box;\n",
              "  padding-bottom: 0.4em;\n",
              "  background-color: var(--sklearn-color-background);\n",
              "}\n",
              "\n",
              "#sk-container-id-3 div.sk-container {\n",
              "  /* jupyter's `normalize.less` sets `[hidden] { display: none; }`\n",
              "     but bootstrap.min.css set `[hidden] { display: none !important; }`\n",
              "     so we also need the `!important` here to be able to override the\n",
              "     default hidden behavior on the sphinx rendered scikit-learn.org.\n",
              "     See: https://github.com/scikit-learn/scikit-learn/issues/21755 */\n",
              "  display: inline-block !important;\n",
              "  position: relative;\n",
              "}\n",
              "\n",
              "#sk-container-id-3 div.sk-text-repr-fallback {\n",
              "  display: none;\n",
              "}\n",
              "\n",
              "div.sk-parallel-item,\n",
              "div.sk-serial,\n",
              "div.sk-item {\n",
              "  /* draw centered vertical line to link estimators */\n",
              "  background-image: linear-gradient(var(--sklearn-color-text-on-default-background), var(--sklearn-color-text-on-default-background));\n",
              "  background-size: 2px 100%;\n",
              "  background-repeat: no-repeat;\n",
              "  background-position: center center;\n",
              "}\n",
              "\n",
              "/* Parallel-specific style estimator block */\n",
              "\n",
              "#sk-container-id-3 div.sk-parallel-item::after {\n",
              "  content: \"\";\n",
              "  width: 100%;\n",
              "  border-bottom: 2px solid var(--sklearn-color-text-on-default-background);\n",
              "  flex-grow: 1;\n",
              "}\n",
              "\n",
              "#sk-container-id-3 div.sk-parallel {\n",
              "  display: flex;\n",
              "  align-items: stretch;\n",
              "  justify-content: center;\n",
              "  background-color: var(--sklearn-color-background);\n",
              "  position: relative;\n",
              "}\n",
              "\n",
              "#sk-container-id-3 div.sk-parallel-item {\n",
              "  display: flex;\n",
              "  flex-direction: column;\n",
              "}\n",
              "\n",
              "#sk-container-id-3 div.sk-parallel-item:first-child::after {\n",
              "  align-self: flex-end;\n",
              "  width: 50%;\n",
              "}\n",
              "\n",
              "#sk-container-id-3 div.sk-parallel-item:last-child::after {\n",
              "  align-self: flex-start;\n",
              "  width: 50%;\n",
              "}\n",
              "\n",
              "#sk-container-id-3 div.sk-parallel-item:only-child::after {\n",
              "  width: 0;\n",
              "}\n",
              "\n",
              "/* Serial-specific style estimator block */\n",
              "\n",
              "#sk-container-id-3 div.sk-serial {\n",
              "  display: flex;\n",
              "  flex-direction: column;\n",
              "  align-items: center;\n",
              "  background-color: var(--sklearn-color-background);\n",
              "  padding-right: 1em;\n",
              "  padding-left: 1em;\n",
              "}\n",
              "\n",
              "\n",
              "/* Toggleable style: style used for estimator/Pipeline/ColumnTransformer box that is\n",
              "clickable and can be expanded/collapsed.\n",
              "- Pipeline and ColumnTransformer use this feature and define the default style\n",
              "- Estimators will overwrite some part of the style using the `sk-estimator` class\n",
              "*/\n",
              "\n",
              "/* Pipeline and ColumnTransformer style (default) */\n",
              "\n",
              "#sk-container-id-3 div.sk-toggleable {\n",
              "  /* Default theme specific background. It is overwritten whether we have a\n",
              "  specific estimator or a Pipeline/ColumnTransformer */\n",
              "  background-color: var(--sklearn-color-background);\n",
              "}\n",
              "\n",
              "/* Toggleable label */\n",
              "#sk-container-id-3 label.sk-toggleable__label {\n",
              "  cursor: pointer;\n",
              "  display: block;\n",
              "  width: 100%;\n",
              "  margin-bottom: 0;\n",
              "  padding: 0.5em;\n",
              "  box-sizing: border-box;\n",
              "  text-align: center;\n",
              "}\n",
              "\n",
              "#sk-container-id-3 label.sk-toggleable__label-arrow:before {\n",
              "  /* Arrow on the left of the label */\n",
              "  content: \"▸\";\n",
              "  float: left;\n",
              "  margin-right: 0.25em;\n",
              "  color: var(--sklearn-color-icon);\n",
              "}\n",
              "\n",
              "#sk-container-id-3 label.sk-toggleable__label-arrow:hover:before {\n",
              "  color: var(--sklearn-color-text);\n",
              "}\n",
              "\n",
              "/* Toggleable content - dropdown */\n",
              "\n",
              "#sk-container-id-3 div.sk-toggleable__content {\n",
              "  max-height: 0;\n",
              "  max-width: 0;\n",
              "  overflow: hidden;\n",
              "  text-align: left;\n",
              "  /* unfitted */\n",
              "  background-color: var(--sklearn-color-unfitted-level-0);\n",
              "}\n",
              "\n",
              "#sk-container-id-3 div.sk-toggleable__content.fitted {\n",
              "  /* fitted */\n",
              "  background-color: var(--sklearn-color-fitted-level-0);\n",
              "}\n",
              "\n",
              "#sk-container-id-3 div.sk-toggleable__content pre {\n",
              "  margin: 0.2em;\n",
              "  border-radius: 0.25em;\n",
              "  color: var(--sklearn-color-text);\n",
              "  /* unfitted */\n",
              "  background-color: var(--sklearn-color-unfitted-level-0);\n",
              "}\n",
              "\n",
              "#sk-container-id-3 div.sk-toggleable__content.fitted pre {\n",
              "  /* unfitted */\n",
              "  background-color: var(--sklearn-color-fitted-level-0);\n",
              "}\n",
              "\n",
              "#sk-container-id-3 input.sk-toggleable__control:checked~div.sk-toggleable__content {\n",
              "  /* Expand drop-down */\n",
              "  max-height: 200px;\n",
              "  max-width: 100%;\n",
              "  overflow: auto;\n",
              "}\n",
              "\n",
              "#sk-container-id-3 input.sk-toggleable__control:checked~label.sk-toggleable__label-arrow:before {\n",
              "  content: \"▾\";\n",
              "}\n",
              "\n",
              "/* Pipeline/ColumnTransformer-specific style */\n",
              "\n",
              "#sk-container-id-3 div.sk-label input.sk-toggleable__control:checked~label.sk-toggleable__label {\n",
              "  color: var(--sklearn-color-text);\n",
              "  background-color: var(--sklearn-color-unfitted-level-2);\n",
              "}\n",
              "\n",
              "#sk-container-id-3 div.sk-label.fitted input.sk-toggleable__control:checked~label.sk-toggleable__label {\n",
              "  background-color: var(--sklearn-color-fitted-level-2);\n",
              "}\n",
              "\n",
              "/* Estimator-specific style */\n",
              "\n",
              "/* Colorize estimator box */\n",
              "#sk-container-id-3 div.sk-estimator input.sk-toggleable__control:checked~label.sk-toggleable__label {\n",
              "  /* unfitted */\n",
              "  background-color: var(--sklearn-color-unfitted-level-2);\n",
              "}\n",
              "\n",
              "#sk-container-id-3 div.sk-estimator.fitted input.sk-toggleable__control:checked~label.sk-toggleable__label {\n",
              "  /* fitted */\n",
              "  background-color: var(--sklearn-color-fitted-level-2);\n",
              "}\n",
              "\n",
              "#sk-container-id-3 div.sk-label label.sk-toggleable__label,\n",
              "#sk-container-id-3 div.sk-label label {\n",
              "  /* The background is the default theme color */\n",
              "  color: var(--sklearn-color-text-on-default-background);\n",
              "}\n",
              "\n",
              "/* On hover, darken the color of the background */\n",
              "#sk-container-id-3 div.sk-label:hover label.sk-toggleable__label {\n",
              "  color: var(--sklearn-color-text);\n",
              "  background-color: var(--sklearn-color-unfitted-level-2);\n",
              "}\n",
              "\n",
              "/* Label box, darken color on hover, fitted */\n",
              "#sk-container-id-3 div.sk-label.fitted:hover label.sk-toggleable__label.fitted {\n",
              "  color: var(--sklearn-color-text);\n",
              "  background-color: var(--sklearn-color-fitted-level-2);\n",
              "}\n",
              "\n",
              "/* Estimator label */\n",
              "\n",
              "#sk-container-id-3 div.sk-label label {\n",
              "  font-family: monospace;\n",
              "  font-weight: bold;\n",
              "  display: inline-block;\n",
              "  line-height: 1.2em;\n",
              "}\n",
              "\n",
              "#sk-container-id-3 div.sk-label-container {\n",
              "  text-align: center;\n",
              "}\n",
              "\n",
              "/* Estimator-specific */\n",
              "#sk-container-id-3 div.sk-estimator {\n",
              "  font-family: monospace;\n",
              "  border: 1px dotted var(--sklearn-color-border-box);\n",
              "  border-radius: 0.25em;\n",
              "  box-sizing: border-box;\n",
              "  margin-bottom: 0.5em;\n",
              "  /* unfitted */\n",
              "  background-color: var(--sklearn-color-unfitted-level-0);\n",
              "}\n",
              "\n",
              "#sk-container-id-3 div.sk-estimator.fitted {\n",
              "  /* fitted */\n",
              "  background-color: var(--sklearn-color-fitted-level-0);\n",
              "}\n",
              "\n",
              "/* on hover */\n",
              "#sk-container-id-3 div.sk-estimator:hover {\n",
              "  /* unfitted */\n",
              "  background-color: var(--sklearn-color-unfitted-level-2);\n",
              "}\n",
              "\n",
              "#sk-container-id-3 div.sk-estimator.fitted:hover {\n",
              "  /* fitted */\n",
              "  background-color: var(--sklearn-color-fitted-level-2);\n",
              "}\n",
              "\n",
              "/* Specification for estimator info (e.g. \"i\" and \"?\") */\n",
              "\n",
              "/* Common style for \"i\" and \"?\" */\n",
              "\n",
              ".sk-estimator-doc-link,\n",
              "a:link.sk-estimator-doc-link,\n",
              "a:visited.sk-estimator-doc-link {\n",
              "  float: right;\n",
              "  font-size: smaller;\n",
              "  line-height: 1em;\n",
              "  font-family: monospace;\n",
              "  background-color: var(--sklearn-color-background);\n",
              "  border-radius: 1em;\n",
              "  height: 1em;\n",
              "  width: 1em;\n",
              "  text-decoration: none !important;\n",
              "  margin-left: 1ex;\n",
              "  /* unfitted */\n",
              "  border: var(--sklearn-color-unfitted-level-1) 1pt solid;\n",
              "  color: var(--sklearn-color-unfitted-level-1);\n",
              "}\n",
              "\n",
              ".sk-estimator-doc-link.fitted,\n",
              "a:link.sk-estimator-doc-link.fitted,\n",
              "a:visited.sk-estimator-doc-link.fitted {\n",
              "  /* fitted */\n",
              "  border: var(--sklearn-color-fitted-level-1) 1pt solid;\n",
              "  color: var(--sklearn-color-fitted-level-1);\n",
              "}\n",
              "\n",
              "/* On hover */\n",
              "div.sk-estimator:hover .sk-estimator-doc-link:hover,\n",
              ".sk-estimator-doc-link:hover,\n",
              "div.sk-label-container:hover .sk-estimator-doc-link:hover,\n",
              ".sk-estimator-doc-link:hover {\n",
              "  /* unfitted */\n",
              "  background-color: var(--sklearn-color-unfitted-level-3);\n",
              "  color: var(--sklearn-color-background);\n",
              "  text-decoration: none;\n",
              "}\n",
              "\n",
              "div.sk-estimator.fitted:hover .sk-estimator-doc-link.fitted:hover,\n",
              ".sk-estimator-doc-link.fitted:hover,\n",
              "div.sk-label-container:hover .sk-estimator-doc-link.fitted:hover,\n",
              ".sk-estimator-doc-link.fitted:hover {\n",
              "  /* fitted */\n",
              "  background-color: var(--sklearn-color-fitted-level-3);\n",
              "  color: var(--sklearn-color-background);\n",
              "  text-decoration: none;\n",
              "}\n",
              "\n",
              "/* Span, style for the box shown on hovering the info icon */\n",
              ".sk-estimator-doc-link span {\n",
              "  display: none;\n",
              "  z-index: 9999;\n",
              "  position: relative;\n",
              "  font-weight: normal;\n",
              "  right: .2ex;\n",
              "  padding: .5ex;\n",
              "  margin: .5ex;\n",
              "  width: min-content;\n",
              "  min-width: 20ex;\n",
              "  max-width: 50ex;\n",
              "  color: var(--sklearn-color-text);\n",
              "  box-shadow: 2pt 2pt 4pt #999;\n",
              "  /* unfitted */\n",
              "  background: var(--sklearn-color-unfitted-level-0);\n",
              "  border: .5pt solid var(--sklearn-color-unfitted-level-3);\n",
              "}\n",
              "\n",
              ".sk-estimator-doc-link.fitted span {\n",
              "  /* fitted */\n",
              "  background: var(--sklearn-color-fitted-level-0);\n",
              "  border: var(--sklearn-color-fitted-level-3);\n",
              "}\n",
              "\n",
              ".sk-estimator-doc-link:hover span {\n",
              "  display: block;\n",
              "}\n",
              "\n",
              "/* \"?\"-specific style due to the `<a>` HTML tag */\n",
              "\n",
              "#sk-container-id-3 a.estimator_doc_link {\n",
              "  float: right;\n",
              "  font-size: 1rem;\n",
              "  line-height: 1em;\n",
              "  font-family: monospace;\n",
              "  background-color: var(--sklearn-color-background);\n",
              "  border-radius: 1rem;\n",
              "  height: 1rem;\n",
              "  width: 1rem;\n",
              "  text-decoration: none;\n",
              "  /* unfitted */\n",
              "  color: var(--sklearn-color-unfitted-level-1);\n",
              "  border: var(--sklearn-color-unfitted-level-1) 1pt solid;\n",
              "}\n",
              "\n",
              "#sk-container-id-3 a.estimator_doc_link.fitted {\n",
              "  /* fitted */\n",
              "  border: var(--sklearn-color-fitted-level-1) 1pt solid;\n",
              "  color: var(--sklearn-color-fitted-level-1);\n",
              "}\n",
              "\n",
              "/* On hover */\n",
              "#sk-container-id-3 a.estimator_doc_link:hover {\n",
              "  /* unfitted */\n",
              "  background-color: var(--sklearn-color-unfitted-level-3);\n",
              "  color: var(--sklearn-color-background);\n",
              "  text-decoration: none;\n",
              "}\n",
              "\n",
              "#sk-container-id-3 a.estimator_doc_link.fitted:hover {\n",
              "  /* fitted */\n",
              "  background-color: var(--sklearn-color-fitted-level-3);\n",
              "}\n",
              "</style><div id=\"sk-container-id-3\" class=\"sk-top-container\"><div class=\"sk-text-repr-fallback\"><pre>RandomForestClassifier(bootstrap=False, max_depth=10, n_estimators=200)</pre><b>In a Jupyter environment, please rerun this cell to show the HTML representation or trust the notebook. <br />On GitHub, the HTML representation is unable to render, please try loading this page with nbviewer.org.</b></div><div class=\"sk-container\" hidden><div class=\"sk-item\"><div class=\"sk-estimator fitted sk-toggleable\"><input class=\"sk-toggleable__control sk-hidden--visually\" id=\"sk-estimator-id-3\" type=\"checkbox\" checked><label for=\"sk-estimator-id-3\" class=\"sk-toggleable__label fitted sk-toggleable__label-arrow fitted\">&nbsp;&nbsp;RandomForestClassifier<a class=\"sk-estimator-doc-link fitted\" rel=\"noreferrer\" target=\"_blank\" href=\"https://scikit-learn.org/1.5/modules/generated/sklearn.ensemble.RandomForestClassifier.html\">?<span>Documentation for RandomForestClassifier</span></a><span class=\"sk-estimator-doc-link fitted\">i<span>Fitted</span></span></label><div class=\"sk-toggleable__content fitted\"><pre>RandomForestClassifier(bootstrap=False, max_depth=10, n_estimators=200)</pre></div> </div></div></div></div>"
            ],
            "text/plain": [
              "RandomForestClassifier(bootstrap=False, max_depth=10, n_estimators=200)"
            ]
          },
          "execution_count": 88,
          "metadata": {},
          "output_type": "execute_result"
        }
      ],
      "source": [
        "model_1 = RandomForestClassifier(bootstrap=False, criterion='gini',max_depth=10, max_features='sqrt',min_samples_leaf=1, min_samples_split=2, n_estimators=200)\n",
        "model_1.fit(X_train,y_train)\n"
      ]
    },
    {
      "cell_type": "code",
      "execution_count": null,
      "id": "b7410959-0535-42c7-8031-f5fa982fc00a",
      "metadata": {
        "id": "b7410959-0535-42c7-8031-f5fa982fc00a"
      },
      "outputs": [],
      "source": [
        "# As you can see, we are making now the predictions\n",
        "pred_1=model_1.predict(X_test)"
      ]
    },
    {
      "cell_type": "code",
      "execution_count": null,
      "id": "35e96b4c-b98e-4909-9de1-126f3d1e0904",
      "metadata": {
        "id": "35e96b4c-b98e-4909-9de1-126f3d1e0904",
        "outputId": "3c4dd46b-c5d7-4c6d-9dea-e526ec9849f5"
      },
      "outputs": [
        {
          "data": {
            "image/png": "[encoded data removed]",
            "text/plain": [
              "<Figure size 1400x1000 with 2 Axes>"
            ]
          },
          "metadata": {},
          "output_type": "display_data"
        },
        {
          "name": "stdout",
          "output_type": "stream",
          "text": [
            "Accuracy: 0.990909090909091\n",
            "Classification Report:\n",
            "              precision    recall  f1-score   support\n",
            "\n",
            "       Apple       1.00      1.00      1.00        23\n",
            "      Banana       1.00      1.00      1.00        21\n",
            "   Blackgram       1.00      1.00      1.00        20\n",
            "    ChickPea       1.00      1.00      1.00        26\n",
            "     Coconut       1.00      1.00      1.00        27\n",
            "      Coffee       1.00      1.00      1.00        17\n",
            "      Cotton       1.00      1.00      1.00        17\n",
            "      Grapes       1.00      1.00      1.00        14\n",
            "        Jute       0.92      0.96      0.94        23\n",
            " KidneyBeans       1.00      1.00      1.00        20\n",
            "      Lentil       0.92      1.00      0.96        11\n",
            "       Maize       1.00      1.00      1.00        21\n",
            "       Mango       1.00      1.00      1.00        19\n",
            "   MothBeans       1.00      0.96      0.98        24\n",
            "    MungBean       1.00      1.00      1.00        19\n",
            "   Muskmelon       1.00      1.00      1.00        17\n",
            "      Orange       1.00      1.00      1.00        14\n",
            "      Papaya       1.00      1.00      1.00        23\n",
            "  PigeonPeas       1.00      1.00      1.00        23\n",
            " Pomegranate       1.00      1.00      1.00        23\n",
            "        Rice       0.94      0.89      0.92        19\n",
            "  Watermelon       1.00      1.00      1.00        19\n",
            "\n",
            "    accuracy                           0.99       440\n",
            "   macro avg       0.99      0.99      0.99       440\n",
            "weighted avg       0.99      0.99      0.99       440\n",
            "\n"
          ]
        }
      ],
      "source": [
        "# Let us evaluate our model and plot the confusion matrix to see how well the model did.\n",
        "# from sklearn.preprocessing import LabelEncoder\n",
        "# label_encoder = LabelEncoder()\n",
        "\n",
        "# Now We can evaluate the model\n",
        "accuracy = accuracy_score(y_test, pred_1)\n",
        "classification_rep = classification_report(y_test, pred_1, target_names=le.classes_)\n",
        "\n",
        "# Let us calculate the confusion matrix\n",
        "cm = confusion_matrix(y_test, pred_1)\n",
        "\n",
        "# Here I am going to plot the confusion matrix using seaborn\n",
        "plt.figure(figsize=(14, 10))\n",
        "sns.heatmap(cm, annot=True, fmt=\"d\", cmap=\"Blues\", xticklabels=le.classes_, yticklabels=le.classes_)\n",
        "plt.title('Confusion Matrix')\n",
        "plt.xlabel('Predicted')\n",
        "plt.ylabel('Actual')\n",
        "plt.xticks(rotation=90)\n",
        "plt.yticks(rotation=0)\n",
        "plt.show()\n",
        "\n",
        "# Then I cn print the accuracy and classification report\n",
        "print(f'Accuracy: {accuracy}')\n",
        "print(f'Classification Report:\\n{classification_rep}')"
      ]
    },
    {
      "cell_type": "code",
      "execution_count": null,
      "id": "002549ff-3eb5-4a14-8966-e6642793d163",
      "metadata": {
        "id": "002549ff-3eb5-4a14-8966-e6642793d163"
      },
      "outputs": [],
      "source": []
    },
    {
      "cell_type": "code",
      "execution_count": null,
      "id": "f8a3acdd-c7eb-4075-9e84-e751e24ab396",
      "metadata": {
        "id": "f8a3acdd-c7eb-4075-9e84-e751e24ab396",
        "outputId": "a3a6cd8e-7c75-4fdc-cec8-82555862a3c7"
      },
      "outputs": [
        {
          "data": {
            "text/plain": [
              "0.9987012987012988"
            ]
          },
          "execution_count": 26,
          "metadata": {},
          "output_type": "execute_result"
        }
      ],
      "source": [
        "model_1.score(X_train, y_train)"
      ]
    },
    {
      "cell_type": "code",
      "execution_count": null,
      "id": "56a3321f-d2e2-4e45-a4b9-b9d740d380f3",
      "metadata": {
        "id": "56a3321f-d2e2-4e45-a4b9-b9d740d380f3",
        "outputId": "a44919d2-898b-4cf7-a6be-5b8206c10abf"
      },
      "outputs": [
        {
          "data": {
            "text/plain": [
              "0.990909090909091"
            ]
          },
          "execution_count": 27,
          "metadata": {},
          "output_type": "execute_result"
        }
      ],
      "source": [
        "model_1.score(X_test, y_test)"
      ]
    },
    {
      "cell_type": "code",
      "execution_count": null,
      "id": "1dfb600f-350a-45f7-912f-0389ec9f5248",
      "metadata": {
        "id": "1dfb600f-350a-45f7-912f-0389ec9f5248"
      },
      "outputs": [],
      "source": []
    },
    {
      "cell_type": "code",
      "execution_count": null,
      "id": "c59d3571-645e-4c8a-bad7-3760c6ae90fe",
      "metadata": {
        "id": "c59d3571-645e-4c8a-bad7-3760c6ae90fe"
      },
      "outputs": [],
      "source": []
    },
    {
      "cell_type": "code",
      "execution_count": null,
      "id": "6f483e49-ac43-4dfa-b3fb-7cbd05d61447",
      "metadata": {
        "id": "6f483e49-ac43-4dfa-b3fb-7cbd05d61447"
      },
      "outputs": [],
      "source": []
    },
    {
      "cell_type": "code",
      "execution_count": null,
      "id": "9997dbda-8695-4c33-9f97-bfd4f6df62e9",
      "metadata": {
        "id": "9997dbda-8695-4c33-9f97-bfd4f6df62e9"
      },
      "outputs": [],
      "source": []
    },
    {
      "cell_type": "markdown",
      "id": "cbe9f23d-57de-4047-96e0-47030f0e2e09",
      "metadata": {
        "id": "cbe9f23d-57de-4047-96e0-47030f0e2e09"
      },
      "source": [
        "## **NOTE:**\n",
        "\n",
        "Here we can now see how the model is performing TREMENDOUSLY right. This is the result of the scalling and the finetuning processes. What happens is that, with finetuning, I managed to create the perfect learning environment for the model by defining the right hyperparameters and their respective values.\n",
        "\n",
        "Finetuning is a practice that is commonly used in many machine learning tasks where we are making sure to maximize the accuracy of the model in learning and predicting, avoiding it to underperform."
      ]
    },
    {
      "cell_type": "code",
      "execution_count": null,
      "id": "2253b361-1252-4112-9323-75d2b720ed22",
      "metadata": {
        "id": "2253b361-1252-4112-9323-75d2b720ed22"
      },
      "outputs": [],
      "source": []
    },
    {
      "cell_type": "code",
      "execution_count": null,
      "id": "3746168f-ab99-4861-ac32-01999085e006",
      "metadata": {
        "id": "3746168f-ab99-4861-ac32-01999085e006"
      },
      "outputs": [],
      "source": []
    },
    {
      "cell_type": "code",
      "execution_count": null,
      "id": "9eeef034-745c-4002-a40b-b3d578b39c30",
      "metadata": {
        "id": "9eeef034-745c-4002-a40b-b3d578b39c30",
        "outputId": "a8254534-41e2-45b0-b294-3796510e9bdb",
        "scrolled": true
      },
      "outputs": [
        {
          "data": {
            "text/html": [
              "<div>\n",
              "<style scoped>\n",
              "    .dataframe tbody tr th:only-of-type {\n",
              "        vertical-align: middle;\n",
              "    }\n",
              "\n",
              "    .dataframe tbody tr th {\n",
              "        vertical-align: top;\n",
              "    }\n",
              "\n",
              "    .dataframe thead th {\n",
              "        text-align: right;\n",
              "    }\n",
              "</style>\n",
              "<table border=\"1\" class=\"dataframe\">\n",
              "  <thead>\n",
              "    <tr style=\"text-align: right;\">\n",
              "      <th></th>\n",
              "      <th>Nitrogen</th>\n",
              "      <th>Phosphorus</th>\n",
              "      <th>Potassium</th>\n",
              "      <th>Temperature</th>\n",
              "      <th>Humidity</th>\n",
              "      <th>pH_Value</th>\n",
              "      <th>Rainfall</th>\n",
              "    </tr>\n",
              "  </thead>\n",
              "  <tbody>\n",
              "    <tr>\n",
              "      <th>1451</th>\n",
              "      <td>0.721429</td>\n",
              "      <td>0.085714</td>\n",
              "      <td>0.210</td>\n",
              "      <td>0.593069</td>\n",
              "      <td>0.938733</td>\n",
              "      <td>0.416821</td>\n",
              "      <td>0.021904</td>\n",
              "    </tr>\n",
              "    <tr>\n",
              "      <th>1334</th>\n",
              "      <td>0.700000</td>\n",
              "      <td>0.021429</td>\n",
              "      <td>0.230</td>\n",
              "      <td>0.497956</td>\n",
              "      <td>0.842992</td>\n",
              "      <td>0.428373</td>\n",
              "      <td>0.104973</td>\n",
              "    </tr>\n",
              "    <tr>\n",
              "      <th>1761</th>\n",
              "      <td>0.421429</td>\n",
              "      <td>0.407143</td>\n",
              "      <td>0.220</td>\n",
              "      <td>0.990962</td>\n",
              "      <td>0.922659</td>\n",
              "      <td>0.534458</td>\n",
              "      <td>0.339742</td>\n",
              "    </tr>\n",
              "    <tr>\n",
              "      <th>1735</th>\n",
              "      <td>0.314286</td>\n",
              "      <td>0.392857</td>\n",
              "      <td>0.250</td>\n",
              "      <td>0.730414</td>\n",
              "      <td>0.890039</td>\n",
              "      <td>0.516399</td>\n",
              "      <td>0.281407</td>\n",
              "    </tr>\n",
              "    <tr>\n",
              "      <th>1576</th>\n",
              "      <td>0.214286</td>\n",
              "      <td>0.942857</td>\n",
              "      <td>0.975</td>\n",
              "      <td>0.404267</td>\n",
              "      <td>0.891779</td>\n",
              "      <td>0.326369</td>\n",
              "      <td>0.353489</td>\n",
              "    </tr>\n",
              "    <tr>\n",
              "      <th>...</th>\n",
              "      <td>...</td>\n",
              "      <td>...</td>\n",
              "      <td>...</td>\n",
              "      <td>...</td>\n",
              "      <td>...</td>\n",
              "      <td>...</td>\n",
              "      <td>...</td>\n",
              "    </tr>\n",
              "    <tr>\n",
              "      <th>398</th>\n",
              "      <td>0.192857</td>\n",
              "      <td>0.414286</td>\n",
              "      <td>0.070</td>\n",
              "      <td>0.347446</td>\n",
              "      <td>0.080856</td>\n",
              "      <td>0.319960</td>\n",
              "      <td>0.405894</td>\n",
              "    </tr>\n",
              "    <tr>\n",
              "      <th>584</th>\n",
              "      <td>0.142857</td>\n",
              "      <td>0.321429</td>\n",
              "      <td>0.085</td>\n",
              "      <td>0.636195</td>\n",
              "      <td>0.375262</td>\n",
              "      <td>0.917858</td>\n",
              "      <td>0.065043</td>\n",
              "    </tr>\n",
              "    <tr>\n",
              "      <th>1702</th>\n",
              "      <td>0.321429</td>\n",
              "      <td>0.300000</td>\n",
              "      <td>0.250</td>\n",
              "      <td>0.849172</td>\n",
              "      <td>0.896882</td>\n",
              "      <td>0.504904</td>\n",
              "      <td>0.355863</td>\n",
              "    </tr>\n",
              "    <tr>\n",
              "      <th>292</th>\n",
              "      <td>0.278571</td>\n",
              "      <td>0.507143</td>\n",
              "      <td>0.355</td>\n",
              "      <td>0.319735</td>\n",
              "      <td>0.015342</td>\n",
              "      <td>0.720203</td>\n",
              "      <td>0.175845</td>\n",
              "    </tr>\n",
              "    <tr>\n",
              "      <th>1344</th>\n",
              "      <td>0.735714</td>\n",
              "      <td>0.078571</td>\n",
              "      <td>0.220</td>\n",
              "      <td>0.437352</td>\n",
              "      <td>0.786044</td>\n",
              "      <td>0.530449</td>\n",
              "      <td>0.113314</td>\n",
              "    </tr>\n",
              "  </tbody>\n",
              "</table>\n",
              "<p>660 rows × 7 columns</p>\n",
              "</div>"
            ],
            "text/plain": [
              "      Nitrogen  Phosphorus  Potassium  Temperature  Humidity  pH_Value  \\\n",
              "1451  0.721429    0.085714      0.210     0.593069  0.938733  0.416821   \n",
              "1334  0.700000    0.021429      0.230     0.497956  0.842992  0.428373   \n",
              "1761  0.421429    0.407143      0.220     0.990962  0.922659  0.534458   \n",
              "1735  0.314286    0.392857      0.250     0.730414  0.890039  0.516399   \n",
              "1576  0.214286    0.942857      0.975     0.404267  0.891779  0.326369   \n",
              "...        ...         ...        ...          ...       ...       ...   \n",
              "398   0.192857    0.414286      0.070     0.347446  0.080856  0.319960   \n",
              "584   0.142857    0.321429      0.085     0.636195  0.375262  0.917858   \n",
              "1702  0.321429    0.300000      0.250     0.849172  0.896882  0.504904   \n",
              "292   0.278571    0.507143      0.355     0.319735  0.015342  0.720203   \n",
              "1344  0.735714    0.078571      0.220     0.437352  0.786044  0.530449   \n",
              "\n",
              "      Rainfall  \n",
              "1451  0.021904  \n",
              "1334  0.104973  \n",
              "1761  0.339742  \n",
              "1735  0.281407  \n",
              "1576  0.353489  \n",
              "...        ...  \n",
              "398   0.405894  \n",
              "584   0.065043  \n",
              "1702  0.355863  \n",
              "292   0.175845  \n",
              "1344  0.113314  \n",
              "\n",
              "[660 rows x 7 columns]"
            ]
          },
          "execution_count": 40,
          "metadata": {},
          "output_type": "execute_result"
        }
      ],
      "source": [
        "X_test"
      ]
    },
    {
      "cell_type": "code",
      "execution_count": null,
      "id": "4f4eb809-2a06-477b-9f9a-422af9bcecb3",
      "metadata": {
        "id": "4f4eb809-2a06-477b-9f9a-422af9bcecb3"
      },
      "outputs": [],
      "source": []
    },
    {
      "cell_type": "code",
      "execution_count": null,
      "id": "99f0797e-2cbd-4fce-9b41-e3a540543c28",
      "metadata": {
        "id": "99f0797e-2cbd-4fce-9b41-e3a540543c28"
      },
      "outputs": [],
      "source": []
    },
    {
      "cell_type": "markdown",
      "id": "3703617a-6d63-4136-9676-4ad2100ec882",
      "metadata": {
        "id": "3703617a-6d63-4136-9676-4ad2100ec882"
      },
      "source": [
        "#### SAVING THE MODEL TO MAKE IT PERMANENT ON MY LOCAL PC:\n",
        "\n",
        "here we can use the model IN OTHER PRODUCTS, OTHER APIs, ETC"
      ]
    },
    {
      "cell_type": "code",
      "execution_count": null,
      "id": "1cefed6c-8c2f-424e-b6be-a72f25632d0a",
      "metadata": {
        "id": "1cefed6c-8c2f-424e-b6be-a72f25632d0a",
        "outputId": "f0974c8f-f1d9-42f3-e68b-88eb8b5288ae"
      },
      "outputs": [
        {
          "name": "stdout",
          "output_type": "stream",
          "text": [
            "Saved Succesfully !!!\n"
          ]
        }
      ],
      "source": [
        "# Here I want to save the model for later use :\n",
        "\n",
        "import pickle\n",
        "\n",
        "# Here I save the model first :\n",
        "with open ('crop_pred_model_v1.pkl','wb') as model_file:\n",
        "    pickle.dump(model_1,model_file)\n",
        "\n",
        "with open('crop_pred_scaler.pkl','wb') as scaler_file :\n",
        "    pickle.dump(pred_scaler,scaler_file)\n",
        "\n",
        "with open('crop_pred_label_encoder.pkl', 'wb') as encoder_file:\n",
        "    pickle.dump(pred_le, encoder_file)\n",
        "\n",
        "\n",
        "print('Saved Succesfully !!!')"
      ]
    },
    {
      "cell_type": "code",
      "execution_count": null,
      "id": "dedefe00-80d3-44d1-87b4-4d2ae271ab23",
      "metadata": {
        "id": "dedefe00-80d3-44d1-87b4-4d2ae271ab23"
      },
      "outputs": [],
      "source": []
    },
    {
      "cell_type": "markdown",
      "id": "9f9ccb8e-40dc-41c9-8594-3757993bed3c",
      "metadata": {
        "id": "9f9ccb8e-40dc-41c9-8594-3757993bed3c"
      },
      "source": [
        "#### For The Purpose Of Confirming that the model and other files were successfully dumped"
      ]
    },
    {
      "cell_type": "code",
      "execution_count": null,
      "id": "b70f9235-f21a-4797-a85f-0f73603cf7e5",
      "metadata": {
        "id": "b70f9235-f21a-4797-a85f-0f73603cf7e5",
        "outputId": "150ae51f-ff8d-40b8-9b79-937772a61e11"
      },
      "outputs": [
        {
          "name": "stdout",
          "output_type": "stream",
          "text": [
            "loaded successfully !!!\n"
          ]
        }
      ],
      "source": [
        "# Now I load the model, the scaler, and the label encoder To make predictions using the created model:\n",
        "\n",
        "import pickle\n",
        "\n",
        "with open ('crop_pred_model_v1.pkl','rb') as model_file:\n",
        "    crop_pred_model_v1 = pickle.load(model_file)\n",
        "\n",
        "with open('crop_pred_scaler.pkl','rb') as scaler_file :\n",
        "    crop_pred_scaler = pickle.load(scaler_file)\n",
        "\n",
        "with open('crop_pred_label_encoder.pkl', 'rb') as encoder_file:\n",
        "    crop_pred_label_encoder = pickle.load(encoder_file)\n",
        "\n",
        "print('loaded successfully !!!')"
      ]
    },
    {
      "cell_type": "code",
      "execution_count": null,
      "id": "9134245d-1f08-47cc-8206-e33579bf5657",
      "metadata": {
        "id": "9134245d-1f08-47cc-8206-e33579bf5657"
      },
      "outputs": [],
      "source": []
    },
    {
      "cell_type": "code",
      "execution_count": null,
      "id": "d610a786-cbc8-4103-9e1e-e0a27c8ee075",
      "metadata": {
        "id": "d610a786-cbc8-4103-9e1e-e0a27c8ee075"
      },
      "outputs": [],
      "source": [
        "# Now time to do the predictions on some random new input data :"
      ]
    },
    {
      "cell_type": "code",
      "execution_count": null,
      "id": "31f8d24d-47f4-4aab-891d-012f2e682dbd",
      "metadata": {
        "id": "31f8d24d-47f4-4aab-891d-012f2e682dbd",
        "outputId": "5bb53059-61de-4046-e323-e5ecef1cb634"
      },
      "outputs": [
        {
          "data": {
            "text/plain": [
              "Index(['Nitrogen', 'Phosphorus', 'Potassium', 'Temperature', 'Humidity',\n",
              "       'pH_Value', 'Rainfall', 'Crop'],\n",
              "      dtype='object')"
            ]
          },
          "execution_count": 31,
          "metadata": {},
          "output_type": "execute_result"
        }
      ],
      "source": [
        "deep_crop.columns"
      ]
    },
    {
      "cell_type": "code",
      "execution_count": null,
      "id": "1f6fe343-d2f1-44b6-9ec9-97d471465de7",
      "metadata": {
        "id": "1f6fe343-d2f1-44b6-9ec9-97d471465de7",
        "outputId": "a33e5dc6-da5e-4d5a-a64b-15a6ca408d69"
      },
      "outputs": [
        {
          "data": {
            "text/plain": [
              "array(['PigeonPeas'], dtype=object)"
            ]
          },
          "execution_count": 7,
          "metadata": {},
          "output_type": "execute_result"
        }
      ],
      "source": [
        "input_data = pd.DataFrame({\n",
        "    'Nitrogen': [5],\n",
        "    'Phosphorus': [68],\n",
        "    'Potassium': [20],\n",
        "    'Temperature' : [19.043805],\n",
        "    'Humidity' : [33.106951],\n",
        "    'pH_Value' : [6.121667],\n",
        "    'Rainfall' : [155.370562]\n",
        "}) # here I have given data from te dataset and I am expecting it to predict Rice ( or the code 20 )\n",
        "\n",
        "# Here I am preprocessing the predictors (independent variables)\n",
        "input_data_scaled = crop_pred_scaler.transform(input_data)\n",
        "\n",
        "# I now make predictions on the input data\n",
        "predicted_labels_encoded = crop_pred_model_v1.predict(input_data)\n",
        "predicted_labels_encoded\n",
        "\n",
        "# Step 5: Decode the predicted labels to their original form\n",
        "# predicted_labels = crop_pred_label_encoder.inverse_transform(predicted_labels_encoded)\n",
        "# predicted_labels\n"
      ]
    },
    {
      "cell_type": "code",
      "execution_count": null,
      "id": "0231559f-86da-44a7-83d2-fa6120e03a4f",
      "metadata": {
        "id": "0231559f-86da-44a7-83d2-fa6120e03a4f"
      },
      "outputs": [],
      "source": [
        "# NOTE : from what I am seeing, I think it will be needed to work on the MinMaxScaler problem (of scaling the data in a bad way without prediction)\n",
        "#        This is because the model is only working when it gets already scaled data (without going through the scaler - this is the problem I want to solve - At this point)"
      ]
    },
    {
      "cell_type": "code",
      "execution_count": null,
      "id": "fd1ad346-db44-4739-b989-d60db58ee188",
      "metadata": {
        "id": "fd1ad346-db44-4739-b989-d60db58ee188"
      },
      "outputs": [],
      "source": []
    },
    {
      "cell_type": "code",
      "execution_count": null,
      "id": "90dc486a-e5e0-44a4-8150-7b3fc1574e5c",
      "metadata": {
        "id": "90dc486a-e5e0-44a4-8150-7b3fc1574e5c"
      },
      "outputs": [],
      "source": []
    },
    {
      "cell_type": "code",
      "execution_count": null,
      "id": "56d44d40-3470-4eb4-b48b-982cf3115021",
      "metadata": {
        "id": "56d44d40-3470-4eb4-b48b-982cf3115021"
      },
      "outputs": [],
      "source": []
    },
    {
      "cell_type": "code",
      "execution_count": null,
      "id": "2a4fccc0-fe13-439f-8c35-97d3445fbab2",
      "metadata": {
        "id": "2a4fccc0-fe13-439f-8c35-97d3445fbab2"
      },
      "outputs": [],
      "source": []
    },
    {
      "cell_type": "markdown",
      "id": "b88ae6b7-b5c8-43d9-aef9-015bcb0cd050",
      "metadata": {
        "id": "b88ae6b7-b5c8-43d9-aef9-015bcb0cd050"
      },
      "source": [
        "### **INPUT/CROP MATCHING ML MODEL:**"
      ]
    },
    {
      "cell_type": "code",
      "execution_count": null,
      "id": "ec2d5f34-c20b-4220-89fb-ad2415ec3764",
      "metadata": {
        "id": "ec2d5f34-c20b-4220-89fb-ad2415ec3764"
      },
      "outputs": [],
      "source": []
    },
    {
      "cell_type": "code",
      "execution_count": null,
      "id": "2ef91513-58b4-4b3b-848c-a07fb7bbf953",
      "metadata": {
        "id": "2ef91513-58b4-4b3b-848c-a07fb7bbf953",
        "outputId": "8914e3fe-bb8f-46ad-e2bc-60266446693e"
      },
      "outputs": [
        {
          "data": {
            "text/html": [
              "<div>\n",
              "<style scoped>\n",
              "    .dataframe tbody tr th:only-of-type {\n",
              "        vertical-align: middle;\n",
              "    }\n",
              "\n",
              "    .dataframe tbody tr th {\n",
              "        vertical-align: top;\n",
              "    }\n",
              "\n",
              "    .dataframe thead th {\n",
              "        text-align: right;\n",
              "    }\n",
              "</style>\n",
              "<table border=\"1\" class=\"dataframe\">\n",
              "  <thead>\n",
              "    <tr style=\"text-align: right;\">\n",
              "      <th></th>\n",
              "      <th>Urea_N</th>\n",
              "      <th>Superphosphate_P</th>\n",
              "      <th>Potassium_Chloride_K</th>\n",
              "      <th>Ammonium_Sulfate_S</th>\n",
              "      <th>Crop</th>\n",
              "    </tr>\n",
              "  </thead>\n",
              "  <tbody>\n",
              "    <tr>\n",
              "      <th>0</th>\n",
              "      <td>35.46</td>\n",
              "      <td>27.39</td>\n",
              "      <td>46.00</td>\n",
              "      <td>9.18</td>\n",
              "      <td>Sweet Potatoes</td>\n",
              "    </tr>\n",
              "    <tr>\n",
              "      <th>1</th>\n",
              "      <td>33.20</td>\n",
              "      <td>24.84</td>\n",
              "      <td>56.60</td>\n",
              "      <td>7.20</td>\n",
              "      <td>Sweet Potatoes</td>\n",
              "    </tr>\n",
              "    <tr>\n",
              "      <th>2</th>\n",
              "      <td>103.38</td>\n",
              "      <td>37.30</td>\n",
              "      <td>62.23</td>\n",
              "      <td>20.26</td>\n",
              "      <td>Rice</td>\n",
              "    </tr>\n",
              "    <tr>\n",
              "      <th>3</th>\n",
              "      <td>141.16</td>\n",
              "      <td>24.15</td>\n",
              "      <td>71.11</td>\n",
              "      <td>17.28</td>\n",
              "      <td>Rice</td>\n",
              "    </tr>\n",
              "    <tr>\n",
              "      <th>4</th>\n",
              "      <td>89.83</td>\n",
              "      <td>67.36</td>\n",
              "      <td>95.48</td>\n",
              "      <td>14.25</td>\n",
              "      <td>Irish Potatoes</td>\n",
              "    </tr>\n",
              "  </tbody>\n",
              "</table>\n",
              "</div>"
            ],
            "text/plain": [
              "   Urea_N  Superphosphate_P  Potassium_Chloride_K  Ammonium_Sulfate_S  \\\n",
              "0   35.46             27.39                 46.00                9.18   \n",
              "1   33.20             24.84                 56.60                7.20   \n",
              "2  103.38             37.30                 62.23               20.26   \n",
              "3  141.16             24.15                 71.11               17.28   \n",
              "4   89.83             67.36                 95.48               14.25   \n",
              "\n",
              "             Crop  \n",
              "0  Sweet Potatoes  \n",
              "1  Sweet Potatoes  \n",
              "2            Rice  \n",
              "3            Rice  \n",
              "4  Irish Potatoes  "
            ]
          },
          "execution_count": 34,
          "metadata": {},
          "output_type": "execute_result"
        }
      ],
      "source": [
        "crop_input_data = pd.read_csv('OFFICIAL_crop_input_recommendation_reduced_dataset.csv')\n",
        "crop_input_data.head()"
      ]
    },
    {
      "cell_type": "code",
      "execution_count": null,
      "id": "ec473583-46f5-4f60-992b-af493875218a",
      "metadata": {
        "id": "ec473583-46f5-4f60-992b-af493875218a",
        "outputId": "1aad7a30-6071-4c7b-a567-d9984ebb8925"
      },
      "outputs": [
        {
          "data": {
            "text/plain": [
              "Crop\n",
              "Beans             16775\n",
              "Cassava           16716\n",
              "Maize             16705\n",
              "Irish Potatoes    16658\n",
              "Rice              16582\n",
              "Sweet Potatoes    16564\n",
              "Name: count, dtype: int64"
            ]
          },
          "execution_count": 19,
          "metadata": {},
          "output_type": "execute_result"
        }
      ],
      "source": [
        "crop_input_data['Crop'].value_counts()"
      ]
    },
    {
      "cell_type": "code",
      "execution_count": null,
      "id": "4fbc9f83-f1c3-47e5-a6c3-a3938d669b96",
      "metadata": {
        "id": "4fbc9f83-f1c3-47e5-a6c3-a3938d669b96"
      },
      "outputs": [],
      "source": []
    },
    {
      "cell_type": "code",
      "execution_count": null,
      "id": "95e91f3e-f7d4-481e-8733-621968573b05",
      "metadata": {
        "id": "95e91f3e-f7d4-481e-8733-621968573b05",
        "outputId": "b1c0eaa9-dd51-43d1-b892-34b05f80c057"
      },
      "outputs": [
        {
          "data": {
            "text/html": [
              "<div>\n",
              "<style scoped>\n",
              "    .dataframe tbody tr th:only-of-type {\n",
              "        vertical-align: middle;\n",
              "    }\n",
              "\n",
              "    .dataframe tbody tr th {\n",
              "        vertical-align: top;\n",
              "    }\n",
              "\n",
              "    .dataframe thead th {\n",
              "        text-align: right;\n",
              "    }\n",
              "</style>\n",
              "<table border=\"1\" class=\"dataframe\">\n",
              "  <thead>\n",
              "    <tr style=\"text-align: right;\">\n",
              "      <th></th>\n",
              "      <th>Urea_N</th>\n",
              "      <th>Superphosphate_P</th>\n",
              "      <th>Potassium_Chloride_K</th>\n",
              "      <th>Ammonium_Sulfate_S</th>\n",
              "      <th>Crop</th>\n",
              "    </tr>\n",
              "  </thead>\n",
              "  <tbody>\n",
              "    <tr>\n",
              "      <th>0</th>\n",
              "      <td>35.46</td>\n",
              "      <td>27.39</td>\n",
              "      <td>46.00</td>\n",
              "      <td>9.18</td>\n",
              "      <td>5</td>\n",
              "    </tr>\n",
              "    <tr>\n",
              "      <th>1</th>\n",
              "      <td>33.20</td>\n",
              "      <td>24.84</td>\n",
              "      <td>56.60</td>\n",
              "      <td>7.20</td>\n",
              "      <td>5</td>\n",
              "    </tr>\n",
              "    <tr>\n",
              "      <th>2</th>\n",
              "      <td>103.38</td>\n",
              "      <td>37.30</td>\n",
              "      <td>62.23</td>\n",
              "      <td>20.26</td>\n",
              "      <td>4</td>\n",
              "    </tr>\n",
              "    <tr>\n",
              "      <th>3</th>\n",
              "      <td>141.16</td>\n",
              "      <td>24.15</td>\n",
              "      <td>71.11</td>\n",
              "      <td>17.28</td>\n",
              "      <td>4</td>\n",
              "    </tr>\n",
              "    <tr>\n",
              "      <th>4</th>\n",
              "      <td>89.83</td>\n",
              "      <td>67.36</td>\n",
              "      <td>95.48</td>\n",
              "      <td>14.25</td>\n",
              "      <td>2</td>\n",
              "    </tr>\n",
              "    <tr>\n",
              "      <th>...</th>\n",
              "      <td>...</td>\n",
              "      <td>...</td>\n",
              "      <td>...</td>\n",
              "      <td>...</td>\n",
              "      <td>...</td>\n",
              "    </tr>\n",
              "    <tr>\n",
              "      <th>99995</th>\n",
              "      <td>30.60</td>\n",
              "      <td>49.88</td>\n",
              "      <td>29.23</td>\n",
              "      <td>14.04</td>\n",
              "      <td>0</td>\n",
              "    </tr>\n",
              "    <tr>\n",
              "      <th>99996</th>\n",
              "      <td>21.75</td>\n",
              "      <td>42.51</td>\n",
              "      <td>23.46</td>\n",
              "      <td>14.85</td>\n",
              "      <td>0</td>\n",
              "    </tr>\n",
              "    <tr>\n",
              "      <th>99997</th>\n",
              "      <td>33.87</td>\n",
              "      <td>27.14</td>\n",
              "      <td>56.83</td>\n",
              "      <td>8.72</td>\n",
              "      <td>5</td>\n",
              "    </tr>\n",
              "    <tr>\n",
              "      <th>99998</th>\n",
              "      <td>146.61</td>\n",
              "      <td>39.10</td>\n",
              "      <td>70.45</td>\n",
              "      <td>24.53</td>\n",
              "      <td>4</td>\n",
              "    </tr>\n",
              "    <tr>\n",
              "      <th>99999</th>\n",
              "      <td>68.92</td>\n",
              "      <td>31.57</td>\n",
              "      <td>76.03</td>\n",
              "      <td>14.85</td>\n",
              "      <td>1</td>\n",
              "    </tr>\n",
              "  </tbody>\n",
              "</table>\n",
              "<p>100000 rows × 5 columns</p>\n",
              "</div>"
            ],
            "text/plain": [
              "       Urea_N  Superphosphate_P  Potassium_Chloride_K  Ammonium_Sulfate_S  \\\n",
              "0       35.46             27.39                 46.00                9.18   \n",
              "1       33.20             24.84                 56.60                7.20   \n",
              "2      103.38             37.30                 62.23               20.26   \n",
              "3      141.16             24.15                 71.11               17.28   \n",
              "4       89.83             67.36                 95.48               14.25   \n",
              "...       ...               ...                   ...                 ...   \n",
              "99995   30.60             49.88                 29.23               14.04   \n",
              "99996   21.75             42.51                 23.46               14.85   \n",
              "99997   33.87             27.14                 56.83                8.72   \n",
              "99998  146.61             39.10                 70.45               24.53   \n",
              "99999   68.92             31.57                 76.03               14.85   \n",
              "\n",
              "       Crop  \n",
              "0         5  \n",
              "1         5  \n",
              "2         4  \n",
              "3         4  \n",
              "4         2  \n",
              "...     ...  \n",
              "99995     0  \n",
              "99996     0  \n",
              "99997     5  \n",
              "99998     4  \n",
              "99999     1  \n",
              "\n",
              "[100000 rows x 5 columns]"
            ]
          },
          "execution_count": 8,
          "metadata": {},
          "output_type": "execute_result"
        }
      ],
      "source": [
        "from sklearn.preprocessing import LabelEncoder\n",
        "input_le = LabelEncoder()\n",
        "\n",
        "crop_input_data['Crop'] = input_le.fit_transform(crop_input_data['Crop'])\n",
        "crop_input_data"
      ]
    },
    {
      "cell_type": "code",
      "execution_count": null,
      "id": "8731119e-7841-430f-9c7c-c2c7fe93904d",
      "metadata": {
        "id": "8731119e-7841-430f-9c7c-c2c7fe93904d"
      },
      "outputs": [],
      "source": []
    },
    {
      "cell_type": "code",
      "execution_count": null,
      "id": "29990dd5-767b-4a88-a51e-6d052637faec",
      "metadata": {
        "id": "29990dd5-767b-4a88-a51e-6d052637faec",
        "outputId": "24e241de-11d6-41ec-ea0c-e932ce43cb2c"
      },
      "outputs": [
        {
          "data": {
            "text/plain": [
              "array([5, 4, 2, 1, 3, 0])"
            ]
          },
          "execution_count": 24,
          "metadata": {},
          "output_type": "execute_result"
        }
      ],
      "source": [
        "crop_input_data['Crop'].unique()\n",
        "# USE THESE NUMBERS TO MATCH THEM TO THEIR CORRESPONDING CROP AND USE IT LATER IN THE PREDICTION PROCESS."
      ]
    },
    {
      "cell_type": "code",
      "execution_count": null,
      "id": "40c87807-bb0a-4014-bd4f-81edaecd40d7",
      "metadata": {
        "id": "40c87807-bb0a-4014-bd4f-81edaecd40d7"
      },
      "outputs": [],
      "source": []
    },
    {
      "cell_type": "markdown",
      "id": "acab1da7-4adb-4de3-98a5-9c8b287de072",
      "metadata": {
        "id": "acab1da7-4adb-4de3-98a5-9c8b287de072"
      },
      "source": [
        "### Data Splitting For Input/Crop Dataset:"
      ]
    },
    {
      "cell_type": "code",
      "execution_count": null,
      "id": "fb2aa68e-97d5-4d10-8d90-2c95701bc6f5",
      "metadata": {
        "id": "fb2aa68e-97d5-4d10-8d90-2c95701bc6f5"
      },
      "outputs": [],
      "source": [
        "X = crop_input_data.drop('Crop', axis = 1)\n",
        "y = crop_input_data['Crop']"
      ]
    },
    {
      "cell_type": "code",
      "execution_count": null,
      "id": "189bd6c4-1ca4-447c-b9ed-bebde177ae83",
      "metadata": {
        "id": "189bd6c4-1ca4-447c-b9ed-bebde177ae83"
      },
      "outputs": [],
      "source": []
    },
    {
      "cell_type": "code",
      "execution_count": null,
      "id": "42a2b612-2bb7-445e-9178-ccfeadf1e8f8",
      "metadata": {
        "id": "42a2b612-2bb7-445e-9178-ccfeadf1e8f8"
      },
      "outputs": [],
      "source": [
        "np.random.seed(42)\n",
        "X_train, X_test, y_train, y_test = train_test_split(X, y, test_size = 0.3)"
      ]
    },
    {
      "cell_type": "code",
      "execution_count": null,
      "id": "d03f4a45-5bc4-409a-9dc2-206a21a7cb20",
      "metadata": {
        "id": "d03f4a45-5bc4-409a-9dc2-206a21a7cb20"
      },
      "outputs": [],
      "source": []
    },
    {
      "cell_type": "markdown",
      "id": "72428550-463b-4688-bb64-8cf5c6b46100",
      "metadata": {
        "id": "72428550-463b-4688-bb64-8cf5c6b46100"
      },
      "source": [
        "### **Model choice:**\n",
        "\n",
        "At this stage, I still wanted to try something new and powerfull to see how effective it can also be when used for classification. This was a pure curiosity attempt that turned to be the best choice I could do in this case, proving the effectiveness of the LIGHT GRADIANT BOOSTING (lgb)."
      ]
    },
    {
      "cell_type": "code",
      "execution_count": null,
      "id": "0d7aa062-aebf-48b6-93fb-ea8ca11b5297",
      "metadata": {
        "id": "0d7aa062-aebf-48b6-93fb-ea8ca11b5297"
      },
      "outputs": [],
      "source": []
    },
    {
      "cell_type": "code",
      "execution_count": null,
      "id": "bcb95a50-f0ef-4dfc-87bf-7f197708ae84",
      "metadata": {
        "id": "bcb95a50-f0ef-4dfc-87bf-7f197708ae84",
        "outputId": "7d36a98b-e185-4915-ba03-fa5bd5ffe4a0"
      },
      "outputs": [
        {
          "name": "stdout",
          "output_type": "stream",
          "text": [
            "[LightGBM] [Info] Auto-choosing row-wise multi-threading, the overhead of testing was 0.001428 seconds.\n",
            "You can set `force_row_wise=true` to remove the overhead.\n",
            "And if memory is not enough, you can set `force_col_wise=true`.\n",
            "[LightGBM] [Info] Total Bins 1020\n",
            "[LightGBM] [Info] Number of data points in the train set: 70000, number of used features: 4\n",
            "[LightGBM] [Info] Start training from score -1.795165\n",
            "[LightGBM] [Info] Start training from score -1.789933\n",
            "[LightGBM] [Info] Start training from score -1.797059\n",
            "[LightGBM] [Info] Start training from score -1.785919\n",
            "[LightGBM] [Info] Start training from score -1.793447\n",
            "[LightGBM] [Info] Start training from score -1.789077\n",
            "[LightGBM] [Warning] No further splits with positive gain, best gain: -inf\n",
            "[LightGBM] [Warning] No further splits with positive gain, best gain: -inf\n",
            "[LightGBM] [Warning] No further splits with positive gain, best gain: -inf\n",
            "[LightGBM] [Warning] No further splits with positive gain, best gain: -inf\n",
            "[LightGBM] [Warning] No further splits with positive gain, best gain: -inf\n",
            "[LightGBM] [Warning] No further splits with positive gain, best gain: -inf\n",
            "[LightGBM] [Warning] No further splits with positive gain, best gain: -inf\n",
            "[LightGBM] [Warning] No further splits with positive gain, best gain: -inf\n",
            "[LightGBM] [Warning] No further splits with positive gain, best gain: -inf\n",
            "[LightGBM] [Warning] No further splits with positive gain, best gain: -inf\n",
            "[LightGBM] [Warning] No further splits with positive gain, best gain: -inf\n",
            "[LightGBM] [Warning] No further splits with positive gain, best gain: -inf\n",
            "[LightGBM] [Warning] No further splits with positive gain, best gain: -inf\n",
            "[LightGBM] [Warning] No further splits with positive gain, best gain: -inf\n",
            "[LightGBM] [Warning] No further splits with positive gain, best gain: -inf\n",
            "[LightGBM] [Warning] No further splits with positive gain, best gain: -inf\n",
            "[LightGBM] [Warning] No further splits with positive gain, best gain: -inf\n",
            "[LightGBM] [Warning] No further splits with positive gain, best gain: -inf\n",
            "[LightGBM] [Warning] No further splits with positive gain, best gain: -inf\n",
            "[LightGBM] [Warning] No further splits with positive gain, best gain: -inf\n",
            "[LightGBM] [Warning] No further splits with positive gain, best gain: -inf\n",
            "[LightGBM] [Warning] No further splits with positive gain, best gain: -inf\n",
            "[LightGBM] [Warning] No further splits with positive gain, best gain: -inf\n",
            "[LightGBM] [Warning] No further splits with positive gain, best gain: -inf\n",
            "[LightGBM] [Warning] No further splits with positive gain, best gain: -inf\n",
            "[LightGBM] [Warning] No further splits with positive gain, best gain: -inf\n",
            "[LightGBM] [Warning] No further splits with positive gain, best gain: -inf\n",
            "[LightGBM] [Warning] No further splits with positive gain, best gain: -inf\n",
            "[LightGBM] [Warning] No further splits with positive gain, best gain: -inf\n",
            "[LightGBM] [Warning] No further splits with positive gain, best gain: -inf\n",
            "[LightGBM] [Warning] No further splits with positive gain, best gain: -inf\n",
            "[LightGBM] [Warning] No further splits with positive gain, best gain: -inf\n",
            "[LightGBM] [Warning] No further splits with positive gain, best gain: -inf\n",
            "[LightGBM] [Warning] No further splits with positive gain, best gain: -inf\n",
            "[LightGBM] [Warning] No further splits with positive gain, best gain: -inf\n",
            "[LightGBM] [Warning] No further splits with positive gain, best gain: -inf\n",
            "[LightGBM] [Warning] No further splits with positive gain, best gain: -inf\n",
            "[LightGBM] [Warning] No further splits with positive gain, best gain: -inf\n",
            "[LightGBM] [Warning] No further splits with positive gain, best gain: -inf\n",
            "[LightGBM] [Warning] No further splits with positive gain, best gain: -inf\n",
            "[LightGBM] [Warning] No further splits with positive gain, best gain: -inf\n",
            "[LightGBM] [Warning] No further splits with positive gain, best gain: -inf\n",
            "[LightGBM] [Warning] No further splits with positive gain, best gain: -inf\n",
            "[LightGBM] [Warning] No further splits with positive gain, best gain: -inf\n",
            "[LightGBM] [Warning] No further splits with positive gain, best gain: -inf\n",
            "[LightGBM] [Warning] No further splits with positive gain, best gain: -inf\n",
            "[LightGBM] [Warning] No further splits with positive gain, best gain: -inf\n",
            "[LightGBM] [Warning] No further splits with positive gain, best gain: -inf\n",
            "[LightGBM] [Warning] No further splits with positive gain, best gain: -inf\n",
            "[LightGBM] [Warning] No further splits with positive gain, best gain: -inf\n",
            "[LightGBM] [Warning] No further splits with positive gain, best gain: -inf\n",
            "[LightGBM] [Warning] No further splits with positive gain, best gain: -inf\n",
            "[LightGBM] [Warning] No further splits with positive gain, best gain: -inf\n",
            "[LightGBM] [Warning] No further splits with positive gain, best gain: -inf\n",
            "[LightGBM] [Warning] No further splits with positive gain, best gain: -inf\n",
            "[LightGBM] [Warning] No further splits with positive gain, best gain: -inf\n",
            "[LightGBM] [Warning] No further splits with positive gain, best gain: -inf\n",
            "[LightGBM] [Warning] No further splits with positive gain, best gain: -inf\n",
            "[LightGBM] [Warning] No further splits with positive gain, best gain: -inf\n",
            "[LightGBM] [Warning] No further splits with positive gain, best gain: -inf\n",
            "[LightGBM] [Warning] No further splits with positive gain, best gain: -inf\n",
            "[LightGBM] [Warning] No further splits with positive gain, best gain: -inf\n",
            "[LightGBM] [Warning] No further splits with positive gain, best gain: -inf\n",
            "[LightGBM] [Warning] No further splits with positive gain, best gain: -inf\n",
            "[LightGBM] [Warning] No further splits with positive gain, best gain: -inf\n",
            "[LightGBM] [Warning] No further splits with positive gain, best gain: -inf\n",
            "[LightGBM] [Warning] No further splits with positive gain, best gain: -inf\n",
            "[LightGBM] [Warning] No further splits with positive gain, best gain: -inf\n",
            "[LightGBM] [Warning] No further splits with positive gain, best gain: -inf\n",
            "[LightGBM] [Warning] No further splits with positive gain, best gain: -inf\n",
            "[LightGBM] [Warning] No further splits with positive gain, best gain: -inf\n",
            "[LightGBM] [Warning] No further splits with positive gain, best gain: -inf\n",
            "[LightGBM] [Warning] No further splits with positive gain, best gain: -inf\n",
            "[LightGBM] [Warning] No further splits with positive gain, best gain: -inf\n",
            "[LightGBM] [Warning] No further splits with positive gain, best gain: -inf\n",
            "[LightGBM] [Warning] No further splits with positive gain, best gain: -inf\n",
            "[LightGBM] [Warning] No further splits with positive gain, best gain: -inf\n",
            "[LightGBM] [Warning] No further splits with positive gain, best gain: -inf\n",
            "[LightGBM] [Warning] No further splits with positive gain, best gain: -inf\n",
            "[LightGBM] [Warning] No further splits with positive gain, best gain: -inf\n",
            "[LightGBM] [Warning] No further splits with positive gain, best gain: -inf\n",
            "[LightGBM] [Warning] No further splits with positive gain, best gain: -inf\n",
            "[LightGBM] [Warning] No further splits with positive gain, best gain: -inf\n",
            "[LightGBM] [Warning] No further splits with positive gain, best gain: -inf\n",
            "[LightGBM] [Warning] No further splits with positive gain, best gain: -inf\n",
            "[LightGBM] [Warning] No further splits with positive gain, best gain: -inf\n",
            "[LightGBM] [Warning] No further splits with positive gain, best gain: -inf\n",
            "[LightGBM] [Warning] No further splits with positive gain, best gain: -inf\n",
            "[LightGBM] [Warning] No further splits with positive gain, best gain: -inf\n",
            "[LightGBM] [Warning] No further splits with positive gain, best gain: -inf\n",
            "[LightGBM] [Warning] No further splits with positive gain, best gain: -inf\n"
          ]
        },
        {
          "data": {
            "text/html": [
              "<style>#sk-container-id-1 {\n",
              "  /* Definition of color scheme common for light and dark mode */\n",
              "  --sklearn-color-text: black;\n",
              "  --sklearn-color-line: gray;\n",
              "  /* Definition of color scheme for unfitted estimators */\n",
              "  --sklearn-color-unfitted-level-0: #fff5e6;\n",
              "  --sklearn-color-unfitted-level-1: #f6e4d2;\n",
              "  --sklearn-color-unfitted-level-2: #ffe0b3;\n",
              "  --sklearn-color-unfitted-level-3: chocolate;\n",
              "  /* Definition of color scheme for fitted estimators */\n",
              "  --sklearn-color-fitted-level-0: #f0f8ff;\n",
              "  --sklearn-color-fitted-level-1: #d4ebff;\n",
              "  --sklearn-color-fitted-level-2: #b3dbfd;\n",
              "  --sklearn-color-fitted-level-3: cornflowerblue;\n",
              "\n",
              "  /* Specific color for light theme */\n",
              "  --sklearn-color-text-on-default-background: var(--sg-text-color, var(--theme-code-foreground, var(--jp-content-font-color1, black)));\n",
              "  --sklearn-color-background: var(--sg-background-color, var(--theme-background, var(--jp-layout-color0, white)));\n",
              "  --sklearn-color-border-box: var(--sg-text-color, var(--theme-code-foreground, var(--jp-content-font-color1, black)));\n",
              "  --sklearn-color-icon: #696969;\n",
              "\n",
              "  @media (prefers-color-scheme: dark) {\n",
              "    /* Redefinition of color scheme for dark theme */\n",
              "    --sklearn-color-text-on-default-background: var(--sg-text-color, var(--theme-code-foreground, var(--jp-content-font-color1, white)));\n",
              "    --sklearn-color-background: var(--sg-background-color, var(--theme-background, var(--jp-layout-color0, #111)));\n",
              "    --sklearn-color-border-box: var(--sg-text-color, var(--theme-code-foreground, var(--jp-content-font-color1, white)));\n",
              "    --sklearn-color-icon: #878787;\n",
              "  }\n",
              "}\n",
              "\n",
              "#sk-container-id-1 {\n",
              "  color: var(--sklearn-color-text);\n",
              "}\n",
              "\n",
              "#sk-container-id-1 pre {\n",
              "  padding: 0;\n",
              "}\n",
              "\n",
              "#sk-container-id-1 input.sk-hidden--visually {\n",
              "  border: 0;\n",
              "  clip: rect(1px 1px 1px 1px);\n",
              "  clip: rect(1px, 1px, 1px, 1px);\n",
              "  height: 1px;\n",
              "  margin: -1px;\n",
              "  overflow: hidden;\n",
              "  padding: 0;\n",
              "  position: absolute;\n",
              "  width: 1px;\n",
              "}\n",
              "\n",
              "#sk-container-id-1 div.sk-dashed-wrapped {\n",
              "  border: 1px dashed var(--sklearn-color-line);\n",
              "  margin: 0 0.4em 0.5em 0.4em;\n",
              "  box-sizing: border-box;\n",
              "  padding-bottom: 0.4em;\n",
              "  background-color: var(--sklearn-color-background);\n",
              "}\n",
              "\n",
              "#sk-container-id-1 div.sk-container {\n",
              "  /* jupyter's `normalize.less` sets `[hidden] { display: none; }`\n",
              "     but bootstrap.min.css set `[hidden] { display: none !important; }`\n",
              "     so we also need the `!important` here to be able to override the\n",
              "     default hidden behavior on the sphinx rendered scikit-learn.org.\n",
              "     See: https://github.com/scikit-learn/scikit-learn/issues/21755 */\n",
              "  display: inline-block !important;\n",
              "  position: relative;\n",
              "}\n",
              "\n",
              "#sk-container-id-1 div.sk-text-repr-fallback {\n",
              "  display: none;\n",
              "}\n",
              "\n",
              "div.sk-parallel-item,\n",
              "div.sk-serial,\n",
              "div.sk-item {\n",
              "  /* draw centered vertical line to link estimators */\n",
              "  background-image: linear-gradient(var(--sklearn-color-text-on-default-background), var(--sklearn-color-text-on-default-background));\n",
              "  background-size: 2px 100%;\n",
              "  background-repeat: no-repeat;\n",
              "  background-position: center center;\n",
              "}\n",
              "\n",
              "/* Parallel-specific style estimator block */\n",
              "\n",
              "#sk-container-id-1 div.sk-parallel-item::after {\n",
              "  content: \"\";\n",
              "  width: 100%;\n",
              "  border-bottom: 2px solid var(--sklearn-color-text-on-default-background);\n",
              "  flex-grow: 1;\n",
              "}\n",
              "\n",
              "#sk-container-id-1 div.sk-parallel {\n",
              "  display: flex;\n",
              "  align-items: stretch;\n",
              "  justify-content: center;\n",
              "  background-color: var(--sklearn-color-background);\n",
              "  position: relative;\n",
              "}\n",
              "\n",
              "#sk-container-id-1 div.sk-parallel-item {\n",
              "  display: flex;\n",
              "  flex-direction: column;\n",
              "}\n",
              "\n",
              "#sk-container-id-1 div.sk-parallel-item:first-child::after {\n",
              "  align-self: flex-end;\n",
              "  width: 50%;\n",
              "}\n",
              "\n",
              "#sk-container-id-1 div.sk-parallel-item:last-child::after {\n",
              "  align-self: flex-start;\n",
              "  width: 50%;\n",
              "}\n",
              "\n",
              "#sk-container-id-1 div.sk-parallel-item:only-child::after {\n",
              "  width: 0;\n",
              "}\n",
              "\n",
              "/* Serial-specific style estimator block */\n",
              "\n",
              "#sk-container-id-1 div.sk-serial {\n",
              "  display: flex;\n",
              "  flex-direction: column;\n",
              "  align-items: center;\n",
              "  background-color: var(--sklearn-color-background);\n",
              "  padding-right: 1em;\n",
              "  padding-left: 1em;\n",
              "}\n",
              "\n",
              "\n",
              "/* Toggleable style: style used for estimator/Pipeline/ColumnTransformer box that is\n",
              "clickable and can be expanded/collapsed.\n",
              "- Pipeline and ColumnTransformer use this feature and define the default style\n",
              "- Estimators will overwrite some part of the style using the `sk-estimator` class\n",
              "*/\n",
              "\n",
              "/* Pipeline and ColumnTransformer style (default) */\n",
              "\n",
              "#sk-container-id-1 div.sk-toggleable {\n",
              "  /* Default theme specific background. It is overwritten whether we have a\n",
              "  specific estimator or a Pipeline/ColumnTransformer */\n",
              "  background-color: var(--sklearn-color-background);\n",
              "}\n",
              "\n",
              "/* Toggleable label */\n",
              "#sk-container-id-1 label.sk-toggleable__label {\n",
              "  cursor: pointer;\n",
              "  display: block;\n",
              "  width: 100%;\n",
              "  margin-bottom: 0;\n",
              "  padding: 0.5em;\n",
              "  box-sizing: border-box;\n",
              "  text-align: center;\n",
              "}\n",
              "\n",
              "#sk-container-id-1 label.sk-toggleable__label-arrow:before {\n",
              "  /* Arrow on the left of the label */\n",
              "  content: \"▸\";\n",
              "  float: left;\n",
              "  margin-right: 0.25em;\n",
              "  color: var(--sklearn-color-icon);\n",
              "}\n",
              "\n",
              "#sk-container-id-1 label.sk-toggleable__label-arrow:hover:before {\n",
              "  color: var(--sklearn-color-text);\n",
              "}\n",
              "\n",
              "/* Toggleable content - dropdown */\n",
              "\n",
              "#sk-container-id-1 div.sk-toggleable__content {\n",
              "  max-height: 0;\n",
              "  max-width: 0;\n",
              "  overflow: hidden;\n",
              "  text-align: left;\n",
              "  /* unfitted */\n",
              "  background-color: var(--sklearn-color-unfitted-level-0);\n",
              "}\n",
              "\n",
              "#sk-container-id-1 div.sk-toggleable__content.fitted {\n",
              "  /* fitted */\n",
              "  background-color: var(--sklearn-color-fitted-level-0);\n",
              "}\n",
              "\n",
              "#sk-container-id-1 div.sk-toggleable__content pre {\n",
              "  margin: 0.2em;\n",
              "  border-radius: 0.25em;\n",
              "  color: var(--sklearn-color-text);\n",
              "  /* unfitted */\n",
              "  background-color: var(--sklearn-color-unfitted-level-0);\n",
              "}\n",
              "\n",
              "#sk-container-id-1 div.sk-toggleable__content.fitted pre {\n",
              "  /* unfitted */\n",
              "  background-color: var(--sklearn-color-fitted-level-0);\n",
              "}\n",
              "\n",
              "#sk-container-id-1 input.sk-toggleable__control:checked~div.sk-toggleable__content {\n",
              "  /* Expand drop-down */\n",
              "  max-height: 200px;\n",
              "  max-width: 100%;\n",
              "  overflow: auto;\n",
              "}\n",
              "\n",
              "#sk-container-id-1 input.sk-toggleable__control:checked~label.sk-toggleable__label-arrow:before {\n",
              "  content: \"▾\";\n",
              "}\n",
              "\n",
              "/* Pipeline/ColumnTransformer-specific style */\n",
              "\n",
              "#sk-container-id-1 div.sk-label input.sk-toggleable__control:checked~label.sk-toggleable__label {\n",
              "  color: var(--sklearn-color-text);\n",
              "  background-color: var(--sklearn-color-unfitted-level-2);\n",
              "}\n",
              "\n",
              "#sk-container-id-1 div.sk-label.fitted input.sk-toggleable__control:checked~label.sk-toggleable__label {\n",
              "  background-color: var(--sklearn-color-fitted-level-2);\n",
              "}\n",
              "\n",
              "/* Estimator-specific style */\n",
              "\n",
              "/* Colorize estimator box */\n",
              "#sk-container-id-1 div.sk-estimator input.sk-toggleable__control:checked~label.sk-toggleable__label {\n",
              "  /* unfitted */\n",
              "  background-color: var(--sklearn-color-unfitted-level-2);\n",
              "}\n",
              "\n",
              "#sk-container-id-1 div.sk-estimator.fitted input.sk-toggleable__control:checked~label.sk-toggleable__label {\n",
              "  /* fitted */\n",
              "  background-color: var(--sklearn-color-fitted-level-2);\n",
              "}\n",
              "\n",
              "#sk-container-id-1 div.sk-label label.sk-toggleable__label,\n",
              "#sk-container-id-1 div.sk-label label {\n",
              "  /* The background is the default theme color */\n",
              "  color: var(--sklearn-color-text-on-default-background);\n",
              "}\n",
              "\n",
              "/* On hover, darken the color of the background */\n",
              "#sk-container-id-1 div.sk-label:hover label.sk-toggleable__label {\n",
              "  color: var(--sklearn-color-text);\n",
              "  background-color: var(--sklearn-color-unfitted-level-2);\n",
              "}\n",
              "\n",
              "/* Label box, darken color on hover, fitted */\n",
              "#sk-container-id-1 div.sk-label.fitted:hover label.sk-toggleable__label.fitted {\n",
              "  color: var(--sklearn-color-text);\n",
              "  background-color: var(--sklearn-color-fitted-level-2);\n",
              "}\n",
              "\n",
              "/* Estimator label */\n",
              "\n",
              "#sk-container-id-1 div.sk-label label {\n",
              "  font-family: monospace;\n",
              "  font-weight: bold;\n",
              "  display: inline-block;\n",
              "  line-height: 1.2em;\n",
              "}\n",
              "\n",
              "#sk-container-id-1 div.sk-label-container {\n",
              "  text-align: center;\n",
              "}\n",
              "\n",
              "/* Estimator-specific */\n",
              "#sk-container-id-1 div.sk-estimator {\n",
              "  font-family: monospace;\n",
              "  border: 1px dotted var(--sklearn-color-border-box);\n",
              "  border-radius: 0.25em;\n",
              "  box-sizing: border-box;\n",
              "  margin-bottom: 0.5em;\n",
              "  /* unfitted */\n",
              "  background-color: var(--sklearn-color-unfitted-level-0);\n",
              "}\n",
              "\n",
              "#sk-container-id-1 div.sk-estimator.fitted {\n",
              "  /* fitted */\n",
              "  background-color: var(--sklearn-color-fitted-level-0);\n",
              "}\n",
              "\n",
              "/* on hover */\n",
              "#sk-container-id-1 div.sk-estimator:hover {\n",
              "  /* unfitted */\n",
              "  background-color: var(--sklearn-color-unfitted-level-2);\n",
              "}\n",
              "\n",
              "#sk-container-id-1 div.sk-estimator.fitted:hover {\n",
              "  /* fitted */\n",
              "  background-color: var(--sklearn-color-fitted-level-2);\n",
              "}\n",
              "\n",
              "/* Specification for estimator info (e.g. \"i\" and \"?\") */\n",
              "\n",
              "/* Common style for \"i\" and \"?\" */\n",
              "\n",
              ".sk-estimator-doc-link,\n",
              "a:link.sk-estimator-doc-link,\n",
              "a:visited.sk-estimator-doc-link {\n",
              "  float: right;\n",
              "  font-size: smaller;\n",
              "  line-height: 1em;\n",
              "  font-family: monospace;\n",
              "  background-color: var(--sklearn-color-background);\n",
              "  border-radius: 1em;\n",
              "  height: 1em;\n",
              "  width: 1em;\n",
              "  text-decoration: none !important;\n",
              "  margin-left: 1ex;\n",
              "  /* unfitted */\n",
              "  border: var(--sklearn-color-unfitted-level-1) 1pt solid;\n",
              "  color: var(--sklearn-color-unfitted-level-1);\n",
              "}\n",
              "\n",
              ".sk-estimator-doc-link.fitted,\n",
              "a:link.sk-estimator-doc-link.fitted,\n",
              "a:visited.sk-estimator-doc-link.fitted {\n",
              "  /* fitted */\n",
              "  border: var(--sklearn-color-fitted-level-1) 1pt solid;\n",
              "  color: var(--sklearn-color-fitted-level-1);\n",
              "}\n",
              "\n",
              "/* On hover */\n",
              "div.sk-estimator:hover .sk-estimator-doc-link:hover,\n",
              ".sk-estimator-doc-link:hover,\n",
              "div.sk-label-container:hover .sk-estimator-doc-link:hover,\n",
              ".sk-estimator-doc-link:hover {\n",
              "  /* unfitted */\n",
              "  background-color: var(--sklearn-color-unfitted-level-3);\n",
              "  color: var(--sklearn-color-background);\n",
              "  text-decoration: none;\n",
              "}\n",
              "\n",
              "div.sk-estimator.fitted:hover .sk-estimator-doc-link.fitted:hover,\n",
              ".sk-estimator-doc-link.fitted:hover,\n",
              "div.sk-label-container:hover .sk-estimator-doc-link.fitted:hover,\n",
              ".sk-estimator-doc-link.fitted:hover {\n",
              "  /* fitted */\n",
              "  background-color: var(--sklearn-color-fitted-level-3);\n",
              "  color: var(--sklearn-color-background);\n",
              "  text-decoration: none;\n",
              "}\n",
              "\n",
              "/* Span, style for the box shown on hovering the info icon */\n",
              ".sk-estimator-doc-link span {\n",
              "  display: none;\n",
              "  z-index: 9999;\n",
              "  position: relative;\n",
              "  font-weight: normal;\n",
              "  right: .2ex;\n",
              "  padding: .5ex;\n",
              "  margin: .5ex;\n",
              "  width: min-content;\n",
              "  min-width: 20ex;\n",
              "  max-width: 50ex;\n",
              "  color: var(--sklearn-color-text);\n",
              "  box-shadow: 2pt 2pt 4pt #999;\n",
              "  /* unfitted */\n",
              "  background: var(--sklearn-color-unfitted-level-0);\n",
              "  border: .5pt solid var(--sklearn-color-unfitted-level-3);\n",
              "}\n",
              "\n",
              ".sk-estimator-doc-link.fitted span {\n",
              "  /* fitted */\n",
              "  background: var(--sklearn-color-fitted-level-0);\n",
              "  border: var(--sklearn-color-fitted-level-3);\n",
              "}\n",
              "\n",
              ".sk-estimator-doc-link:hover span {\n",
              "  display: block;\n",
              "}\n",
              "\n",
              "/* \"?\"-specific style due to the `<a>` HTML tag */\n",
              "\n",
              "#sk-container-id-1 a.estimator_doc_link {\n",
              "  float: right;\n",
              "  font-size: 1rem;\n",
              "  line-height: 1em;\n",
              "  font-family: monospace;\n",
              "  background-color: var(--sklearn-color-background);\n",
              "  border-radius: 1rem;\n",
              "  height: 1rem;\n",
              "  width: 1rem;\n",
              "  text-decoration: none;\n",
              "  /* unfitted */\n",
              "  color: var(--sklearn-color-unfitted-level-1);\n",
              "  border: var(--sklearn-color-unfitted-level-1) 1pt solid;\n",
              "}\n",
              "\n",
              "#sk-container-id-1 a.estimator_doc_link.fitted {\n",
              "  /* fitted */\n",
              "  border: var(--sklearn-color-fitted-level-1) 1pt solid;\n",
              "  color: var(--sklearn-color-fitted-level-1);\n",
              "}\n",
              "\n",
              "/* On hover */\n",
              "#sk-container-id-1 a.estimator_doc_link:hover {\n",
              "  /* unfitted */\n",
              "  background-color: var(--sklearn-color-unfitted-level-3);\n",
              "  color: var(--sklearn-color-background);\n",
              "  text-decoration: none;\n",
              "}\n",
              "\n",
              "#sk-container-id-1 a.estimator_doc_link.fitted:hover {\n",
              "  /* fitted */\n",
              "  background-color: var(--sklearn-color-fitted-level-3);\n",
              "}\n",
              "</style><div id=\"sk-container-id-1\" class=\"sk-top-container\"><div class=\"sk-text-repr-fallback\"><pre>LGBMClassifier()</pre><b>In a Jupyter environment, please rerun this cell to show the HTML representation or trust the notebook. <br />On GitHub, the HTML representation is unable to render, please try loading this page with nbviewer.org.</b></div><div class=\"sk-container\" hidden><div class=\"sk-item\"><div class=\"sk-estimator fitted sk-toggleable\"><input class=\"sk-toggleable__control sk-hidden--visually\" id=\"sk-estimator-id-1\" type=\"checkbox\" checked><label for=\"sk-estimator-id-1\" class=\"sk-toggleable__label fitted sk-toggleable__label-arrow fitted\">&nbsp;LGBMClassifier<span class=\"sk-estimator-doc-link fitted\">i<span>Fitted</span></span></label><div class=\"sk-toggleable__content fitted\"><pre>LGBMClassifier()</pre></div> </div></div></div></div>"
            ],
            "text/plain": [
              "LGBMClassifier()"
            ]
          },
          "execution_count": 11,
          "metadata": {},
          "output_type": "execute_result"
        }
      ],
      "source": [
        "# \"matchmodel\" is already created but without the encoding. Now let us create the version two with the encoding.\n",
        "import lightgbm as lgb1\n",
        "\n",
        "\n",
        "# Now I train the model\n",
        "matchmodel3 = lgb1.LGBMClassifier()\n",
        "matchmodel3.fit(X_train, y_train)"
      ]
    },
    {
      "cell_type": "code",
      "execution_count": null,
      "id": "46173edc-be9d-487d-8f7e-4584de94815b",
      "metadata": {
        "id": "46173edc-be9d-487d-8f7e-4584de94815b",
        "outputId": "b33432b1-c584-4750-8132-92450177d11d"
      },
      "outputs": [
        {
          "data": {
            "text/plain": [
              "0.9994666666666666"
            ]
          },
          "execution_count": 12,
          "metadata": {},
          "output_type": "execute_result"
        }
      ],
      "source": [
        "matchmodel3.score(X_test, y_test)"
      ]
    },
    {
      "cell_type": "code",
      "execution_count": null,
      "id": "b524deff-db28-4b86-bb68-295627086141",
      "metadata": {
        "id": "b524deff-db28-4b86-bb68-295627086141",
        "outputId": "fef898b8-8f4b-4fb5-b3fc-f8a15ff54c68"
      },
      "outputs": [
        {
          "data": {
            "text/plain": [
              "1.0"
            ]
          },
          "execution_count": 13,
          "metadata": {},
          "output_type": "execute_result"
        }
      ],
      "source": [
        "matchmodel3.score(X_train, y_train)"
      ]
    },
    {
      "cell_type": "code",
      "execution_count": null,
      "id": "cfb12cbd-7c82-4363-8895-e9213bdc0f38",
      "metadata": {
        "id": "cfb12cbd-7c82-4363-8895-e9213bdc0f38"
      },
      "outputs": [],
      "source": []
    },
    {
      "cell_type": "markdown",
      "id": "44a84ed8-8eff-4dc9-8036-030bfd8df6f5",
      "metadata": {
        "id": "44a84ed8-8eff-4dc9-8036-030bfd8df6f5"
      },
      "source": [
        "### **NOTE:**\n",
        "\n",
        "The LGB model has well performed on the very first attempt. This without the need for hyper parameter finetuning or any encoding. This experiment has said a lot about the power and effectiveness of gradient boosting ML algorythms. With a score of 99%, this has proven to be the best choice in this case."
      ]
    },
    {
      "cell_type": "code",
      "execution_count": null,
      "id": "1ca3b582-070c-4e61-8d81-f9fde2aa070f",
      "metadata": {
        "id": "1ca3b582-070c-4e61-8d81-f9fde2aa070f"
      },
      "outputs": [],
      "source": []
    },
    {
      "cell_type": "code",
      "execution_count": null,
      "id": "e7498c21-7dbc-4813-973c-a87d6eda0981",
      "metadata": {
        "id": "e7498c21-7dbc-4813-973c-a87d6eda0981",
        "outputId": "be45253b-c6d4-4806-9ff1-cb24dfb9d7d8"
      },
      "outputs": [
        {
          "data": {
            "text/html": [
              "<div>\n",
              "<style scoped>\n",
              "    .dataframe tbody tr th:only-of-type {\n",
              "        vertical-align: middle;\n",
              "    }\n",
              "\n",
              "    .dataframe tbody tr th {\n",
              "        vertical-align: top;\n",
              "    }\n",
              "\n",
              "    .dataframe thead th {\n",
              "        text-align: right;\n",
              "    }\n",
              "</style>\n",
              "<table border=\"1\" class=\"dataframe\">\n",
              "  <thead>\n",
              "    <tr style=\"text-align: right;\">\n",
              "      <th></th>\n",
              "      <th>Urea_N</th>\n",
              "      <th>Superphosphate_P</th>\n",
              "      <th>Potassium_Chloride_K</th>\n",
              "      <th>Ammonium_Sulfate_S</th>\n",
              "    </tr>\n",
              "  </thead>\n",
              "  <tbody>\n",
              "    <tr>\n",
              "      <th>0</th>\n",
              "      <td>35.46</td>\n",
              "      <td>27.39</td>\n",
              "      <td>46.0</td>\n",
              "      <td>9.18</td>\n",
              "    </tr>\n",
              "  </tbody>\n",
              "</table>\n",
              "</div>"
            ],
            "text/plain": [
              "   Urea_N  Superphosphate_P  Potassium_Chloride_K  Ammonium_Sulfate_S\n",
              "0   35.46             27.39                  46.0                9.18"
            ]
          },
          "execution_count": 14,
          "metadata": {},
          "output_type": "execute_result"
        }
      ],
      "source": [
        "input_data_2 = pd.DataFrame({\n",
        "    'Urea_N': [35.46],\n",
        "    'Superphosphate_P': [27.39],\n",
        "    'Potassium_Chloride_K': [46.00],\n",
        "    'Ammonium_Sulfate_S' : [9.18]\n",
        "})\n",
        "\n",
        "input_data_2"
      ]
    },
    {
      "cell_type": "code",
      "execution_count": null,
      "id": "3d1bf6f4-cab7-4990-9784-d6d287d28d2f",
      "metadata": {
        "id": "3d1bf6f4-cab7-4990-9784-d6d287d28d2f"
      },
      "outputs": [],
      "source": []
    },
    {
      "cell_type": "code",
      "execution_count": null,
      "id": "bb9fe4f9-2e0c-4834-8780-063e94a35617",
      "metadata": {
        "id": "bb9fe4f9-2e0c-4834-8780-063e94a35617"
      },
      "outputs": [],
      "source": []
    },
    {
      "cell_type": "markdown",
      "id": "f7ea305b-281c-4f65-b7b9-836c84927072",
      "metadata": {
        "id": "f7ea305b-281c-4f65-b7b9-836c84927072"
      },
      "source": [
        "### **TEST FOR CROP/INPUT matching Model :**"
      ]
    },
    {
      "cell_type": "code",
      "execution_count": null,
      "id": "8cf564e0-a14d-4a14-b345-b8de04a9c875",
      "metadata": {
        "id": "8cf564e0-a14d-4a14-b345-b8de04a9c875"
      },
      "outputs": [],
      "source": []
    },
    {
      "cell_type": "code",
      "execution_count": null,
      "id": "7a5a4b85-9d4f-48ca-bc51-d9a3a7cde457",
      "metadata": {
        "id": "7a5a4b85-9d4f-48ca-bc51-d9a3a7cde457",
        "outputId": "d1ca141b-37bb-4b87-efe8-aa177b3f18ff"
      },
      "outputs": [
        {
          "name": "stdout",
          "output_type": "stream",
          "text": [
            "Saved Succesfully !!!\n"
          ]
        }
      ],
      "source": [
        "# Here I want to save the model for later use :\n",
        "\n",
        "import pickle\n",
        "\n",
        "# Here I save the model first :\n",
        "with open ('input_crop_match_model_v1.pkl','wb') as input_model_file:\n",
        "    pickle.dump(matchmodel3,input_model_file)\n",
        "\n",
        "with open('input_crop_match__label_encoder.pkl', 'wb') as input_encoder_file:\n",
        "    pickle.dump(input_le, input_encoder_file)\n",
        "\n",
        "\n",
        "print('Saved Succesfully !!!')"
      ]
    },
    {
      "cell_type": "code",
      "execution_count": null,
      "id": "cf708ad3-b999-44ea-98fd-c63df5cac4e0",
      "metadata": {
        "id": "cf708ad3-b999-44ea-98fd-c63df5cac4e0"
      },
      "outputs": [],
      "source": []
    },
    {
      "cell_type": "code",
      "execution_count": null,
      "id": "d0c4328c-0306-466b-b06a-aac03a6885e0",
      "metadata": {
        "id": "d0c4328c-0306-466b-b06a-aac03a6885e0",
        "outputId": "aa571869-5cd0-4dff-f44a-14e7adeb8368"
      },
      "outputs": [
        {
          "name": "stdout",
          "output_type": "stream",
          "text": [
            "loaded successfully !!!\n"
          ]
        }
      ],
      "source": [
        "# Now I load the model, the scaler, and the label encoder To make predictions using the created model:\n",
        "import pickle\n",
        "\n",
        "\n",
        "with open ('input_crop_match_model_v1.pkl','rb') as input_model_file:\n",
        "    input_crop_match_model_v1 = pickle.load(input_model_file)\n",
        "\n",
        "with open('input_crop_match__label_encoder.pkl', 'rb') as input_encoder_file:\n",
        "    input_crop_match_label_encoder = pickle.load(input_encoder_file)\n",
        "\n",
        "print('loaded successfully !!!')"
      ]
    },
    {
      "cell_type": "code",
      "execution_count": null,
      "id": "9e5c850f-5daf-42b3-a981-cda4d459b0b7",
      "metadata": {
        "id": "9e5c850f-5daf-42b3-a981-cda4d459b0b7"
      },
      "outputs": [],
      "source": []
    },
    {
      "cell_type": "code",
      "execution_count": null,
      "id": "58da09c3-2741-48ce-80c0-3c542939cb3d",
      "metadata": {
        "id": "58da09c3-2741-48ce-80c0-3c542939cb3d"
      },
      "outputs": [],
      "source": []
    },
    {
      "cell_type": "code",
      "execution_count": null,
      "id": "7536294d-41b8-4bb5-abbe-87762c4cc585",
      "metadata": {
        "id": "7536294d-41b8-4bb5-abbe-87762c4cc585",
        "outputId": "105b61bb-49bc-49d7-da0b-cd662740c556"
      },
      "outputs": [
        {
          "data": {
            "text/plain": [
              "array(['Sweet Potatoes'], dtype=object)"
            ]
          },
          "execution_count": 20,
          "metadata": {},
          "output_type": "execute_result"
        }
      ],
      "source": [
        "\n",
        "# I now make predictions on the input data\n",
        "crop_match_labels_encoded = input_crop_match_model_v1.predict(input_data_2)\n",
        "# crop_match_labels_encoded\n",
        "\n",
        "# Step 5: Decode the predicted labels to their original form\n",
        "crop_match_labels = input_crop_match_label_encoder.inverse_transform(crop_match_labels_encoded)\n",
        "crop_match_labels"
      ]
    },
    {
      "cell_type": "code",
      "execution_count": null,
      "id": "8ecf28e1-0cdc-4969-b21e-f54138de64d8",
      "metadata": {
        "id": "8ecf28e1-0cdc-4969-b21e-f54138de64d8"
      },
      "outputs": [],
      "source": []
    },
    {
      "cell_type": "code",
      "execution_count": null,
      "id": "98de54f3-232d-4905-9a53-e751124cfebc",
      "metadata": {
        "id": "98de54f3-232d-4905-9a53-e751124cfebc"
      },
      "outputs": [],
      "source": []
    },
    {
      "cell_type": "code",
      "execution_count": null,
      "id": "594472ff-b0ae-498e-ab5b-bd2bcf7dcb2e",
      "metadata": {
        "id": "594472ff-b0ae-498e-ab5b-bd2bcf7dcb2e"
      },
      "outputs": [],
      "source": []
    },
    {
      "cell_type": "code",
      "execution_count": null,
      "id": "e1a4dcef-f946-44bd-917e-56696dd63aff",
      "metadata": {
        "id": "e1a4dcef-f946-44bd-917e-56696dd63aff"
      },
      "outputs": [],
      "source": []
    },
    {
      "cell_type": "markdown",
      "id": "0fcb06bb-3b86-47e6-86ad-6d76bcce9a56",
      "metadata": {
        "id": "0fcb06bb-3b86-47e6-86ad-6d76bcce9a56"
      },
      "source": [
        "## **SOIL QUALITY ASSESSMENT MODEL :**"
      ]
    },
    {
      "cell_type": "markdown",
      "id": "30dfbe67-5057-436b-9ca8-0fe5b6f6a30d",
      "metadata": {
        "id": "30dfbe67-5057-436b-9ca8-0fe5b6f6a30d"
      },
      "source": [
        "This model was mainly built to assist farmers in monitoring their soil quality. This comes in handy when it comes to crop selection and input usage. The goal is to make farmer able to get the diagnosis of their land, allowing them to act accordingly."
      ]
    },
    {
      "cell_type": "markdown",
      "id": "d80d9da1-90bd-42f6-9969-b5bdeaeabcf4",
      "metadata": {
        "id": "d80d9da1-90bd-42f6-9969-b5bdeaeabcf4"
      },
      "source": [
        "<div id = \"2.6.1.1\">\n",
        "    \n",
        "## Baseline Models</div>\n",
        "A). Light Gradient Boosting Machine (LGBM)\n",
        "Light Gradient Boosting Machine (LGBM) is a powerful and efficient machine learning algorithm that utilizes decision tree-based learning to optimize predictive performance while maintaining computational efficiency. It is particularly effective for handling large datasets with complex feature interactions.\n",
        "\n",
        "Application in SmartAg Prediction:\n",
        "Crop Classification: LGBM is used to classify different crop types based on soil composition, weather patterns, and other environmental factors.\n",
        "Soil and Fertilizer Recommendation: The model helps in predicting the best crop to plant based on soil nitrogen, phosphorus, and potassium levels.\n",
        "Irrigation Scheduling: LGBM predicts the best time to irrigate crops by analyzing soil moisture and temperature trends.\n",
        "Rationale:\n",
        "Efficiency: LGBM is optimized for speed and memory efficiency, making it ideal for processing large agricultural datasets.\n",
        "Accuracy: Due to its ability to capture non-linear relationships and interactions between soil nutrients, weather conditions, and crop growth, LGBM outperforms traditional regression models.\n",
        "Baseline Model Comparison: LGBM serves as a strong baseline against which other advanced models can be compared to evaluate predictive improvements."
      ]
    },
    {
      "cell_type": "markdown",
      "id": "557fe218-8b33-4ec8-8e28-dd7e9bb9635a",
      "metadata": {
        "id": "557fe218-8b33-4ec8-8e28-dd7e9bb9635a"
      },
      "source": [
        "### Data Loading and pre-processing:"
      ]
    },
    {
      "cell_type": "code",
      "execution_count": null,
      "id": "daaeefbd-2c3a-46d9-b720-5984072e531d",
      "metadata": {
        "id": "daaeefbd-2c3a-46d9-b720-5984072e531d",
        "outputId": "475dde19-101f-4745-97b7-1d20b1858d04"
      },
      "outputs": [
        {
          "data": {
            "text/plain": [
              "Soil Quality\n",
              "Bad        36787\n",
              "Great      36732\n",
              "Average    36481\n",
              "Name: count, dtype: int64"
            ]
          },
          "execution_count": 44,
          "metadata": {},
          "output_type": "execute_result"
        }
      ],
      "source": [
        "soil_qual = pd.read_csv('soil_quality_dataset.csv')\n",
        "soil_qual['Soil Quality'].value_counts()"
      ]
    },
    {
      "cell_type": "code",
      "execution_count": null,
      "id": "661d03ed-5422-45a8-b739-635735cbcac4",
      "metadata": {
        "id": "661d03ed-5422-45a8-b739-635735cbcac4"
      },
      "outputs": [],
      "source": []
    },
    {
      "cell_type": "code",
      "execution_count": null,
      "id": "d50f43bc-ab7c-4746-a29e-9ea9c01b5b93",
      "metadata": {
        "id": "d50f43bc-ab7c-4746-a29e-9ea9c01b5b93",
        "outputId": "839589e6-133f-4d10-babb-a78adbd7c23f"
      },
      "outputs": [
        {
          "data": {
            "text/html": [
              "<div>\n",
              "<style scoped>\n",
              "    .dataframe tbody tr th:only-of-type {\n",
              "        vertical-align: middle;\n",
              "    }\n",
              "\n",
              "    .dataframe tbody tr th {\n",
              "        vertical-align: top;\n",
              "    }\n",
              "\n",
              "    .dataframe thead th {\n",
              "        text-align: right;\n",
              "    }\n",
              "</style>\n",
              "<table border=\"1\" class=\"dataframe\">\n",
              "  <thead>\n",
              "    <tr style=\"text-align: right;\">\n",
              "      <th></th>\n",
              "      <th>Nitrogen</th>\n",
              "      <th>Phosphorus</th>\n",
              "      <th>Potassium</th>\n",
              "      <th>Soil Moisture</th>\n",
              "      <th>Soil Temperature</th>\n",
              "      <th>Soil Quality</th>\n",
              "    </tr>\n",
              "  </thead>\n",
              "  <tbody>\n",
              "    <tr>\n",
              "      <th>109995</th>\n",
              "      <td>24.912702</td>\n",
              "      <td>22.780508</td>\n",
              "      <td>32.083529</td>\n",
              "      <td>16.926704</td>\n",
              "      <td>15.982315</td>\n",
              "      <td>Average</td>\n",
              "    </tr>\n",
              "    <tr>\n",
              "      <th>109996</th>\n",
              "      <td>1.087210</td>\n",
              "      <td>7.409520</td>\n",
              "      <td>7.853642</td>\n",
              "      <td>9.136493</td>\n",
              "      <td>12.633204</td>\n",
              "      <td>Bad</td>\n",
              "    </tr>\n",
              "    <tr>\n",
              "      <th>109997</th>\n",
              "      <td>22.575739</td>\n",
              "      <td>26.564684</td>\n",
              "      <td>36.847339</td>\n",
              "      <td>19.749859</td>\n",
              "      <td>17.847486</td>\n",
              "      <td>Average</td>\n",
              "    </tr>\n",
              "    <tr>\n",
              "      <th>109998</th>\n",
              "      <td>57.117081</td>\n",
              "      <td>44.212546</td>\n",
              "      <td>68.945151</td>\n",
              "      <td>28.978438</td>\n",
              "      <td>21.382795</td>\n",
              "      <td>Great</td>\n",
              "    </tr>\n",
              "    <tr>\n",
              "      <th>109999</th>\n",
              "      <td>13.642605</td>\n",
              "      <td>17.691363</td>\n",
              "      <td>13.730472</td>\n",
              "      <td>11.370664</td>\n",
              "      <td>12.044013</td>\n",
              "      <td>Bad</td>\n",
              "    </tr>\n",
              "  </tbody>\n",
              "</table>\n",
              "</div>"
            ],
            "text/plain": [
              "         Nitrogen  Phosphorus  Potassium  Soil Moisture  Soil Temperature  \\\n",
              "109995  24.912702   22.780508  32.083529      16.926704         15.982315   \n",
              "109996   1.087210    7.409520   7.853642       9.136493         12.633204   \n",
              "109997  22.575739   26.564684  36.847339      19.749859         17.847486   \n",
              "109998  57.117081   44.212546  68.945151      28.978438         21.382795   \n",
              "109999  13.642605   17.691363  13.730472      11.370664         12.044013   \n",
              "\n",
              "       Soil Quality  \n",
              "109995      Average  \n",
              "109996          Bad  \n",
              "109997      Average  \n",
              "109998        Great  \n",
              "109999          Bad  "
            ]
          },
          "execution_count": 45,
          "metadata": {},
          "output_type": "execute_result"
        }
      ],
      "source": [
        "soil_qual.tail()"
      ]
    },
    {
      "cell_type": "code",
      "execution_count": null,
      "id": "169afa02-ffea-423c-93b2-571f1d16b74e",
      "metadata": {
        "id": "169afa02-ffea-423c-93b2-571f1d16b74e"
      },
      "outputs": [],
      "source": []
    },
    {
      "cell_type": "code",
      "execution_count": null,
      "id": "2efff33e-8edd-4668-8429-c8a5c8e7986e",
      "metadata": {
        "id": "2efff33e-8edd-4668-8429-c8a5c8e7986e"
      },
      "outputs": [],
      "source": []
    },
    {
      "cell_type": "code",
      "execution_count": null,
      "id": "80daa47c-36f2-45fd-824f-45e663384528",
      "metadata": {
        "id": "80daa47c-36f2-45fd-824f-45e663384528",
        "outputId": "4a3ec202-5eec-4f7f-a5c5-fcddad653678"
      },
      "outputs": [
        {
          "data": {
            "text/html": [
              "<div>\n",
              "<style scoped>\n",
              "    .dataframe tbody tr th:only-of-type {\n",
              "        vertical-align: middle;\n",
              "    }\n",
              "\n",
              "    .dataframe tbody tr th {\n",
              "        vertical-align: top;\n",
              "    }\n",
              "\n",
              "    .dataframe thead th {\n",
              "        text-align: right;\n",
              "    }\n",
              "</style>\n",
              "<table border=\"1\" class=\"dataframe\">\n",
              "  <thead>\n",
              "    <tr style=\"text-align: right;\">\n",
              "      <th></th>\n",
              "      <th>Nitrogen</th>\n",
              "      <th>Phosphorus</th>\n",
              "      <th>Potassium</th>\n",
              "      <th>Soil Moisture</th>\n",
              "      <th>Soil Temperature</th>\n",
              "      <th>Soil Quality</th>\n",
              "    </tr>\n",
              "  </thead>\n",
              "  <tbody>\n",
              "    <tr>\n",
              "      <th>0</th>\n",
              "      <td>39.014286</td>\n",
              "      <td>27.319939</td>\n",
              "      <td>31.973170</td>\n",
              "      <td>16.560186</td>\n",
              "      <td>15.779973</td>\n",
              "      <td>Average</td>\n",
              "    </tr>\n",
              "    <tr>\n",
              "      <th>1</th>\n",
              "      <td>57.323523</td>\n",
              "      <td>42.022300</td>\n",
              "      <td>61.242177</td>\n",
              "      <td>20.205845</td>\n",
              "      <td>24.789369</td>\n",
              "      <td>Great</td>\n",
              "    </tr>\n",
              "    <tr>\n",
              "      <th>2</th>\n",
              "      <td>4.246782</td>\n",
              "      <td>3.636499</td>\n",
              "      <td>3.668090</td>\n",
              "      <td>8.042422</td>\n",
              "      <td>12.623782</td>\n",
              "      <td>Bad</td>\n",
              "    </tr>\n",
              "    <tr>\n",
              "      <th>3</th>\n",
              "      <td>25.824583</td>\n",
              "      <td>26.118529</td>\n",
              "      <td>22.789877</td>\n",
              "      <td>17.921446</td>\n",
              "      <td>16.831809</td>\n",
              "      <td>Average</td>\n",
              "    </tr>\n",
              "    <tr>\n",
              "      <th>4</th>\n",
              "      <td>35.703519</td>\n",
              "      <td>21.996738</td>\n",
              "      <td>30.284689</td>\n",
              "      <td>20.924146</td>\n",
              "      <td>15.232252</td>\n",
              "      <td>Average</td>\n",
              "    </tr>\n",
              "  </tbody>\n",
              "</table>\n",
              "</div>"
            ],
            "text/plain": [
              "    Nitrogen  Phosphorus  Potassium  Soil Moisture  Soil Temperature  \\\n",
              "0  39.014286   27.319939  31.973170      16.560186         15.779973   \n",
              "1  57.323523   42.022300  61.242177      20.205845         24.789369   \n",
              "2   4.246782    3.636499   3.668090       8.042422         12.623782   \n",
              "3  25.824583   26.118529  22.789877      17.921446         16.831809   \n",
              "4  35.703519   21.996738  30.284689      20.924146         15.232252   \n",
              "\n",
              "  Soil Quality  \n",
              "0      Average  \n",
              "1        Great  \n",
              "2          Bad  \n",
              "3      Average  \n",
              "4      Average  "
            ]
          },
          "execution_count": 117,
          "metadata": {},
          "output_type": "execute_result"
        }
      ],
      "source": [
        "soil_qual.head()"
      ]
    },
    {
      "cell_type": "code",
      "execution_count": null,
      "id": "cc4b5896-6c7a-474a-88ae-187b690c16c1",
      "metadata": {
        "id": "cc4b5896-6c7a-474a-88ae-187b690c16c1",
        "outputId": "d2fa1d63-4870-46c9-d520-f33d11253315"
      },
      "outputs": [
        {
          "data": {
            "text/plain": [
              "Nitrogen            float64\n",
              "Phosphorus          float64\n",
              "Potassium           float64\n",
              "Soil Moisture       float64\n",
              "Soil Temperature    float64\n",
              "Soil Quality         object\n",
              "dtype: object"
            ]
          },
          "execution_count": 46,
          "metadata": {},
          "output_type": "execute_result"
        }
      ],
      "source": [
        "soil_qual.dtypes"
      ]
    },
    {
      "cell_type": "code",
      "execution_count": null,
      "id": "3e4f5ee8-0c6a-4770-bed3-ddae51f35fd0",
      "metadata": {
        "id": "3e4f5ee8-0c6a-4770-bed3-ddae51f35fd0",
        "outputId": "aa901be5-eced-40f5-e174-677a2cc65a45"
      },
      "outputs": [
        {
          "data": {
            "text/html": [
              "<div>\n",
              "<style scoped>\n",
              "    .dataframe tbody tr th:only-of-type {\n",
              "        vertical-align: middle;\n",
              "    }\n",
              "\n",
              "    .dataframe tbody tr th {\n",
              "        vertical-align: top;\n",
              "    }\n",
              "\n",
              "    .dataframe thead th {\n",
              "        text-align: right;\n",
              "    }\n",
              "</style>\n",
              "<table border=\"1\" class=\"dataframe\">\n",
              "  <thead>\n",
              "    <tr style=\"text-align: right;\">\n",
              "      <th></th>\n",
              "      <th>Nitrogen</th>\n",
              "      <th>Phosphorus</th>\n",
              "      <th>Potassium</th>\n",
              "      <th>Soil Moisture</th>\n",
              "      <th>Soil Temperature</th>\n",
              "    </tr>\n",
              "  </thead>\n",
              "  <tbody>\n",
              "    <tr>\n",
              "      <th>Nitrogen</th>\n",
              "      <td>1.000000</td>\n",
              "      <td>0.873348</td>\n",
              "      <td>0.882246</td>\n",
              "      <td>0.841266</td>\n",
              "      <td>0.858780</td>\n",
              "    </tr>\n",
              "    <tr>\n",
              "      <th>Phosphorus</th>\n",
              "      <td>0.873348</td>\n",
              "      <td>1.000000</td>\n",
              "      <td>0.866196</td>\n",
              "      <td>0.825747</td>\n",
              "      <td>0.843300</td>\n",
              "    </tr>\n",
              "    <tr>\n",
              "      <th>Potassium</th>\n",
              "      <td>0.882246</td>\n",
              "      <td>0.866196</td>\n",
              "      <td>1.000000</td>\n",
              "      <td>0.823404</td>\n",
              "      <td>0.848527</td>\n",
              "    </tr>\n",
              "    <tr>\n",
              "      <th>Soil Moisture</th>\n",
              "      <td>0.841266</td>\n",
              "      <td>0.825747</td>\n",
              "      <td>0.823404</td>\n",
              "      <td>1.000000</td>\n",
              "      <td>0.821147</td>\n",
              "    </tr>\n",
              "    <tr>\n",
              "      <th>Soil Temperature</th>\n",
              "      <td>0.858780</td>\n",
              "      <td>0.843300</td>\n",
              "      <td>0.848527</td>\n",
              "      <td>0.821147</td>\n",
              "      <td>1.000000</td>\n",
              "    </tr>\n",
              "  </tbody>\n",
              "</table>\n",
              "</div>"
            ],
            "text/plain": [
              "                  Nitrogen  Phosphorus  Potassium  Soil Moisture  \\\n",
              "Nitrogen          1.000000    0.873348   0.882246       0.841266   \n",
              "Phosphorus        0.873348    1.000000   0.866196       0.825747   \n",
              "Potassium         0.882246    0.866196   1.000000       0.823404   \n",
              "Soil Moisture     0.841266    0.825747   0.823404       1.000000   \n",
              "Soil Temperature  0.858780    0.843300   0.848527       0.821147   \n",
              "\n",
              "                  Soil Temperature  \n",
              "Nitrogen                  0.858780  \n",
              "Phosphorus                0.843300  \n",
              "Potassium                 0.848527  \n",
              "Soil Moisture             0.821147  \n",
              "Soil Temperature          1.000000  "
            ]
          },
          "execution_count": 121,
          "metadata": {},
          "output_type": "execute_result"
        }
      ],
      "source": [
        "soil_qual[['Nitrogen','Phosphorus', 'Potassium','Soil Moisture', 'Soil Temperature']].corr()"
      ]
    },
    {
      "cell_type": "code",
      "execution_count": null,
      "id": "ffd25842-4586-4c11-85ab-639837a48da8",
      "metadata": {
        "id": "ffd25842-4586-4c11-85ab-639837a48da8"
      },
      "outputs": [],
      "source": []
    },
    {
      "cell_type": "code",
      "execution_count": null,
      "id": "fe168ec1-d5c9-426a-b161-036e0f93f4b2",
      "metadata": {
        "id": "fe168ec1-d5c9-426a-b161-036e0f93f4b2"
      },
      "outputs": [],
      "source": [
        "# No missing data or any outlier, so we go straight to the point and start the machine learning work."
      ]
    },
    {
      "cell_type": "code",
      "execution_count": null,
      "id": "f17260f0-27d6-4a93-bcdd-f1f27fbd7729",
      "metadata": {
        "id": "f17260f0-27d6-4a93-bcdd-f1f27fbd7729",
        "outputId": "25070019-c49c-4b60-d9b6-4dae04c7d96f"
      },
      "outputs": [
        {
          "data": {
            "text/html": [
              "<div>\n",
              "<style scoped>\n",
              "    .dataframe tbody tr th:only-of-type {\n",
              "        vertical-align: middle;\n",
              "    }\n",
              "\n",
              "    .dataframe tbody tr th {\n",
              "        vertical-align: top;\n",
              "    }\n",
              "\n",
              "    .dataframe thead th {\n",
              "        text-align: right;\n",
              "    }\n",
              "</style>\n",
              "<table border=\"1\" class=\"dataframe\">\n",
              "  <thead>\n",
              "    <tr style=\"text-align: right;\">\n",
              "      <th></th>\n",
              "      <th>Nitrogen</th>\n",
              "      <th>Phosphorus</th>\n",
              "      <th>Potassium</th>\n",
              "      <th>Soil Moisture</th>\n",
              "      <th>Soil Temperature</th>\n",
              "      <th>Soil Quality</th>\n",
              "    </tr>\n",
              "  </thead>\n",
              "  <tbody>\n",
              "    <tr>\n",
              "      <th>0</th>\n",
              "      <td>39.014286</td>\n",
              "      <td>27.319939</td>\n",
              "      <td>31.973170</td>\n",
              "      <td>16.560186</td>\n",
              "      <td>15.779973</td>\n",
              "      <td>0</td>\n",
              "    </tr>\n",
              "    <tr>\n",
              "      <th>1</th>\n",
              "      <td>57.323523</td>\n",
              "      <td>42.022300</td>\n",
              "      <td>61.242177</td>\n",
              "      <td>20.205845</td>\n",
              "      <td>24.789369</td>\n",
              "      <td>2</td>\n",
              "    </tr>\n",
              "    <tr>\n",
              "      <th>2</th>\n",
              "      <td>4.246782</td>\n",
              "      <td>3.636499</td>\n",
              "      <td>3.668090</td>\n",
              "      <td>8.042422</td>\n",
              "      <td>12.623782</td>\n",
              "      <td>1</td>\n",
              "    </tr>\n",
              "    <tr>\n",
              "      <th>3</th>\n",
              "      <td>25.824583</td>\n",
              "      <td>26.118529</td>\n",
              "      <td>22.789877</td>\n",
              "      <td>17.921446</td>\n",
              "      <td>16.831809</td>\n",
              "      <td>0</td>\n",
              "    </tr>\n",
              "    <tr>\n",
              "      <th>4</th>\n",
              "      <td>35.703519</td>\n",
              "      <td>21.996738</td>\n",
              "      <td>30.284689</td>\n",
              "      <td>20.924146</td>\n",
              "      <td>15.232252</td>\n",
              "      <td>0</td>\n",
              "    </tr>\n",
              "  </tbody>\n",
              "</table>\n",
              "</div>"
            ],
            "text/plain": [
              "    Nitrogen  Phosphorus  Potassium  Soil Moisture  Soil Temperature  \\\n",
              "0  39.014286   27.319939  31.973170      16.560186         15.779973   \n",
              "1  57.323523   42.022300  61.242177      20.205845         24.789369   \n",
              "2   4.246782    3.636499   3.668090       8.042422         12.623782   \n",
              "3  25.824583   26.118529  22.789877      17.921446         16.831809   \n",
              "4  35.703519   21.996738  30.284689      20.924146         15.232252   \n",
              "\n",
              "   Soil Quality  \n",
              "0             0  \n",
              "1             2  \n",
              "2             1  \n",
              "3             0  \n",
              "4             0  "
            ]
          },
          "execution_count": 47,
          "metadata": {},
          "output_type": "execute_result"
        }
      ],
      "source": [
        "# Here I label encode the target column \"Soil Quality\"\n",
        "from sklearn.preprocessing import LabelEncoder\n",
        "qual_encoder = LabelEncoder()\n",
        "\n",
        "soil_qual['Soil Quality'] = qual_encoder.fit_transform(soil_qual['Soil Quality'])\n",
        "soil_qual.head()\n"
      ]
    },
    {
      "cell_type": "code",
      "execution_count": null,
      "id": "7f53cb9d-39cb-4ab0-ac8d-a41dea7b2da0",
      "metadata": {
        "id": "7f53cb9d-39cb-4ab0-ac8d-a41dea7b2da0"
      },
      "outputs": [],
      "source": []
    },
    {
      "cell_type": "code",
      "execution_count": null,
      "id": "deb85b2d-8020-4575-8f65-9229e8323336",
      "metadata": {
        "id": "deb85b2d-8020-4575-8f65-9229e8323336"
      },
      "outputs": [],
      "source": []
    },
    {
      "cell_type": "code",
      "execution_count": null,
      "id": "fe5be4d6-2993-4b2e-bdd5-3d8c00d29415",
      "metadata": {
        "id": "fe5be4d6-2993-4b2e-bdd5-3d8c00d29415",
        "outputId": "d2c0b668-1c4b-4fab-d16a-fd700e6db680"
      },
      "outputs": [
        {
          "name": "stdout",
          "output_type": "stream",
          "text": [
            "[LightGBM] [Warning] Found whitespace in feature_names, replace with underlines\n",
            "[LightGBM] [Info] Auto-choosing col-wise multi-threading, the overhead of testing was 0.002318 seconds.\n",
            "You can set `force_col_wise=true` to remove the overhead.\n",
            "[LightGBM] [Info] Total Bins 1275\n",
            "[LightGBM] [Info] Number of data points in the train set: 77000, number of used features: 5\n",
            "[LightGBM] [Info] Start training from score -1.099808\n",
            "[LightGBM] [Info] Start training from score -1.096925\n",
            "[LightGBM] [Info] Start training from score -1.099106\n",
            "[LightGBM] [Warning] No further splits with positive gain, best gain: -inf\n",
            "[LightGBM] [Warning] No further splits with positive gain, best gain: -inf\n",
            "[LightGBM] [Warning] No further splits with positive gain, best gain: -inf\n",
            "[LightGBM] [Warning] No further splits with positive gain, best gain: -inf\n",
            "[LightGBM] [Warning] No further splits with positive gain, best gain: -inf\n",
            "[LightGBM] [Warning] No further splits with positive gain, best gain: -inf\n",
            "[LightGBM] [Warning] No further splits with positive gain, best gain: -inf\n",
            "[LightGBM] [Warning] No further splits with positive gain, best gain: -inf\n",
            "[LightGBM] [Warning] No further splits with positive gain, best gain: -inf\n",
            "[LightGBM] [Warning] No further splits with positive gain, best gain: -inf\n",
            "[LightGBM] [Warning] No further splits with positive gain, best gain: -inf\n",
            "[LightGBM] [Warning] No further splits with positive gain, best gain: -inf\n",
            "[LightGBM] [Warning] No further splits with positive gain, best gain: -inf\n",
            "[LightGBM] [Warning] No further splits with positive gain, best gain: -inf\n",
            "[LightGBM] [Warning] No further splits with positive gain, best gain: -inf\n",
            "[LightGBM] [Warning] No further splits with positive gain, best gain: -inf\n",
            "[LightGBM] [Warning] No further splits with positive gain, best gain: -inf\n",
            "[LightGBM] [Warning] No further splits with positive gain, best gain: -inf\n",
            "[LightGBM] [Warning] No further splits with positive gain, best gain: -inf\n",
            "[LightGBM] [Warning] No further splits with positive gain, best gain: -inf\n",
            "[LightGBM] [Warning] No further splits with positive gain, best gain: -inf\n",
            "[LightGBM] [Warning] No further splits with positive gain, best gain: -inf\n",
            "[LightGBM] [Warning] No further splits with positive gain, best gain: -inf\n",
            "[LightGBM] [Warning] No further splits with positive gain, best gain: -inf\n",
            "[LightGBM] [Warning] No further splits with positive gain, best gain: -inf\n",
            "[LightGBM] [Warning] No further splits with positive gain, best gain: -inf\n",
            "[LightGBM] [Warning] No further splits with positive gain, best gain: -inf\n",
            "[LightGBM] [Warning] No further splits with positive gain, best gain: -inf\n",
            "[LightGBM] [Warning] No further splits with positive gain, best gain: -inf\n",
            "[LightGBM] [Warning] No further splits with positive gain, best gain: -inf\n",
            "[LightGBM] [Warning] No further splits with positive gain, best gain: -inf\n",
            "[LightGBM] [Warning] No further splits with positive gain, best gain: -inf\n",
            "[LightGBM] [Warning] No further splits with positive gain, best gain: -inf\n",
            "[LightGBM] [Warning] No further splits with positive gain, best gain: -inf\n",
            "[LightGBM] [Warning] No further splits with positive gain, best gain: -inf\n",
            "[LightGBM] [Warning] No further splits with positive gain, best gain: -inf\n",
            "[LightGBM] [Warning] No further splits with positive gain, best gain: -inf\n",
            "[LightGBM] [Warning] No further splits with positive gain, best gain: -inf\n",
            "[LightGBM] [Warning] No further splits with positive gain, best gain: -inf\n",
            "[LightGBM] [Warning] No further splits with positive gain, best gain: -inf\n",
            "[LightGBM] [Warning] No further splits with positive gain, best gain: -inf\n",
            "[LightGBM] [Warning] No further splits with positive gain, best gain: -inf\n",
            "[LightGBM] [Warning] No further splits with positive gain, best gain: -inf\n",
            "[LightGBM] [Warning] No further splits with positive gain, best gain: -inf\n",
            "[LightGBM] [Warning] No further splits with positive gain, best gain: -inf\n",
            "[LightGBM] [Warning] No further splits with positive gain, best gain: -inf\n",
            "[LightGBM] [Warning] No further splits with positive gain, best gain: -inf\n",
            "[LightGBM] [Warning] No further splits with positive gain, best gain: -inf\n",
            "[LightGBM] [Warning] No further splits with positive gain, best gain: -inf\n",
            "[LightGBM] [Warning] No further splits with positive gain, best gain: -inf\n",
            "[LightGBM] [Warning] No further splits with positive gain, best gain: -inf\n",
            "[LightGBM] [Warning] No further splits with positive gain, best gain: -inf\n",
            "[LightGBM] [Warning] No further splits with positive gain, best gain: -inf\n",
            "[LightGBM] [Warning] No further splits with positive gain, best gain: -inf\n",
            "[LightGBM] [Warning] No further splits with positive gain, best gain: -inf\n",
            "[LightGBM] [Warning] No further splits with positive gain, best gain: -inf\n",
            "[LightGBM] [Warning] No further splits with positive gain, best gain: -inf\n",
            "[LightGBM] [Warning] No further splits with positive gain, best gain: -inf\n",
            "[LightGBM] [Warning] No further splits with positive gain, best gain: -inf\n",
            "[LightGBM] [Warning] No further splits with positive gain, best gain: -inf\n",
            "[LightGBM] [Warning] No further splits with positive gain, best gain: -inf\n",
            "[LightGBM] [Warning] No further splits with positive gain, best gain: -inf\n",
            "[LightGBM] [Warning] No further splits with positive gain, best gain: -inf\n",
            "[LightGBM] [Warning] No further splits with positive gain, best gain: -inf\n",
            "[LightGBM] [Warning] No further splits with positive gain, best gain: -inf\n",
            "[LightGBM] [Warning] No further splits with positive gain, best gain: -inf\n",
            "[LightGBM] [Warning] No further splits with positive gain, best gain: -inf\n",
            "[LightGBM] [Warning] No further splits with positive gain, best gain: -inf\n",
            "[LightGBM] [Warning] No further splits with positive gain, best gain: -inf\n",
            "[LightGBM] [Warning] No further splits with positive gain, best gain: -inf\n",
            "[LightGBM] [Warning] No further splits with positive gain, best gain: -inf\n",
            "[LightGBM] [Warning] No further splits with positive gain, best gain: -inf\n",
            "[LightGBM] [Warning] No further splits with positive gain, best gain: -inf\n",
            "[LightGBM] [Warning] No further splits with positive gain, best gain: -inf\n",
            "[LightGBM] [Warning] No further splits with positive gain, best gain: -inf\n",
            "[LightGBM] [Warning] No further splits with positive gain, best gain: -inf\n",
            "[LightGBM] [Warning] No further splits with positive gain, best gain: -inf\n",
            "[LightGBM] [Warning] No further splits with positive gain, best gain: -inf\n",
            "[LightGBM] [Warning] No further splits with positive gain, best gain: -inf\n",
            "[LightGBM] [Warning] No further splits with positive gain, best gain: -inf\n",
            "[LightGBM] [Warning] No further splits with positive gain, best gain: -inf\n",
            "[LightGBM] [Warning] No further splits with positive gain, best gain: -inf\n",
            "[LightGBM] [Warning] No further splits with positive gain, best gain: -inf\n",
            "[LightGBM] [Warning] No further splits with positive gain, best gain: -inf\n",
            "[LightGBM] [Warning] No further splits with positive gain, best gain: -inf\n",
            "[LightGBM] [Warning] No further splits with positive gain, best gain: -inf\n",
            "[LightGBM] [Warning] No further splits with positive gain, best gain: -inf\n",
            "[LightGBM] [Warning] No further splits with positive gain, best gain: -inf\n",
            "[LightGBM] [Warning] No further splits with positive gain, best gain: -inf\n",
            "[LightGBM] [Warning] No further splits with positive gain, best gain: -inf\n",
            "[LightGBM] [Warning] No further splits with positive gain, best gain: -inf\n",
            "[LightGBM] [Warning] No further splits with positive gain, best gain: -inf\n",
            "[LightGBM] [Warning] No further splits with positive gain, best gain: -inf\n",
            "[LightGBM] [Warning] No further splits with positive gain, best gain: -inf\n",
            "[LightGBM] [Warning] No further splits with positive gain, best gain: -inf\n",
            "[LightGBM] [Warning] No further splits with positive gain, best gain: -inf\n",
            "[LightGBM] [Warning] No further splits with positive gain, best gain: -inf\n",
            "[LightGBM] [Warning] No further splits with positive gain, best gain: -inf\n",
            "[LightGBM] [Warning] No further splits with positive gain, best gain: -inf\n",
            "[LightGBM] [Warning] No further splits with positive gain, best gain: -inf\n",
            "[LightGBM] [Warning] No further splits with positive gain, best gain: -inf\n",
            "[LightGBM] [Warning] No further splits with positive gain, best gain: -inf\n",
            "[LightGBM] [Warning] No further splits with positive gain, best gain: -inf\n",
            "[LightGBM] [Warning] No further splits with positive gain, best gain: -inf\n",
            "[LightGBM] [Warning] No further splits with positive gain, best gain: -inf\n",
            "[LightGBM] [Warning] No further splits with positive gain, best gain: -inf\n",
            "[LightGBM] [Warning] No further splits with positive gain, best gain: -inf\n",
            "[LightGBM] [Warning] No further splits with positive gain, best gain: -inf\n",
            "[LightGBM] [Warning] No further splits with positive gain, best gain: -inf\n",
            "[LightGBM] [Warning] No further splits with positive gain, best gain: -inf\n",
            "[LightGBM] [Warning] No further splits with positive gain, best gain: -inf\n",
            "[LightGBM] [Warning] No further splits with positive gain, best gain: -inf\n",
            "[LightGBM] [Warning] No further splits with positive gain, best gain: -inf\n",
            "[LightGBM] [Warning] No further splits with positive gain, best gain: -inf\n",
            "[LightGBM] [Warning] No further splits with positive gain, best gain: -inf\n",
            "[LightGBM] [Warning] No further splits with positive gain, best gain: -inf\n",
            "[LightGBM] [Warning] No further splits with positive gain, best gain: -inf\n",
            "[LightGBM] [Warning] No further splits with positive gain, best gain: -inf\n",
            "[LightGBM] [Warning] No further splits with positive gain, best gain: -inf\n",
            "[LightGBM] [Warning] No further splits with positive gain, best gain: -inf\n",
            "[LightGBM] [Warning] No further splits with positive gain, best gain: -inf\n",
            "[LightGBM] [Warning] No further splits with positive gain, best gain: -inf\n",
            "[LightGBM] [Warning] No further splits with positive gain, best gain: -inf\n",
            "[LightGBM] [Warning] No further splits with positive gain, best gain: -inf\n",
            "[LightGBM] [Warning] No further splits with positive gain, best gain: -inf\n",
            "[LightGBM] [Warning] No further splits with positive gain, best gain: -inf\n",
            "[LightGBM] [Warning] No further splits with positive gain, best gain: -inf\n",
            "[LightGBM] [Warning] No further splits with positive gain, best gain: -inf\n",
            "[LightGBM] [Warning] No further splits with positive gain, best gain: -inf\n",
            "[LightGBM] [Warning] No further splits with positive gain, best gain: -inf\n",
            "[LightGBM] [Warning] No further splits with positive gain, best gain: -inf\n",
            "[LightGBM] [Warning] No further splits with positive gain, best gain: -inf\n",
            "[LightGBM] [Warning] No further splits with positive gain, best gain: -inf\n",
            "[LightGBM] [Warning] No further splits with positive gain, best gain: -inf\n",
            "[LightGBM] [Warning] No further splits with positive gain, best gain: -inf\n",
            "[LightGBM] [Warning] No further splits with positive gain, best gain: -inf\n",
            "[LightGBM] [Warning] No further splits with positive gain, best gain: -inf\n",
            "[LightGBM] [Warning] No further splits with positive gain, best gain: -inf\n",
            "[LightGBM] [Warning] No further splits with positive gain, best gain: -inf\n",
            "[LightGBM] [Warning] No further splits with positive gain, best gain: -inf\n",
            "[LightGBM] [Warning] No further splits with positive gain, best gain: -inf\n",
            "[LightGBM] [Warning] No further splits with positive gain, best gain: -inf\n",
            "[LightGBM] [Warning] No further splits with positive gain, best gain: -inf\n",
            "[LightGBM] [Warning] No further splits with positive gain, best gain: -inf\n",
            "[LightGBM] [Warning] No further splits with positive gain, best gain: -inf\n",
            "[LightGBM] [Warning] No further splits with positive gain, best gain: -inf\n",
            "[LightGBM] [Warning] No further splits with positive gain, best gain: -inf\n",
            "[LightGBM] [Warning] No further splits with positive gain, best gain: -inf\n",
            "[LightGBM] [Warning] No further splits with positive gain, best gain: -inf\n",
            "[LightGBM] [Warning] No further splits with positive gain, best gain: -inf\n",
            "[LightGBM] [Warning] No further splits with positive gain, best gain: -inf\n",
            "[LightGBM] [Warning] No further splits with positive gain, best gain: -inf\n",
            "[LightGBM] [Warning] No further splits with positive gain, best gain: -inf\n",
            "[LightGBM] [Warning] No further splits with positive gain, best gain: -inf\n",
            "[LightGBM] [Warning] No further splits with positive gain, best gain: -inf\n",
            "[LightGBM] [Warning] No further splits with positive gain, best gain: -inf\n",
            "[LightGBM] [Warning] No further splits with positive gain, best gain: -inf\n",
            "[LightGBM] [Warning] No further splits with positive gain, best gain: -inf\n",
            "[LightGBM] [Warning] No further splits with positive gain, best gain: -inf\n",
            "[LightGBM] [Warning] No further splits with positive gain, best gain: -inf\n",
            "[LightGBM] [Warning] No further splits with positive gain, best gain: -inf\n",
            "[LightGBM] [Warning] No further splits with positive gain, best gain: -inf\n",
            "[LightGBM] [Warning] No further splits with positive gain, best gain: -inf\n",
            "[LightGBM] [Warning] No further splits with positive gain, best gain: -inf\n",
            "[LightGBM] [Warning] No further splits with positive gain, best gain: -inf\n",
            "[LightGBM] [Warning] No further splits with positive gain, best gain: -inf\n",
            "[LightGBM] [Warning] No further splits with positive gain, best gain: -inf\n",
            "[LightGBM] [Warning] No further splits with positive gain, best gain: -inf\n",
            "[LightGBM] [Warning] No further splits with positive gain, best gain: -inf\n",
            "[LightGBM] [Warning] No further splits with positive gain, best gain: -inf\n",
            "[LightGBM] [Warning] No further splits with positive gain, best gain: -inf\n",
            "[LightGBM] [Warning] No further splits with positive gain, best gain: -inf\n",
            "[LightGBM] [Warning] No further splits with positive gain, best gain: -inf\n",
            "[LightGBM] [Warning] No further splits with positive gain, best gain: -inf\n",
            "[LightGBM] [Warning] No further splits with positive gain, best gain: -inf\n",
            "[LightGBM] [Warning] No further splits with positive gain, best gain: -inf\n",
            "[LightGBM] [Warning] No further splits with positive gain, best gain: -inf\n",
            "[LightGBM] [Warning] No further splits with positive gain, best gain: -inf\n",
            "[LightGBM] [Warning] No further splits with positive gain, best gain: -inf\n",
            "[LightGBM] [Warning] No further splits with positive gain, best gain: -inf\n",
            "[LightGBM] [Warning] No further splits with positive gain, best gain: -inf\n",
            "[LightGBM] [Warning] No further splits with positive gain, best gain: -inf\n",
            "[LightGBM] [Warning] No further splits with positive gain, best gain: -inf\n",
            "[LightGBM] [Warning] No further splits with positive gain, best gain: -inf\n",
            "[LightGBM] [Warning] No further splits with positive gain, best gain: -inf\n",
            "[LightGBM] [Warning] No further splits with positive gain, best gain: -inf\n",
            "[LightGBM] [Warning] No further splits with positive gain, best gain: -inf\n",
            "[LightGBM] [Warning] No further splits with positive gain, best gain: -inf\n",
            "[LightGBM] [Warning] No further splits with positive gain, best gain: -inf\n",
            "[LightGBM] [Warning] No further splits with positive gain, best gain: -inf\n",
            "[LightGBM] [Warning] No further splits with positive gain, best gain: -inf\n",
            "[LightGBM] [Warning] No further splits with positive gain, best gain: -inf\n",
            "[LightGBM] [Warning] No further splits with positive gain, best gain: -inf\n",
            "[LightGBM] [Warning] No further splits with positive gain, best gain: -inf\n",
            "[LightGBM] [Warning] No further splits with positive gain, best gain: -inf\n",
            "[LightGBM] [Warning] No further splits with positive gain, best gain: -inf\n",
            "[LightGBM] [Warning] No further splits with positive gain, best gain: -inf\n",
            "[LightGBM] [Warning] No further splits with positive gain, best gain: -inf\n",
            "[LightGBM] [Warning] No further splits with positive gain, best gain: -inf\n",
            "[LightGBM] [Warning] No further splits with positive gain, best gain: -inf\n",
            "[LightGBM] [Warning] No further splits with positive gain, best gain: -inf\n",
            "[LightGBM] [Warning] No further splits with positive gain, best gain: -inf\n",
            "[LightGBM] [Warning] No further splits with positive gain, best gain: -inf\n",
            "[LightGBM] [Warning] No further splits with positive gain, best gain: -inf\n",
            "[LightGBM] [Warning] No further splits with positive gain, best gain: -inf\n",
            "[LightGBM] [Warning] No further splits with positive gain, best gain: -inf\n",
            "[LightGBM] [Warning] No further splits with positive gain, best gain: -inf\n",
            "[LightGBM] [Warning] No further splits with positive gain, best gain: -inf\n",
            "[LightGBM] [Warning] No further splits with positive gain, best gain: -inf\n",
            "[LightGBM] [Warning] No further splits with positive gain, best gain: -inf\n",
            "[LightGBM] [Warning] No further splits with positive gain, best gain: -inf\n",
            "[LightGBM] [Warning] No further splits with positive gain, best gain: -inf\n",
            "[LightGBM] [Warning] No further splits with positive gain, best gain: -inf\n",
            "[LightGBM] [Warning] No further splits with positive gain, best gain: -inf\n",
            "[LightGBM] [Warning] No further splits with positive gain, best gain: -inf\n",
            "[LightGBM] [Warning] No further splits with positive gain, best gain: -inf\n",
            "[LightGBM] [Warning] No further splits with positive gain, best gain: -inf\n",
            "[LightGBM] [Warning] No further splits with positive gain, best gain: -inf\n",
            "[LightGBM] [Warning] No further splits with positive gain, best gain: -inf\n",
            "[LightGBM] [Warning] No further splits with positive gain, best gain: -inf\n",
            "[LightGBM] [Warning] No further splits with positive gain, best gain: -inf\n",
            "[LightGBM] [Warning] No further splits with positive gain, best gain: -inf\n",
            "[LightGBM] [Warning] No further splits with positive gain, best gain: -inf\n",
            "[LightGBM] [Warning] No further splits with positive gain, best gain: -inf\n",
            "[LightGBM] [Warning] No further splits with positive gain, best gain: -inf\n",
            "[LightGBM] [Warning] No further splits with positive gain, best gain: -inf\n",
            "[LightGBM] [Warning] No further splits with positive gain, best gain: -inf\n",
            "[LightGBM] [Warning] No further splits with positive gain, best gain: -inf\n",
            "[LightGBM] [Warning] No further splits with positive gain, best gain: -inf\n",
            "[LightGBM] [Warning] No further splits with positive gain, best gain: -inf\n",
            "[LightGBM] [Warning] No further splits with positive gain, best gain: -inf\n",
            "[LightGBM] [Warning] No further splits with positive gain, best gain: -inf\n",
            "[LightGBM] [Warning] No further splits with positive gain, best gain: -inf\n",
            "[LightGBM] [Warning] No further splits with positive gain, best gain: -inf\n",
            "[LightGBM] [Warning] No further splits with positive gain, best gain: -inf\n",
            "[LightGBM] [Warning] No further splits with positive gain, best gain: -inf\n",
            "[LightGBM] [Warning] No further splits with positive gain, best gain: -inf\n",
            "[LightGBM] [Warning] No further splits with positive gain, best gain: -inf\n",
            "[LightGBM] [Warning] No further splits with positive gain, best gain: -inf\n",
            "[LightGBM] [Warning] No further splits with positive gain, best gain: -inf\n",
            "[LightGBM] [Warning] No further splits with positive gain, best gain: -inf\n",
            "[LightGBM] [Warning] No further splits with positive gain, best gain: -inf\n",
            "[LightGBM] [Warning] No further splits with positive gain, best gain: -inf\n",
            "[LightGBM] [Warning] No further splits with positive gain, best gain: -inf\n",
            "[LightGBM] [Warning] No further splits with positive gain, best gain: -inf\n",
            "[LightGBM] [Warning] No further splits with positive gain, best gain: -inf\n",
            "[LightGBM] [Warning] No further splits with positive gain, best gain: -inf\n",
            "[LightGBM] [Warning] No further splits with positive gain, best gain: -inf\n",
            "[LightGBM] [Warning] No further splits with positive gain, best gain: -inf\n",
            "[LightGBM] [Warning] No further splits with positive gain, best gain: -inf\n",
            "[LightGBM] [Warning] No further splits with positive gain, best gain: -inf\n",
            "[LightGBM] [Warning] No further splits with positive gain, best gain: -inf\n",
            "[LightGBM] [Warning] No further splits with positive gain, best gain: -inf\n",
            "[LightGBM] [Warning] No further splits with positive gain, best gain: -inf\n",
            "[LightGBM] [Warning] No further splits with positive gain, best gain: -inf\n",
            "[LightGBM] [Warning] No further splits with positive gain, best gain: -inf\n",
            "[LightGBM] [Warning] No further splits with positive gain, best gain: -inf\n",
            "[LightGBM] [Warning] No further splits with positive gain, best gain: -inf\n",
            "[LightGBM] [Warning] No further splits with positive gain, best gain: -inf\n",
            "[LightGBM] [Warning] No further splits with positive gain, best gain: -inf\n",
            "[LightGBM] [Warning] No further splits with positive gain, best gain: -inf\n",
            "[LightGBM] [Warning] No further splits with positive gain, best gain: -inf\n",
            "[LightGBM] [Warning] No further splits with positive gain, best gain: -inf\n",
            "[LightGBM] [Warning] No further splits with positive gain, best gain: -inf\n",
            "[LightGBM] [Warning] No further splits with positive gain, best gain: -inf\n",
            "[LightGBM] [Warning] No further splits with positive gain, best gain: -inf\n",
            "[LightGBM] [Warning] No further splits with positive gain, best gain: -inf\n",
            "[LightGBM] [Warning] No further splits with positive gain, best gain: -inf\n",
            "[LightGBM] [Warning] No further splits with positive gain, best gain: -inf\n",
            "[LightGBM] [Warning] No further splits with positive gain, best gain: -inf\n",
            "[LightGBM] [Warning] No further splits with positive gain, best gain: -inf\n",
            "[LightGBM] [Warning] No further splits with positive gain, best gain: -inf\n",
            "[LightGBM] [Warning] No further splits with positive gain, best gain: -inf\n",
            "[LightGBM] [Warning] No further splits with positive gain, best gain: -inf\n",
            "[LightGBM] [Warning] No further splits with positive gain, best gain: -inf\n",
            "[LightGBM] [Warning] No further splits with positive gain, best gain: -inf\n",
            "[LightGBM] [Warning] No further splits with positive gain, best gain: -inf\n",
            "[LightGBM] [Warning] No further splits with positive gain, best gain: -inf\n",
            "[LightGBM] [Warning] No further splits with positive gain, best gain: -inf\n",
            "[LightGBM] [Warning] No further splits with positive gain, best gain: -inf\n",
            "[LightGBM] [Warning] No further splits with positive gain, best gain: -inf\n",
            "[LightGBM] [Warning] No further splits with positive gain, best gain: -inf\n",
            "[LightGBM] [Warning] No further splits with positive gain, best gain: -inf\n",
            "[LightGBM] [Warning] No further splits with positive gain, best gain: -inf\n",
            "[LightGBM] [Warning] No further splits with positive gain, best gain: -inf\n",
            "[LightGBM] [Warning] No further splits with positive gain, best gain: -inf\n",
            "[LightGBM] [Warning] No further splits with positive gain, best gain: -inf\n",
            "[LightGBM] [Warning] No further splits with positive gain, best gain: -inf\n",
            "[LightGBM] [Warning] No further splits with positive gain, best gain: -inf\n",
            "[LightGBM] [Warning] No further splits with positive gain, best gain: -inf\n",
            "[LightGBM] [Warning] No further splits with positive gain, best gain: -inf\n",
            "[LightGBM] [Warning] No further splits with positive gain, best gain: -inf\n",
            "[LightGBM] [Warning] No further splits with positive gain, best gain: -inf\n",
            "[LightGBM] [Warning] No further splits with positive gain, best gain: -inf\n",
            "[LightGBM] [Warning] No further splits with positive gain, best gain: -inf\n",
            "[LightGBM] [Warning] No further splits with positive gain, best gain: -inf\n",
            "[LightGBM] [Warning] No further splits with positive gain, best gain: -inf\n",
            "[LightGBM] [Warning] No further splits with positive gain, best gain: -inf\n",
            "[LightGBM] [Warning] No further splits with positive gain, best gain: -inf\n",
            "[LightGBM] [Warning] No further splits with positive gain, best gain: -inf\n"
          ]
        },
        {
          "data": {
            "text/html": [
              "<style>#sk-container-id-3 {\n",
              "  /* Definition of color scheme common for light and dark mode */\n",
              "  --sklearn-color-text: black;\n",
              "  --sklearn-color-line: gray;\n",
              "  /* Definition of color scheme for unfitted estimators */\n",
              "  --sklearn-color-unfitted-level-0: #fff5e6;\n",
              "  --sklearn-color-unfitted-level-1: #f6e4d2;\n",
              "  --sklearn-color-unfitted-level-2: #ffe0b3;\n",
              "  --sklearn-color-unfitted-level-3: chocolate;\n",
              "  /* Definition of color scheme for fitted estimators */\n",
              "  --sklearn-color-fitted-level-0: #f0f8ff;\n",
              "  --sklearn-color-fitted-level-1: #d4ebff;\n",
              "  --sklearn-color-fitted-level-2: #b3dbfd;\n",
              "  --sklearn-color-fitted-level-3: cornflowerblue;\n",
              "\n",
              "  /* Specific color for light theme */\n",
              "  --sklearn-color-text-on-default-background: var(--sg-text-color, var(--theme-code-foreground, var(--jp-content-font-color1, black)));\n",
              "  --sklearn-color-background: var(--sg-background-color, var(--theme-background, var(--jp-layout-color0, white)));\n",
              "  --sklearn-color-border-box: var(--sg-text-color, var(--theme-code-foreground, var(--jp-content-font-color1, black)));\n",
              "  --sklearn-color-icon: #696969;\n",
              "\n",
              "  @media (prefers-color-scheme: dark) {\n",
              "    /* Redefinition of color scheme for dark theme */\n",
              "    --sklearn-color-text-on-default-background: var(--sg-text-color, var(--theme-code-foreground, var(--jp-content-font-color1, white)));\n",
              "    --sklearn-color-background: var(--sg-background-color, var(--theme-background, var(--jp-layout-color0, #111)));\n",
              "    --sklearn-color-border-box: var(--sg-text-color, var(--theme-code-foreground, var(--jp-content-font-color1, white)));\n",
              "    --sklearn-color-icon: #878787;\n",
              "  }\n",
              "}\n",
              "\n",
              "#sk-container-id-3 {\n",
              "  color: var(--sklearn-color-text);\n",
              "}\n",
              "\n",
              "#sk-container-id-3 pre {\n",
              "  padding: 0;\n",
              "}\n",
              "\n",
              "#sk-container-id-3 input.sk-hidden--visually {\n",
              "  border: 0;\n",
              "  clip: rect(1px 1px 1px 1px);\n",
              "  clip: rect(1px, 1px, 1px, 1px);\n",
              "  height: 1px;\n",
              "  margin: -1px;\n",
              "  overflow: hidden;\n",
              "  padding: 0;\n",
              "  position: absolute;\n",
              "  width: 1px;\n",
              "}\n",
              "\n",
              "#sk-container-id-3 div.sk-dashed-wrapped {\n",
              "  border: 1px dashed var(--sklearn-color-line);\n",
              "  margin: 0 0.4em 0.5em 0.4em;\n",
              "  box-sizing: border-box;\n",
              "  padding-bottom: 0.4em;\n",
              "  background-color: var(--sklearn-color-background);\n",
              "}\n",
              "\n",
              "#sk-container-id-3 div.sk-container {\n",
              "  /* jupyter's `normalize.less` sets `[hidden] { display: none; }`\n",
              "     but bootstrap.min.css set `[hidden] { display: none !important; }`\n",
              "     so we also need the `!important` here to be able to override the\n",
              "     default hidden behavior on the sphinx rendered scikit-learn.org.\n",
              "     See: https://github.com/scikit-learn/scikit-learn/issues/21755 */\n",
              "  display: inline-block !important;\n",
              "  position: relative;\n",
              "}\n",
              "\n",
              "#sk-container-id-3 div.sk-text-repr-fallback {\n",
              "  display: none;\n",
              "}\n",
              "\n",
              "div.sk-parallel-item,\n",
              "div.sk-serial,\n",
              "div.sk-item {\n",
              "  /* draw centered vertical line to link estimators */\n",
              "  background-image: linear-gradient(var(--sklearn-color-text-on-default-background), var(--sklearn-color-text-on-default-background));\n",
              "  background-size: 2px 100%;\n",
              "  background-repeat: no-repeat;\n",
              "  background-position: center center;\n",
              "}\n",
              "\n",
              "/* Parallel-specific style estimator block */\n",
              "\n",
              "#sk-container-id-3 div.sk-parallel-item::after {\n",
              "  content: \"\";\n",
              "  width: 100%;\n",
              "  border-bottom: 2px solid var(--sklearn-color-text-on-default-background);\n",
              "  flex-grow: 1;\n",
              "}\n",
              "\n",
              "#sk-container-id-3 div.sk-parallel {\n",
              "  display: flex;\n",
              "  align-items: stretch;\n",
              "  justify-content: center;\n",
              "  background-color: var(--sklearn-color-background);\n",
              "  position: relative;\n",
              "}\n",
              "\n",
              "#sk-container-id-3 div.sk-parallel-item {\n",
              "  display: flex;\n",
              "  flex-direction: column;\n",
              "}\n",
              "\n",
              "#sk-container-id-3 div.sk-parallel-item:first-child::after {\n",
              "  align-self: flex-end;\n",
              "  width: 50%;\n",
              "}\n",
              "\n",
              "#sk-container-id-3 div.sk-parallel-item:last-child::after {\n",
              "  align-self: flex-start;\n",
              "  width: 50%;\n",
              "}\n",
              "\n",
              "#sk-container-id-3 div.sk-parallel-item:only-child::after {\n",
              "  width: 0;\n",
              "}\n",
              "\n",
              "/* Serial-specific style estimator block */\n",
              "\n",
              "#sk-container-id-3 div.sk-serial {\n",
              "  display: flex;\n",
              "  flex-direction: column;\n",
              "  align-items: center;\n",
              "  background-color: var(--sklearn-color-background);\n",
              "  padding-right: 1em;\n",
              "  padding-left: 1em;\n",
              "}\n",
              "\n",
              "\n",
              "/* Toggleable style: style used for estimator/Pipeline/ColumnTransformer box that is\n",
              "clickable and can be expanded/collapsed.\n",
              "- Pipeline and ColumnTransformer use this feature and define the default style\n",
              "- Estimators will overwrite some part of the style using the `sk-estimator` class\n",
              "*/\n",
              "\n",
              "/* Pipeline and ColumnTransformer style (default) */\n",
              "\n",
              "#sk-container-id-3 div.sk-toggleable {\n",
              "  /* Default theme specific background. It is overwritten whether we have a\n",
              "  specific estimator or a Pipeline/ColumnTransformer */\n",
              "  background-color: var(--sklearn-color-background);\n",
              "}\n",
              "\n",
              "/* Toggleable label */\n",
              "#sk-container-id-3 label.sk-toggleable__label {\n",
              "  cursor: pointer;\n",
              "  display: block;\n",
              "  width: 100%;\n",
              "  margin-bottom: 0;\n",
              "  padding: 0.5em;\n",
              "  box-sizing: border-box;\n",
              "  text-align: center;\n",
              "}\n",
              "\n",
              "#sk-container-id-3 label.sk-toggleable__label-arrow:before {\n",
              "  /* Arrow on the left of the label */\n",
              "  content: \"▸\";\n",
              "  float: left;\n",
              "  margin-right: 0.25em;\n",
              "  color: var(--sklearn-color-icon);\n",
              "}\n",
              "\n",
              "#sk-container-id-3 label.sk-toggleable__label-arrow:hover:before {\n",
              "  color: var(--sklearn-color-text);\n",
              "}\n",
              "\n",
              "/* Toggleable content - dropdown */\n",
              "\n",
              "#sk-container-id-3 div.sk-toggleable__content {\n",
              "  max-height: 0;\n",
              "  max-width: 0;\n",
              "  overflow: hidden;\n",
              "  text-align: left;\n",
              "  /* unfitted */\n",
              "  background-color: var(--sklearn-color-unfitted-level-0);\n",
              "}\n",
              "\n",
              "#sk-container-id-3 div.sk-toggleable__content.fitted {\n",
              "  /* fitted */\n",
              "  background-color: var(--sklearn-color-fitted-level-0);\n",
              "}\n",
              "\n",
              "#sk-container-id-3 div.sk-toggleable__content pre {\n",
              "  margin: 0.2em;\n",
              "  border-radius: 0.25em;\n",
              "  color: var(--sklearn-color-text);\n",
              "  /* unfitted */\n",
              "  background-color: var(--sklearn-color-unfitted-level-0);\n",
              "}\n",
              "\n",
              "#sk-container-id-3 div.sk-toggleable__content.fitted pre {\n",
              "  /* unfitted */\n",
              "  background-color: var(--sklearn-color-fitted-level-0);\n",
              "}\n",
              "\n",
              "#sk-container-id-3 input.sk-toggleable__control:checked~div.sk-toggleable__content {\n",
              "  /* Expand drop-down */\n",
              "  max-height: 200px;\n",
              "  max-width: 100%;\n",
              "  overflow: auto;\n",
              "}\n",
              "\n",
              "#sk-container-id-3 input.sk-toggleable__control:checked~label.sk-toggleable__label-arrow:before {\n",
              "  content: \"▾\";\n",
              "}\n",
              "\n",
              "/* Pipeline/ColumnTransformer-specific style */\n",
              "\n",
              "#sk-container-id-3 div.sk-label input.sk-toggleable__control:checked~label.sk-toggleable__label {\n",
              "  color: var(--sklearn-color-text);\n",
              "  background-color: var(--sklearn-color-unfitted-level-2);\n",
              "}\n",
              "\n",
              "#sk-container-id-3 div.sk-label.fitted input.sk-toggleable__control:checked~label.sk-toggleable__label {\n",
              "  background-color: var(--sklearn-color-fitted-level-2);\n",
              "}\n",
              "\n",
              "/* Estimator-specific style */\n",
              "\n",
              "/* Colorize estimator box */\n",
              "#sk-container-id-3 div.sk-estimator input.sk-toggleable__control:checked~label.sk-toggleable__label {\n",
              "  /* unfitted */\n",
              "  background-color: var(--sklearn-color-unfitted-level-2);\n",
              "}\n",
              "\n",
              "#sk-container-id-3 div.sk-estimator.fitted input.sk-toggleable__control:checked~label.sk-toggleable__label {\n",
              "  /* fitted */\n",
              "  background-color: var(--sklearn-color-fitted-level-2);\n",
              "}\n",
              "\n",
              "#sk-container-id-3 div.sk-label label.sk-toggleable__label,\n",
              "#sk-container-id-3 div.sk-label label {\n",
              "  /* The background is the default theme color */\n",
              "  color: var(--sklearn-color-text-on-default-background);\n",
              "}\n",
              "\n",
              "/* On hover, darken the color of the background */\n",
              "#sk-container-id-3 div.sk-label:hover label.sk-toggleable__label {\n",
              "  color: var(--sklearn-color-text);\n",
              "  background-color: var(--sklearn-color-unfitted-level-2);\n",
              "}\n",
              "\n",
              "/* Label box, darken color on hover, fitted */\n",
              "#sk-container-id-3 div.sk-label.fitted:hover label.sk-toggleable__label.fitted {\n",
              "  color: var(--sklearn-color-text);\n",
              "  background-color: var(--sklearn-color-fitted-level-2);\n",
              "}\n",
              "\n",
              "/* Estimator label */\n",
              "\n",
              "#sk-container-id-3 div.sk-label label {\n",
              "  font-family: monospace;\n",
              "  font-weight: bold;\n",
              "  display: inline-block;\n",
              "  line-height: 1.2em;\n",
              "}\n",
              "\n",
              "#sk-container-id-3 div.sk-label-container {\n",
              "  text-align: center;\n",
              "}\n",
              "\n",
              "/* Estimator-specific */\n",
              "#sk-container-id-3 div.sk-estimator {\n",
              "  font-family: monospace;\n",
              "  border: 1px dotted var(--sklearn-color-border-box);\n",
              "  border-radius: 0.25em;\n",
              "  box-sizing: border-box;\n",
              "  margin-bottom: 0.5em;\n",
              "  /* unfitted */\n",
              "  background-color: var(--sklearn-color-unfitted-level-0);\n",
              "}\n",
              "\n",
              "#sk-container-id-3 div.sk-estimator.fitted {\n",
              "  /* fitted */\n",
              "  background-color: var(--sklearn-color-fitted-level-0);\n",
              "}\n",
              "\n",
              "/* on hover */\n",
              "#sk-container-id-3 div.sk-estimator:hover {\n",
              "  /* unfitted */\n",
              "  background-color: var(--sklearn-color-unfitted-level-2);\n",
              "}\n",
              "\n",
              "#sk-container-id-3 div.sk-estimator.fitted:hover {\n",
              "  /* fitted */\n",
              "  background-color: var(--sklearn-color-fitted-level-2);\n",
              "}\n",
              "\n",
              "/* Specification for estimator info (e.g. \"i\" and \"?\") */\n",
              "\n",
              "/* Common style for \"i\" and \"?\" */\n",
              "\n",
              ".sk-estimator-doc-link,\n",
              "a:link.sk-estimator-doc-link,\n",
              "a:visited.sk-estimator-doc-link {\n",
              "  float: right;\n",
              "  font-size: smaller;\n",
              "  line-height: 1em;\n",
              "  font-family: monospace;\n",
              "  background-color: var(--sklearn-color-background);\n",
              "  border-radius: 1em;\n",
              "  height: 1em;\n",
              "  width: 1em;\n",
              "  text-decoration: none !important;\n",
              "  margin-left: 1ex;\n",
              "  /* unfitted */\n",
              "  border: var(--sklearn-color-unfitted-level-1) 1pt solid;\n",
              "  color: var(--sklearn-color-unfitted-level-1);\n",
              "}\n",
              "\n",
              ".sk-estimator-doc-link.fitted,\n",
              "a:link.sk-estimator-doc-link.fitted,\n",
              "a:visited.sk-estimator-doc-link.fitted {\n",
              "  /* fitted */\n",
              "  border: var(--sklearn-color-fitted-level-1) 1pt solid;\n",
              "  color: var(--sklearn-color-fitted-level-1);\n",
              "}\n",
              "\n",
              "/* On hover */\n",
              "div.sk-estimator:hover .sk-estimator-doc-link:hover,\n",
              ".sk-estimator-doc-link:hover,\n",
              "div.sk-label-container:hover .sk-estimator-doc-link:hover,\n",
              ".sk-estimator-doc-link:hover {\n",
              "  /* unfitted */\n",
              "  background-color: var(--sklearn-color-unfitted-level-3);\n",
              "  color: var(--sklearn-color-background);\n",
              "  text-decoration: none;\n",
              "}\n",
              "\n",
              "div.sk-estimator.fitted:hover .sk-estimator-doc-link.fitted:hover,\n",
              ".sk-estimator-doc-link.fitted:hover,\n",
              "div.sk-label-container:hover .sk-estimator-doc-link.fitted:hover,\n",
              ".sk-estimator-doc-link.fitted:hover {\n",
              "  /* fitted */\n",
              "  background-color: var(--sklearn-color-fitted-level-3);\n",
              "  color: var(--sklearn-color-background);\n",
              "  text-decoration: none;\n",
              "}\n",
              "\n",
              "/* Span, style for the box shown on hovering the info icon */\n",
              ".sk-estimator-doc-link span {\n",
              "  display: none;\n",
              "  z-index: 9999;\n",
              "  position: relative;\n",
              "  font-weight: normal;\n",
              "  right: .2ex;\n",
              "  padding: .5ex;\n",
              "  margin: .5ex;\n",
              "  width: min-content;\n",
              "  min-width: 20ex;\n",
              "  max-width: 50ex;\n",
              "  color: var(--sklearn-color-text);\n",
              "  box-shadow: 2pt 2pt 4pt #999;\n",
              "  /* unfitted */\n",
              "  background: var(--sklearn-color-unfitted-level-0);\n",
              "  border: .5pt solid var(--sklearn-color-unfitted-level-3);\n",
              "}\n",
              "\n",
              ".sk-estimator-doc-link.fitted span {\n",
              "  /* fitted */\n",
              "  background: var(--sklearn-color-fitted-level-0);\n",
              "  border: var(--sklearn-color-fitted-level-3);\n",
              "}\n",
              "\n",
              ".sk-estimator-doc-link:hover span {\n",
              "  display: block;\n",
              "}\n",
              "\n",
              "/* \"?\"-specific style due to the `<a>` HTML tag */\n",
              "\n",
              "#sk-container-id-3 a.estimator_doc_link {\n",
              "  float: right;\n",
              "  font-size: 1rem;\n",
              "  line-height: 1em;\n",
              "  font-family: monospace;\n",
              "  background-color: var(--sklearn-color-background);\n",
              "  border-radius: 1rem;\n",
              "  height: 1rem;\n",
              "  width: 1rem;\n",
              "  text-decoration: none;\n",
              "  /* unfitted */\n",
              "  color: var(--sklearn-color-unfitted-level-1);\n",
              "  border: var(--sklearn-color-unfitted-level-1) 1pt solid;\n",
              "}\n",
              "\n",
              "#sk-container-id-3 a.estimator_doc_link.fitted {\n",
              "  /* fitted */\n",
              "  border: var(--sklearn-color-fitted-level-1) 1pt solid;\n",
              "  color: var(--sklearn-color-fitted-level-1);\n",
              "}\n",
              "\n",
              "/* On hover */\n",
              "#sk-container-id-3 a.estimator_doc_link:hover {\n",
              "  /* unfitted */\n",
              "  background-color: var(--sklearn-color-unfitted-level-3);\n",
              "  color: var(--sklearn-color-background);\n",
              "  text-decoration: none;\n",
              "}\n",
              "\n",
              "#sk-container-id-3 a.estimator_doc_link.fitted:hover {\n",
              "  /* fitted */\n",
              "  background-color: var(--sklearn-color-fitted-level-3);\n",
              "}\n",
              "</style><div id=\"sk-container-id-3\" class=\"sk-top-container\"><div class=\"sk-text-repr-fallback\"><pre>LGBMClassifier()</pre><b>In a Jupyter environment, please rerun this cell to show the HTML representation or trust the notebook. <br />On GitHub, the HTML representation is unable to render, please try loading this page with nbviewer.org.</b></div><div class=\"sk-container\" hidden><div class=\"sk-item\"><div class=\"sk-estimator fitted sk-toggleable\"><input class=\"sk-toggleable__control sk-hidden--visually\" id=\"sk-estimator-id-3\" type=\"checkbox\" checked><label for=\"sk-estimator-id-3\" class=\"sk-toggleable__label fitted sk-toggleable__label-arrow fitted\">&nbsp;LGBMClassifier<span class=\"sk-estimator-doc-link fitted\">i<span>Fitted</span></span></label><div class=\"sk-toggleable__content fitted\"><pre>LGBMClassifier()</pre></div> </div></div></div></div>"
            ],
            "text/plain": [
              "LGBMClassifier()"
            ]
          },
          "execution_count": 48,
          "metadata": {},
          "output_type": "execute_result"
        }
      ],
      "source": [
        "# Now let me split the data in order to train the model:\n",
        "import lightgbm as lgb\n",
        "\n",
        "X = soil_qual.drop('Soil Quality', axis = 1)\n",
        "y = soil_qual['Soil Quality']\n",
        "\n",
        "np.random.seed(42)\n",
        "\n",
        "X_train, X_test, y_train, y_test = train_test_split(X, y, test_size=0.3)\n",
        "\n",
        "soil_qual_model = lgb.LGBMClassifier()\n",
        "soil_qual_model.fit(X_train, y_train)"
      ]
    },
    {
      "cell_type": "code",
      "execution_count": null,
      "id": "618adc19-e928-4020-b6ea-97e7b457143d",
      "metadata": {
        "id": "618adc19-e928-4020-b6ea-97e7b457143d"
      },
      "outputs": [],
      "source": []
    },
    {
      "cell_type": "code",
      "execution_count": null,
      "id": "cadea75c-2a68-40ee-abe8-9e128f1f1e5c",
      "metadata": {
        "id": "cadea75c-2a68-40ee-abe8-9e128f1f1e5c",
        "outputId": "3493366f-2178-4a0e-c9c6-f735c8377018"
      },
      "outputs": [
        {
          "data": {
            "text/plain": [
              "1.0"
            ]
          },
          "execution_count": 49,
          "metadata": {},
          "output_type": "execute_result"
        }
      ],
      "source": [
        "soil_qual_model.score(X_test, y_test)\n"
      ]
    },
    {
      "cell_type": "code",
      "execution_count": null,
      "id": "5dd8120a-77ab-4c55-8bc6-4142a2cdfdde",
      "metadata": {
        "id": "5dd8120a-77ab-4c55-8bc6-4142a2cdfdde",
        "outputId": "0e1984ac-cabd-4b20-ef75-c4221d32b390"
      },
      "outputs": [
        {
          "data": {
            "text/plain": [
              "1.0"
            ]
          },
          "execution_count": 50,
          "metadata": {},
          "output_type": "execute_result"
        }
      ],
      "source": [
        "soil_qual_model.score(X_train, y_train)"
      ]
    },
    {
      "cell_type": "markdown",
      "id": "5b12ce0a-61f9-4412-9be5-c8902260b241",
      "metadata": {
        "id": "5b12ce0a-61f9-4412-9be5-c8902260b241"
      },
      "source": [
        "### **Notes:**\n",
        "\n",
        "As you can see, the gradient boosting model has again proven that it is the best when it comes to classification, with a 100% accuracy. However, there is the need to check for overfitting, just to make sure that the model can perform as expected."
      ]
    },
    {
      "cell_type": "code",
      "execution_count": null,
      "id": "2d1cb3ce-f2c3-4b68-a851-60733c96a9f5",
      "metadata": {
        "id": "2d1cb3ce-f2c3-4b68-a851-60733c96a9f5"
      },
      "outputs": [],
      "source": []
    },
    {
      "cell_type": "code",
      "execution_count": null,
      "id": "1ecdb616-a7b0-41dc-aa37-258a487a2d68",
      "metadata": {
        "id": "1ecdb616-a7b0-41dc-aa37-258a487a2d68"
      },
      "outputs": [],
      "source": []
    },
    {
      "cell_type": "code",
      "execution_count": null,
      "id": "32082820-8e56-4515-9435-3abc56b57ef8",
      "metadata": {
        "id": "32082820-8e56-4515-9435-3abc56b57ef8"
      },
      "outputs": [],
      "source": []
    },
    {
      "cell_type": "markdown",
      "id": "1504bd09-912d-4f3b-8277-829ee7af65fd",
      "metadata": {
        "id": "1504bd09-912d-4f3b-8277-829ee7af65fd"
      },
      "source": [
        "### **TESTING OF SOIL QUALITY MODEL :**"
      ]
    },
    {
      "cell_type": "code",
      "execution_count": null,
      "id": "8ea0278b-6f3f-46b1-a0fd-a4bb66771bd4",
      "metadata": {
        "id": "8ea0278b-6f3f-46b1-a0fd-a4bb66771bd4"
      },
      "outputs": [],
      "source": []
    },
    {
      "cell_type": "code",
      "execution_count": null,
      "id": "9c8ec696-82ec-47ca-90d7-56470cfd1328",
      "metadata": {
        "id": "9c8ec696-82ec-47ca-90d7-56470cfd1328",
        "outputId": "3a3e5ea5-29ae-48c7-9c28-7441737f2462"
      },
      "outputs": [
        {
          "name": "stdout",
          "output_type": "stream",
          "text": [
            "model saved successfully\n",
            "saved successfully !!!\n"
          ]
        }
      ],
      "source": [
        "with open('soil_quality_model.pkl', 'wb') as soil_qual_file:\n",
        "    pickle.dump(soil_qual_model, soil_qual_file)\n",
        "print('model saved successfully')\n",
        "\n",
        "\n",
        "with open('soil_qual_encoder.pkl', 'wb') as qual_file:\n",
        "    pickle.dump(qual_encoder, qual_file)\n",
        "print('saved successfully !!!')"
      ]
    },
    {
      "cell_type": "code",
      "execution_count": null,
      "id": "ca1bbc2f-fcbc-4a17-9f37-0bd7ed56a058",
      "metadata": {
        "id": "ca1bbc2f-fcbc-4a17-9f37-0bd7ed56a058"
      },
      "outputs": [],
      "source": []
    },
    {
      "cell_type": "code",
      "execution_count": null,
      "id": "8c9150c6-68bd-4306-a4d2-2a4e43af9fd9",
      "metadata": {
        "id": "8c9150c6-68bd-4306-a4d2-2a4e43af9fd9"
      },
      "outputs": [],
      "source": []
    },
    {
      "cell_type": "code",
      "execution_count": null,
      "id": "c549fa1f-64a9-4415-a16a-16ddff990d3d",
      "metadata": {
        "id": "c549fa1f-64a9-4415-a16a-16ddff990d3d",
        "outputId": "d59edcf0-deee-4bd0-84b8-415f03b3a84f"
      },
      "outputs": [
        {
          "name": "stdout",
          "output_type": "stream",
          "text": [
            "loaded successfully\n",
            "loaded successfully !!!\n"
          ]
        }
      ],
      "source": [
        "with open('soil_quality_model.pkl', 'rb') as soil_qual_model_file:\n",
        "    soil_qual_mod_v1 = pickle.load(soil_qual_model_file)\n",
        "print('loaded successfully')\n",
        "\n",
        "with open('soil_qual_encoder.pkl', 'rb') as soil_qual_file:\n",
        "    qual_encoder = pickle.load(soil_qual_file)\n",
        "print('loaded successfully !!!')"
      ]
    },
    {
      "cell_type": "code",
      "execution_count": null,
      "id": "a552806e-6aaf-41f6-b2e0-ede31420ab6b",
      "metadata": {
        "id": "a552806e-6aaf-41f6-b2e0-ede31420ab6b"
      },
      "outputs": [],
      "source": []
    },
    {
      "cell_type": "code",
      "execution_count": null,
      "id": "c501c735-a1f5-4cb2-812b-4311c16ac606",
      "metadata": {
        "id": "c501c735-a1f5-4cb2-812b-4311c16ac606"
      },
      "outputs": [],
      "source": []
    },
    {
      "cell_type": "code",
      "execution_count": null,
      "id": "9b3e82c7-ccd8-4633-95ef-ab3d7321e0d1",
      "metadata": {
        "id": "9b3e82c7-ccd8-4633-95ef-ab3d7321e0d1",
        "outputId": "4818f364-eaa8-4d5b-902d-6e694c981986"
      },
      "outputs": [
        {
          "data": {
            "text/html": [
              "<div>\n",
              "<style scoped>\n",
              "    .dataframe tbody tr th:only-of-type {\n",
              "        vertical-align: middle;\n",
              "    }\n",
              "\n",
              "    .dataframe tbody tr th {\n",
              "        vertical-align: top;\n",
              "    }\n",
              "\n",
              "    .dataframe thead th {\n",
              "        text-align: right;\n",
              "    }\n",
              "</style>\n",
              "<table border=\"1\" class=\"dataframe\">\n",
              "  <thead>\n",
              "    <tr style=\"text-align: right;\">\n",
              "      <th></th>\n",
              "      <th>Nitrogen</th>\n",
              "      <th>Phosphorus</th>\n",
              "      <th>Potassium</th>\n",
              "      <th>Soil Moisture</th>\n",
              "      <th>Soil Temperature</th>\n",
              "    </tr>\n",
              "  </thead>\n",
              "  <tbody>\n",
              "    <tr>\n",
              "      <th>0</th>\n",
              "      <td>57.323523</td>\n",
              "      <td>42.0223</td>\n",
              "      <td>61.242177</td>\n",
              "      <td>20.205845</td>\n",
              "      <td>24.789369</td>\n",
              "    </tr>\n",
              "  </tbody>\n",
              "</table>\n",
              "</div>"
            ],
            "text/plain": [
              "    Nitrogen  Phosphorus  Potassium  Soil Moisture  Soil Temperature\n",
              "0  57.323523     42.0223  61.242177      20.205845         24.789369"
            ]
          },
          "execution_count": 53,
          "metadata": {},
          "output_type": "execute_result"
        }
      ],
      "source": [
        "qual_test_data_2 = pd.DataFrame({\n",
        "    'Nitrogen': [57.323523],\n",
        "    'Phosphorus': [42.022300],\n",
        "    'Potassium': [61.242177],\n",
        "    'Soil Moisture' : [20.205845],\n",
        "    'Soil Temperature': [24.789369]\n",
        "})\n",
        "\n",
        "qual_test_data_2"
      ]
    },
    {
      "cell_type": "code",
      "execution_count": null,
      "id": "694f3fee-99e1-4019-b4fc-f0037281aaed",
      "metadata": {
        "id": "694f3fee-99e1-4019-b4fc-f0037281aaed"
      },
      "outputs": [],
      "source": []
    },
    {
      "cell_type": "code",
      "execution_count": null,
      "id": "9b5c587f-aa63-49b8-b4a0-556db861d151",
      "metadata": {
        "id": "9b5c587f-aa63-49b8-b4a0-556db861d151",
        "outputId": "018d41c4-877c-47fc-d329-95c6da549a80"
      },
      "outputs": [
        {
          "data": {
            "text/plain": [
              "array(['Great'], dtype=object)"
            ]
          },
          "execution_count": 54,
          "metadata": {},
          "output_type": "execute_result"
        }
      ],
      "source": [
        "predicted_soil_quality = soil_qual_mod_v1.predict(qual_test_data_2)\n",
        "# predicted_soil_quality\n",
        "\n",
        "qual_label_decoded = qual_encoder.inverse_transform(predicted_soil_quality)\n",
        "qual_label_decoded"
      ]
    },
    {
      "cell_type": "code",
      "execution_count": null,
      "id": "75a28c83-5dc6-4747-82d5-59ad9dc68acb",
      "metadata": {
        "id": "75a28c83-5dc6-4747-82d5-59ad9dc68acb"
      },
      "outputs": [],
      "source": []
    },
    {
      "cell_type": "code",
      "execution_count": null,
      "id": "5296237f-6e61-41e0-ba6b-ef0c5eb88523",
      "metadata": {
        "id": "5296237f-6e61-41e0-ba6b-ef0c5eb88523"
      },
      "outputs": [],
      "source": []
    },
    {
      "cell_type": "code",
      "execution_count": null,
      "id": "1110a59b-467a-4cb7-9316-75521ac848c7",
      "metadata": {
        "id": "1110a59b-467a-4cb7-9316-75521ac848c7"
      },
      "outputs": [],
      "source": []
    },
    {
      "cell_type": "markdown",
      "id": "d43fd3f0-883c-458d-afcd-afde62021ea7",
      "metadata": {
        "id": "d43fd3f0-883c-458d-afcd-afde62021ea7"
      },
      "source": [
        "# **SmartAg Model Performance Summary**\n",
        "\n",
        "The SmartAg system utilizes three separate machine learning models, each designed for a specific agricultural task. These models are integrated into a Raspberry Pi, where they run on a daily basis, providing real-time predictions and recommendations to farmers.\n",
        "\n",
        "## **Key Metrics Used:**\n",
        "\n",
        "Accuracy: Measures how well the models classify crops, soil types, and soil inputs.\n",
        "Precision: Ensures correct recommendations for farming decisions.\n",
        "Recall: Ensures minimal false negatives, preventing incorrect predictions.\n",
        "F1-Score: Balances precision and recall for optimal performance.\n",
        "Overfitting Analysis: Ensures the models generalize well to real-world data.\n",
        "\n",
        "## **Best Model & Implementation**\n",
        "\n",
        "Among the three models, the LightGBM Classifier emerged as the most reliable, achieving a 99% accuracy rate. This model proved to be the best due to its high efficiency, minimal overfitting, and ability to handle large agricultural datasets.\n",
        "\n",
        "However, hyperparameter tuning played a crucial role in optimizing the Random Forest classifier, which is responsible for predicting the best crop to plant based on soil nutrients. By fine-tuning specific parameters, we significantly improved its accuracy and generalization ability.\n",
        "\n",
        "### **Hyperparameter Tuning & Its Impact:**\n",
        "\n",
        "Hyperparameter tuning optimizes model settings to improve accuracy and efficiency. For the Random Forest classifier, adjusting key parameters helped to:\n",
        "\n",
        "**Reduce Overfitting:** Prevent memorization of training data.\n",
        "**Improve Accuracy:** Optimize decision splits for better predictions.\n",
        "**Enhance Model Efficiency:** Reduce computational load on the Raspberry Pi.\n",
        "\n",
        "### **Key Hyperparameters Tuned for Random Forest Classifier:**\n",
        "\n",
        "**n_estimators:** Number of trees in the forest. More trees generally improve accuracy.\n",
        "**max_depth:** Limits tree depth to prevent overfitting.\n",
        "**min_samples_split:** Ensures a minimum number of samples before splitting nodes.\n",
        "**min_samples_leaf:** Prevents small, unstable splits that lead to errors.\n",
        "**max_features:** Controls the number of features used in each decision split.\n",
        "**bootstrap:** Determines whether sampling is done with replacement.\n",
        "**criterion:** Measures split quality using gini or entropy.\n",
        "\n",
        "### **Daily Operation & Integration with Raspberry Pi:**\n",
        "\n",
        "The SmartAg system integrates all three models into a Raspberry Pi, where they operate autonomously.\n",
        "The models process soil, weather, and crop data daily, generating real-time predictions and recommendations for farmers.\n",
        "This ensures continuous monitoring of soil quality, crop health, and optimal farming practices.\n",
        "\n",
        "The combination of LightGBM and Random Forest models, along with careful hyperparameter tuning, allows SmartAg to deliver highly accurate, data-driven insights, improving agricultural productivity while minimizing resource waste."
      ]
    },
    {
      "cell_type": "code",
      "execution_count": null,
      "id": "444e87ca-6110-406d-a35f-0ed64d727d15",
      "metadata": {
        "id": "444e87ca-6110-406d-a35f-0ed64d727d15"
      },
      "outputs": [],
      "source": []
    },
    {
      "cell_type": "code",
      "execution_count": null,
      "id": "db609e45-434f-45f1-b798-5091e7ce4efe",
      "metadata": {
        "id": "db609e45-434f-45f1-b798-5091e7ce4efe"
      },
      "outputs": [],
      "source": []
    },
    {
      "cell_type": "markdown",
      "id": "15b253d1-bfdf-4f2f-8546-06112c4b5bec",
      "metadata": {
        "id": "15b253d1-bfdf-4f2f-8546-06112c4b5bec"
      },
      "source": [
        "## **3. Conclusion**\n",
        "   \n",
        "The SmartAg system leverages machine learning models to provide real-time agricultural insights by integrating them into a Raspberry Pi-based system. This project focused on developing and deploying three separate models for soil nutrient analysis, crop recommendation, and environmental monitoring.\n",
        "\n",
        "By utilizing historical soil data, weather conditions, and machine learning techniques, SmartAg enhances decision-making for farmers, optimizing crop selection and soil management. The LightGBM classifier proved to be the most effective model, achieving 99% accuracy, while hyperparameter tuning significantly improved the Random Forest classifier for precise crop prediction.\n",
        "\n",
        "The system runs daily, providing automated predictions and recommendations, contributing to better agricultural planning, resource optimization, and increased productivity. With continuous updates and refinements, SmartAg represents a step forward in integrating AI with precision farming, ensuring sustainability and food security in Uganda."
      ]
    },
    {
      "cell_type": "code",
      "execution_count": null,
      "id": "277159ce-8832-4fe1-b884-bc08a3564af7",
      "metadata": {
        "id": "277159ce-8832-4fe1-b884-bc08a3564af7"
      },
      "outputs": [],
      "source": []
    }
  ],
  "metadata": {
    "colab": {
      "provenance": []
    },
    "kernelspec": {
      "display_name": "Python 3 (ipykernel)",
      "language": "python",
      "name": "python3"
    },
    "language_info": {
      "codemirror_mode": {
        "name": "ipython",
        "version": 3
      },
      "file_extension": ".py",
      "mimetype": "text/x-python",
      "name": "python",
      "nbconvert_exporter": "python",
      "pygments_lexer": "ipython3",
      "version": "3.12.0"
    }
  },
  "nbformat": 4,
  "nbformat_minor": 5
}
